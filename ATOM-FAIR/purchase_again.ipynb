{
 "cells": [
  {
   "cell_type": "markdown",
   "metadata": {},
   "source": [
    "# Predictive Model"
   ]
  },
  {
   "cell_type": "markdown",
   "metadata": {},
   "source": [
    "The purpose of this part based on this mentality behind:\n",
    "**Treat your customers in a way they deserve before they expect that (e.g., LTV prediction) and act before something bad happens (e.g., churn)**\n",
    "\n",
    "Predictive analytics helps us a lot on this one. One of the many opportunities it can provide is predicting the next purchase products of the customer. What if we know if a customer is likely to by that products in next purchase?\n",
    "\n",
    "We can build our strategy on top of that and come up with lots of tactical actions like:\n",
    "* No promotional offer to this products since s/he will make a purchase anyways\n",
    "* Nudge the products with inbound marketing if there is no purchase products in the predicted order compared to the projection\n",
    "\n",
    "In this part, we will be using Instacrat Dataset and follow the steps below:"
   ]
  },
  {
   "cell_type": "markdown",
   "metadata": {},
   "source": [
    "## 1. Objectives\n",
    "The objective of this part is to predict which previously purchased products will be in a user’s next order."
   ]
  },
  {
   "cell_type": "markdown",
   "metadata": {},
   "source": [
    "## 2. Problem Definition\n",
    "Instacart dataset conclude the data as prior, train or test. Prior orders describe the past behaviour of a user while train and test orders regard the future behaviour that we need to predict. As our objective define, we want to predict which previously purchased products (prior orders) will be in a user’s next order (train and test orders). The problem is described as the firgue below:\n",
    "\n",
    "![problem](..\\img\\problem.PNG)\n",
    "\n",
    "Each user has purchased various products during their prior orders. Moreover, for each user we know the order_id of their future order. The goal is to predict which of these products will be in a user's future order. As our mission we need to come up and calculate various predictor variables (X) that will describe the characteristics of a product and the behaviour of a user regarding one or multiple products. We will do so by analysing the prior orders of the dataset. We will then use the train users to create a predictive model and the test users to make our actual prediction. As a result we create a table as the following one and we train an algorithm based on predictor variables (X) and response variable (Y).\n",
    "\n",
    "![predict_framework](..\\img\\predict_framework.PNG)"
   ]
  },
  {
   "cell_type": "markdown",
   "metadata": {},
   "source": [
    "## 3. Import and Data Processing"
   ]
  },
  {
   "cell_type": "markdown",
   "metadata": {},
   "source": [
    "### 3.1 Import packages"
   ]
  },
  {
   "cell_type": "code",
   "execution_count": 1,
   "metadata": {},
   "outputs": [],
   "source": [
    "# For data manipulation\n",
    "import pandas as pd         \n",
    "import numpy as np\n",
    "\n",
    "\n",
    "# Garbage Collector to free up memory\n",
    "import gc                         \n",
    "gc.enable()    # Activate "
   ]
  },
  {
   "cell_type": "markdown",
   "metadata": {},
   "source": [
    "### 3.2 Load the csv files"
   ]
  },
  {
   "cell_type": "code",
   "execution_count": 2,
   "metadata": {},
   "outputs": [],
   "source": [
    "orders = pd.read_csv('orders.csv')\n",
    "order_products_train = pd.read_csv('order_products__train.csv')\n",
    "order_products_prior = pd.read_csv('order_products__prior.csv')\n",
    "products = pd.read_csv('products.csv')\n",
    "aisles = pd.read_csv('aisles.csv')\n",
    "departments = pd.read_csv('departments.csv')"
   ]
  },
  {
   "cell_type": "code",
   "execution_count": 3,
   "metadata": {},
   "outputs": [
    {
     "output_type": "execute_result",
     "data": {
      "text/plain": [
       "   order_id  user_id eval_set  order_number  order_dow  order_hour_of_day  \\\n",
       "0   2539329        1    prior             1          2                  8   \n",
       "1   2398795        1    prior             2          3                  7   \n",
       "2    473747        1    prior             3          3                 12   \n",
       "3   2254736        1    prior             4          4                  7   \n",
       "4    431534        1    prior             5          4                 15   \n",
       "\n",
       "   days_since_prior_order  \n",
       "0                     NaN  \n",
       "1                    15.0  \n",
       "2                    21.0  \n",
       "3                    29.0  \n",
       "4                    28.0  "
      ],
      "text/html": "<div>\n<style scoped>\n    .dataframe tbody tr th:only-of-type {\n        vertical-align: middle;\n    }\n\n    .dataframe tbody tr th {\n        vertical-align: top;\n    }\n\n    .dataframe thead th {\n        text-align: right;\n    }\n</style>\n<table border=\"1\" class=\"dataframe\">\n  <thead>\n    <tr style=\"text-align: right;\">\n      <th></th>\n      <th>order_id</th>\n      <th>user_id</th>\n      <th>eval_set</th>\n      <th>order_number</th>\n      <th>order_dow</th>\n      <th>order_hour_of_day</th>\n      <th>days_since_prior_order</th>\n    </tr>\n  </thead>\n  <tbody>\n    <tr>\n      <th>0</th>\n      <td>2539329</td>\n      <td>1</td>\n      <td>prior</td>\n      <td>1</td>\n      <td>2</td>\n      <td>8</td>\n      <td>NaN</td>\n    </tr>\n    <tr>\n      <th>1</th>\n      <td>2398795</td>\n      <td>1</td>\n      <td>prior</td>\n      <td>2</td>\n      <td>3</td>\n      <td>7</td>\n      <td>15.0</td>\n    </tr>\n    <tr>\n      <th>2</th>\n      <td>473747</td>\n      <td>1</td>\n      <td>prior</td>\n      <td>3</td>\n      <td>3</td>\n      <td>12</td>\n      <td>21.0</td>\n    </tr>\n    <tr>\n      <th>3</th>\n      <td>2254736</td>\n      <td>1</td>\n      <td>prior</td>\n      <td>4</td>\n      <td>4</td>\n      <td>7</td>\n      <td>29.0</td>\n    </tr>\n    <tr>\n      <th>4</th>\n      <td>431534</td>\n      <td>1</td>\n      <td>prior</td>\n      <td>5</td>\n      <td>4</td>\n      <td>15</td>\n      <td>28.0</td>\n    </tr>\n  </tbody>\n</table>\n</div>"
     },
     "metadata": {},
     "execution_count": 3
    }
   ],
   "source": [
    "orders.head()"
   ]
  },
  {
   "cell_type": "code",
   "execution_count": 4,
   "metadata": {},
   "outputs": [
    {
     "output_type": "execute_result",
     "data": {
      "text/plain": [
       "   order_id  product_id  add_to_cart_order  reordered\n",
       "0         1       49302                  1          1\n",
       "1         1       11109                  2          1\n",
       "2         1       10246                  3          0\n",
       "3         1       49683                  4          0\n",
       "4         1       43633                  5          1"
      ],
      "text/html": "<div>\n<style scoped>\n    .dataframe tbody tr th:only-of-type {\n        vertical-align: middle;\n    }\n\n    .dataframe tbody tr th {\n        vertical-align: top;\n    }\n\n    .dataframe thead th {\n        text-align: right;\n    }\n</style>\n<table border=\"1\" class=\"dataframe\">\n  <thead>\n    <tr style=\"text-align: right;\">\n      <th></th>\n      <th>order_id</th>\n      <th>product_id</th>\n      <th>add_to_cart_order</th>\n      <th>reordered</th>\n    </tr>\n  </thead>\n  <tbody>\n    <tr>\n      <th>0</th>\n      <td>1</td>\n      <td>49302</td>\n      <td>1</td>\n      <td>1</td>\n    </tr>\n    <tr>\n      <th>1</th>\n      <td>1</td>\n      <td>11109</td>\n      <td>2</td>\n      <td>1</td>\n    </tr>\n    <tr>\n      <th>2</th>\n      <td>1</td>\n      <td>10246</td>\n      <td>3</td>\n      <td>0</td>\n    </tr>\n    <tr>\n      <th>3</th>\n      <td>1</td>\n      <td>49683</td>\n      <td>4</td>\n      <td>0</td>\n    </tr>\n    <tr>\n      <th>4</th>\n      <td>1</td>\n      <td>43633</td>\n      <td>5</td>\n      <td>1</td>\n    </tr>\n  </tbody>\n</table>\n</div>"
     },
     "metadata": {},
     "execution_count": 4
    }
   ],
   "source": [
    "order_products_train.head()"
   ]
  },
  {
   "cell_type": "code",
   "execution_count": 5,
   "metadata": {},
   "outputs": [
    {
     "output_type": "execute_result",
     "data": {
      "text/plain": [
       "   product_id                                       product_name  aisle_id  \\\n",
       "0           1                         Chocolate Sandwich Cookies        61   \n",
       "1           2                                   All-Seasons Salt       104   \n",
       "2           3               Robust Golden Unsweetened Oolong Tea        94   \n",
       "3           4  Smart Ones Classic Favorites Mini Rigatoni Wit...        38   \n",
       "4           5                          Green Chile Anytime Sauce         5   \n",
       "\n",
       "   department_id  \n",
       "0             19  \n",
       "1             13  \n",
       "2              7  \n",
       "3              1  \n",
       "4             13  "
      ],
      "text/html": "<div>\n<style scoped>\n    .dataframe tbody tr th:only-of-type {\n        vertical-align: middle;\n    }\n\n    .dataframe tbody tr th {\n        vertical-align: top;\n    }\n\n    .dataframe thead th {\n        text-align: right;\n    }\n</style>\n<table border=\"1\" class=\"dataframe\">\n  <thead>\n    <tr style=\"text-align: right;\">\n      <th></th>\n      <th>product_id</th>\n      <th>product_name</th>\n      <th>aisle_id</th>\n      <th>department_id</th>\n    </tr>\n  </thead>\n  <tbody>\n    <tr>\n      <th>0</th>\n      <td>1</td>\n      <td>Chocolate Sandwich Cookies</td>\n      <td>61</td>\n      <td>19</td>\n    </tr>\n    <tr>\n      <th>1</th>\n      <td>2</td>\n      <td>All-Seasons Salt</td>\n      <td>104</td>\n      <td>13</td>\n    </tr>\n    <tr>\n      <th>2</th>\n      <td>3</td>\n      <td>Robust Golden Unsweetened Oolong Tea</td>\n      <td>94</td>\n      <td>7</td>\n    </tr>\n    <tr>\n      <th>3</th>\n      <td>4</td>\n      <td>Smart Ones Classic Favorites Mini Rigatoni Wit...</td>\n      <td>38</td>\n      <td>1</td>\n    </tr>\n    <tr>\n      <th>4</th>\n      <td>5</td>\n      <td>Green Chile Anytime Sauce</td>\n      <td>5</td>\n      <td>13</td>\n    </tr>\n  </tbody>\n</table>\n</div>"
     },
     "metadata": {},
     "execution_count": 5
    }
   ],
   "source": [
    "products.head()"
   ]
  },
  {
   "cell_type": "code",
   "execution_count": 6,
   "metadata": {},
   "outputs": [
    {
     "output_type": "execute_result",
     "data": {
      "text/plain": [
       "   aisle_id                       aisle\n",
       "0         1       prepared soups salads\n",
       "1         2           specialty cheeses\n",
       "2         3         energy granola bars\n",
       "3         4               instant foods\n",
       "4         5  marinades meat preparation"
      ],
      "text/html": "<div>\n<style scoped>\n    .dataframe tbody tr th:only-of-type {\n        vertical-align: middle;\n    }\n\n    .dataframe tbody tr th {\n        vertical-align: top;\n    }\n\n    .dataframe thead th {\n        text-align: right;\n    }\n</style>\n<table border=\"1\" class=\"dataframe\">\n  <thead>\n    <tr style=\"text-align: right;\">\n      <th></th>\n      <th>aisle_id</th>\n      <th>aisle</th>\n    </tr>\n  </thead>\n  <tbody>\n    <tr>\n      <th>0</th>\n      <td>1</td>\n      <td>prepared soups salads</td>\n    </tr>\n    <tr>\n      <th>1</th>\n      <td>2</td>\n      <td>specialty cheeses</td>\n    </tr>\n    <tr>\n      <th>2</th>\n      <td>3</td>\n      <td>energy granola bars</td>\n    </tr>\n    <tr>\n      <th>3</th>\n      <td>4</td>\n      <td>instant foods</td>\n    </tr>\n    <tr>\n      <th>4</th>\n      <td>5</td>\n      <td>marinades meat preparation</td>\n    </tr>\n  </tbody>\n</table>\n</div>"
     },
     "metadata": {},
     "execution_count": 6
    }
   ],
   "source": [
    "aisles.head()"
   ]
  },
  {
   "cell_type": "code",
   "execution_count": 7,
   "metadata": {},
   "outputs": [
    {
     "output_type": "execute_result",
     "data": {
      "text/plain": [
       "   department_id department\n",
       "0              1     frozen\n",
       "1              2      other\n",
       "2              3     bakery\n",
       "3              4    produce\n",
       "4              5    alcohol"
      ],
      "text/html": "<div>\n<style scoped>\n    .dataframe tbody tr th:only-of-type {\n        vertical-align: middle;\n    }\n\n    .dataframe tbody tr th {\n        vertical-align: top;\n    }\n\n    .dataframe thead th {\n        text-align: right;\n    }\n</style>\n<table border=\"1\" class=\"dataframe\">\n  <thead>\n    <tr style=\"text-align: right;\">\n      <th></th>\n      <th>department_id</th>\n      <th>department</th>\n    </tr>\n  </thead>\n  <tbody>\n    <tr>\n      <th>0</th>\n      <td>1</td>\n      <td>frozen</td>\n    </tr>\n    <tr>\n      <th>1</th>\n      <td>2</td>\n      <td>other</td>\n    </tr>\n    <tr>\n      <th>2</th>\n      <td>3</td>\n      <td>bakery</td>\n    </tr>\n    <tr>\n      <th>3</th>\n      <td>4</td>\n      <td>produce</td>\n    </tr>\n    <tr>\n      <th>4</th>\n      <td>5</td>\n      <td>alcohol</td>\n    </tr>\n  </tbody>\n</table>\n</div>"
     },
     "metadata": {},
     "execution_count": 7
    }
   ],
   "source": [
    "departments.head()"
   ]
  },
  {
   "cell_type": "markdown",
   "metadata": {},
   "source": [
    "### 3.3 Convert character varibales into category"
   ]
  },
  {
   "cell_type": "code",
   "execution_count": 8,
   "metadata": {},
   "outputs": [],
   "source": [
    "aisles['aisle'] = aisles['aisle'].astype('category')\n",
    "departments['department'] = departments['department'].astype('category')\n",
    "orders['eval_set'] = orders['eval_set'].astype('category')\n",
    "products['product_name'] = products['product_name'].astype('category')"
   ]
  },
  {
   "cell_type": "markdown",
   "metadata": {},
   "source": [
    "### 3.4 Merge 'orders' with 'orders_products_prior' on Innner"
   ]
  },
  {
   "cell_type": "code",
   "execution_count": 9,
   "metadata": {},
   "outputs": [
    {
     "output_type": "execute_result",
     "data": {
      "text/plain": [
       "   order_id  user_id eval_set  order_number  order_dow  order_hour_of_day  \\\n",
       "0   2539329        1    prior             1          2                  8   \n",
       "1   2539329        1    prior             1          2                  8   \n",
       "2   2539329        1    prior             1          2                  8   \n",
       "3   2539329        1    prior             1          2                  8   \n",
       "4   2539329        1    prior             1          2                  8   \n",
       "\n",
       "   days_since_prior_order  product_id  add_to_cart_order  reordered  \n",
       "0                     NaN         196                  1          0  \n",
       "1                     NaN       14084                  2          0  \n",
       "2                     NaN       12427                  3          0  \n",
       "3                     NaN       26088                  4          0  \n",
       "4                     NaN       26405                  5          0  "
      ],
      "text/html": "<div>\n<style scoped>\n    .dataframe tbody tr th:only-of-type {\n        vertical-align: middle;\n    }\n\n    .dataframe tbody tr th {\n        vertical-align: top;\n    }\n\n    .dataframe thead th {\n        text-align: right;\n    }\n</style>\n<table border=\"1\" class=\"dataframe\">\n  <thead>\n    <tr style=\"text-align: right;\">\n      <th></th>\n      <th>order_id</th>\n      <th>user_id</th>\n      <th>eval_set</th>\n      <th>order_number</th>\n      <th>order_dow</th>\n      <th>order_hour_of_day</th>\n      <th>days_since_prior_order</th>\n      <th>product_id</th>\n      <th>add_to_cart_order</th>\n      <th>reordered</th>\n    </tr>\n  </thead>\n  <tbody>\n    <tr>\n      <th>0</th>\n      <td>2539329</td>\n      <td>1</td>\n      <td>prior</td>\n      <td>1</td>\n      <td>2</td>\n      <td>8</td>\n      <td>NaN</td>\n      <td>196</td>\n      <td>1</td>\n      <td>0</td>\n    </tr>\n    <tr>\n      <th>1</th>\n      <td>2539329</td>\n      <td>1</td>\n      <td>prior</td>\n      <td>1</td>\n      <td>2</td>\n      <td>8</td>\n      <td>NaN</td>\n      <td>14084</td>\n      <td>2</td>\n      <td>0</td>\n    </tr>\n    <tr>\n      <th>2</th>\n      <td>2539329</td>\n      <td>1</td>\n      <td>prior</td>\n      <td>1</td>\n      <td>2</td>\n      <td>8</td>\n      <td>NaN</td>\n      <td>12427</td>\n      <td>3</td>\n      <td>0</td>\n    </tr>\n    <tr>\n      <th>3</th>\n      <td>2539329</td>\n      <td>1</td>\n      <td>prior</td>\n      <td>1</td>\n      <td>2</td>\n      <td>8</td>\n      <td>NaN</td>\n      <td>26088</td>\n      <td>4</td>\n      <td>0</td>\n    </tr>\n    <tr>\n      <th>4</th>\n      <td>2539329</td>\n      <td>1</td>\n      <td>prior</td>\n      <td>1</td>\n      <td>2</td>\n      <td>8</td>\n      <td>NaN</td>\n      <td>26405</td>\n      <td>5</td>\n      <td>0</td>\n    </tr>\n  </tbody>\n</table>\n</div>"
     },
     "metadata": {},
     "execution_count": 9
    }
   ],
   "source": [
    "# Merge the orders with order_products_prior by their order_id, keep only these rows with order_id that they are appear on both dataframes\n",
    "prior = orders.merge(order_products_prior, on='order_id', how='inner')\n",
    "prior.head()"
   ]
  },
  {
   "cell_type": "markdown",
   "metadata": {},
   "source": [
    "This prior table contains for all the customers (user_id):\n",
    "*  the orders (order_id) that they have placed accompanied with\n",
    "*  the products (product_id) that have been bought in each order"
   ]
  },
  {
   "cell_type": "markdown",
   "metadata": {},
   "source": [
    "## 4. Create Predictor variables - X (based on prior table)"
   ]
  },
  {
   "cell_type": "markdown",
   "metadata": {},
   "source": [
    "We identify and calculate predictor variables based on the prior table. As well as we can create various types of predictors like:\n",
    "\n",
    "* **User predictors** : the behavior of a user e.g. total number of orders of a user.\n",
    "* **Product predictors** : characteristics of a product e.g. total number of times a product has been purchased, total products has been purchased in an order\n",
    "* **User & product predictors** : the behavior of a user towards a specific product e.g. total times a user ordered a specific product."
   ]
  },
  {
   "cell_type": "markdown",
   "metadata": {},
   "source": [
    "### 4.1 User predictors"
   ]
  },
  {
   "cell_type": "markdown",
   "metadata": {},
   "source": [
    "After deep dive into prior table, we decide to create two user predictors:\n",
    "* 4.1.1 Number of orders per customer\n",
    "* 4.1.2 How frequent a customer has reordered products"
   ]
  },
  {
   "cell_type": "markdown",
   "metadata": {},
   "source": [
    "#### 4.1.1 Number of orders per customer"
   ]
  },
  {
   "cell_type": "code",
   "execution_count": 10,
   "metadata": {},
   "outputs": [
    {
     "output_type": "execute_result",
     "data": {
      "text/plain": [
       "   user_id  u_total_orders\n",
       "0        1              10\n",
       "1        2              14\n",
       "2        3              12\n",
       "3        4               5\n",
       "4        5               4"
      ],
      "text/html": "<div>\n<style scoped>\n    .dataframe tbody tr th:only-of-type {\n        vertical-align: middle;\n    }\n\n    .dataframe tbody tr th {\n        vertical-align: top;\n    }\n\n    .dataframe thead th {\n        text-align: right;\n    }\n</style>\n<table border=\"1\" class=\"dataframe\">\n  <thead>\n    <tr style=\"text-align: right;\">\n      <th></th>\n      <th>user_id</th>\n      <th>u_total_orders</th>\n    </tr>\n  </thead>\n  <tbody>\n    <tr>\n      <th>0</th>\n      <td>1</td>\n      <td>10</td>\n    </tr>\n    <tr>\n      <th>1</th>\n      <td>2</td>\n      <td>14</td>\n    </tr>\n    <tr>\n      <th>2</th>\n      <td>3</td>\n      <td>12</td>\n    </tr>\n    <tr>\n      <th>3</th>\n      <td>4</td>\n      <td>5</td>\n    </tr>\n    <tr>\n      <th>4</th>\n      <td>5</td>\n      <td>4</td>\n    </tr>\n  </tbody>\n</table>\n</div>"
     },
     "metadata": {},
     "execution_count": 10
    }
   ],
   "source": [
    "# First group by user_id, then identify the highest order number in each group, save the new column to a DataFrame\n",
    "user = prior.groupby('user_id')['order_number'].max().to_frame('u_total_orders')\n",
    "\n",
    "# Reset the index of the table so to bring user_id from index to column\n",
    "user = user.reset_index()\n",
    "user.head()"
   ]
  },
  {
   "cell_type": "markdown",
   "metadata": {},
   "source": [
    "#### 4.1.2 How frequent a customer has reordered products"
   ]
  },
  {
   "cell_type": "markdown",
   "metadata": {},
   "source": [
    "This predictor feature is a ratio which shows for each user in what extent has products that have been reordered in the past:\n",
    "So we create the following ratio:\n",
    "\n",
    "![user_1](..\\img\\user_1.PNG)\n",
    "\n",
    "E.g: for a user that has ordered 8 products in total, where 3 times were reorders, the ratio will be:\n",
    "\n",
    "![user_2](..\\img\\user_2.PNG)"
   ]
  },
  {
   "cell_type": "code",
   "execution_count": 11,
   "metadata": {},
   "outputs": [
    {
     "output_type": "execute_result",
     "data": {
      "text/plain": [
       "   user_id  u_reordered_ratio\n",
       "0        1           0.694915\n",
       "1        2           0.476923\n",
       "2        3           0.625000\n",
       "3        4           0.055556\n",
       "4        5           0.378378"
      ],
      "text/html": "<div>\n<style scoped>\n    .dataframe tbody tr th:only-of-type {\n        vertical-align: middle;\n    }\n\n    .dataframe tbody tr th {\n        vertical-align: top;\n    }\n\n    .dataframe thead th {\n        text-align: right;\n    }\n</style>\n<table border=\"1\" class=\"dataframe\">\n  <thead>\n    <tr style=\"text-align: right;\">\n      <th></th>\n      <th>user_id</th>\n      <th>u_reordered_ratio</th>\n    </tr>\n  </thead>\n  <tbody>\n    <tr>\n      <th>0</th>\n      <td>1</td>\n      <td>0.694915</td>\n    </tr>\n    <tr>\n      <th>1</th>\n      <td>2</td>\n      <td>0.476923</td>\n    </tr>\n    <tr>\n      <th>2</th>\n      <td>3</td>\n      <td>0.625000</td>\n    </tr>\n    <tr>\n      <th>3</th>\n      <td>4</td>\n      <td>0.055556</td>\n    </tr>\n    <tr>\n      <th>4</th>\n      <td>5</td>\n      <td>0.378378</td>\n    </tr>\n  </tbody>\n</table>\n</div>"
     },
     "metadata": {},
     "execution_count": 11
    }
   ],
   "source": [
    "# To create the above ratio we groupby() prior table by each user and then calculate the mean of reordered\n",
    "u_reorder = prior.groupby('user_id')['reordered'].mean().to_frame('u_reordered_ratio')\n",
    "\n",
    "# Reset the index of the table so to bring user_id from index to column\n",
    "u_reorder = u_reorder.reset_index()\n",
    "u_reorder.head()"
   ]
  },
  {
   "cell_type": "code",
   "execution_count": 12,
   "metadata": {},
   "outputs": [
    {
     "output_type": "execute_result",
     "data": {
      "text/plain": [
       "   user_id  u_total_orders  u_reordered_ratio\n",
       "0        1              10           0.694915\n",
       "1        2              14           0.476923\n",
       "2        3              12           0.625000\n",
       "3        4               5           0.055556\n",
       "4        5               4           0.378378"
      ],
      "text/html": "<div>\n<style scoped>\n    .dataframe tbody tr th:only-of-type {\n        vertical-align: middle;\n    }\n\n    .dataframe tbody tr th {\n        vertical-align: top;\n    }\n\n    .dataframe thead th {\n        text-align: right;\n    }\n</style>\n<table border=\"1\" class=\"dataframe\">\n  <thead>\n    <tr style=\"text-align: right;\">\n      <th></th>\n      <th>user_id</th>\n      <th>u_total_orders</th>\n      <th>u_reordered_ratio</th>\n    </tr>\n  </thead>\n  <tbody>\n    <tr>\n      <th>0</th>\n      <td>1</td>\n      <td>10</td>\n      <td>0.694915</td>\n    </tr>\n    <tr>\n      <th>1</th>\n      <td>2</td>\n      <td>14</td>\n      <td>0.476923</td>\n    </tr>\n    <tr>\n      <th>2</th>\n      <td>3</td>\n      <td>12</td>\n      <td>0.625000</td>\n    </tr>\n    <tr>\n      <th>3</th>\n      <td>4</td>\n      <td>5</td>\n      <td>0.055556</td>\n    </tr>\n    <tr>\n      <th>4</th>\n      <td>5</td>\n      <td>4</td>\n      <td>0.378378</td>\n    </tr>\n  </tbody>\n</table>\n</div>"
     },
     "metadata": {},
     "execution_count": 12
    }
   ],
   "source": [
    "# Merge two user predictor into one table\n",
    "\n",
    "user = user.merge(u_reorder, on='user_id', how='left')\n",
    "\n",
    "del u_reorder\n",
    "gc.collect()\n",
    "\n",
    "user.head()"
   ]
  },
  {
   "cell_type": "markdown",
   "metadata": {},
   "source": [
    "### 4.2 Product predictors\n",
    "\n",
    "Similar to user predictors, we decide to create three product predictors:\n",
    "* 4.2.1 Number of purchases for each product\n",
    "* 4.2.2 What is the probability for a product to be reordered\n",
    "* 4.2.3 The position of add-to-cart"
   ]
  },
  {
   "cell_type": "markdown",
   "metadata": {},
   "source": [
    "#### 4.2.1 Number of purchases for each product"
   ]
  },
  {
   "cell_type": "markdown",
   "metadata": {},
   "source": [
    "We calculate the total number of purchases for each product. We create a product DataFrame to store the results."
   ]
  },
  {
   "cell_type": "code",
   "execution_count": 13,
   "metadata": {},
   "outputs": [
    {
     "output_type": "execute_result",
     "data": {
      "text/plain": [
       "   product_id  p_total_purchases\n",
       "0           1               1852\n",
       "1           2                 90\n",
       "2           3                277\n",
       "3           4                329\n",
       "4           5                 15"
      ],
      "text/html": "<div>\n<style scoped>\n    .dataframe tbody tr th:only-of-type {\n        vertical-align: middle;\n    }\n\n    .dataframe tbody tr th {\n        vertical-align: top;\n    }\n\n    .dataframe thead th {\n        text-align: right;\n    }\n</style>\n<table border=\"1\" class=\"dataframe\">\n  <thead>\n    <tr style=\"text-align: right;\">\n      <th></th>\n      <th>product_id</th>\n      <th>p_total_purchases</th>\n    </tr>\n  </thead>\n  <tbody>\n    <tr>\n      <th>0</th>\n      <td>1</td>\n      <td>1852</td>\n    </tr>\n    <tr>\n      <th>1</th>\n      <td>2</td>\n      <td>90</td>\n    </tr>\n    <tr>\n      <th>2</th>\n      <td>3</td>\n      <td>277</td>\n    </tr>\n    <tr>\n      <th>3</th>\n      <td>4</td>\n      <td>329</td>\n    </tr>\n    <tr>\n      <th>4</th>\n      <td>5</td>\n      <td>15</td>\n    </tr>\n  </tbody>\n</table>\n</div>"
     },
     "metadata": {},
     "execution_count": 13
    }
   ],
   "source": [
    "# First create group by product_id, then count the orders, save the result for each product to a new DataFrame  \n",
    "product = prior.groupby('product_id')['order_id'].count().to_frame('p_total_purchases')\n",
    "\n",
    "# Reset the index of the table so to bring product_id rom index to column\n",
    "product = product.reset_index()\n",
    "product.head()"
   ]
  },
  {
   "cell_type": "markdown",
   "metadata": {},
   "source": [
    "#### 4.2.2 What is the probability for a product to be reordered"
   ]
  },
  {
   "cell_type": "markdown",
   "metadata": {},
   "source": [
    "We want to find the products which have the highest probability of being reordered. Towards this end it is necessary to define the probability as below:\n",
    "\n",
    "![user_3](..\\img\\user_3.PNG)\n",
    "\n",
    "Eg: The product with product_id=3 is included in 277 purchases but only 20 are reorders. So we have the ratio:\n",
    "\n",
    "![user_4](..\\img\\user_4.PNG)"
   ]
  },
  {
   "cell_type": "markdown",
   "metadata": {},
   "source": [
    "First, remove products with less than 40 purchases - Filter with .shape[[0]] mean the number of rows in order to the calculation of the afore mentioned ratio to be meaningful."
   ]
  },
  {
   "cell_type": "code",
   "execution_count": 14,
   "metadata": {},
   "outputs": [
    {
     "output_type": "execute_result",
     "data": {
      "text/plain": [
       "   order_id  user_id eval_set  order_number  order_dow  order_hour_of_day  \\\n",
       "0   2539329        1    prior             1          2                  8   \n",
       "1   2539329        1    prior             1          2                  8   \n",
       "2   2539329        1    prior             1          2                  8   \n",
       "3   2539329        1    prior             1          2                  8   \n",
       "4   2539329        1    prior             1          2                  8   \n",
       "\n",
       "   days_since_prior_order  product_id  add_to_cart_order  reordered  \n",
       "0                     NaN         196                  1          0  \n",
       "1                     NaN       14084                  2          0  \n",
       "2                     NaN       12427                  3          0  \n",
       "3                     NaN       26088                  4          0  \n",
       "4                     NaN       26405                  5          0  "
      ],
      "text/html": "<div>\n<style scoped>\n    .dataframe tbody tr th:only-of-type {\n        vertical-align: middle;\n    }\n\n    .dataframe tbody tr th {\n        vertical-align: top;\n    }\n\n    .dataframe thead th {\n        text-align: right;\n    }\n</style>\n<table border=\"1\" class=\"dataframe\">\n  <thead>\n    <tr style=\"text-align: right;\">\n      <th></th>\n      <th>order_id</th>\n      <th>user_id</th>\n      <th>eval_set</th>\n      <th>order_number</th>\n      <th>order_dow</th>\n      <th>order_hour_of_day</th>\n      <th>days_since_prior_order</th>\n      <th>product_id</th>\n      <th>add_to_cart_order</th>\n      <th>reordered</th>\n    </tr>\n  </thead>\n  <tbody>\n    <tr>\n      <th>0</th>\n      <td>2539329</td>\n      <td>1</td>\n      <td>prior</td>\n      <td>1</td>\n      <td>2</td>\n      <td>8</td>\n      <td>NaN</td>\n      <td>196</td>\n      <td>1</td>\n      <td>0</td>\n    </tr>\n    <tr>\n      <th>1</th>\n      <td>2539329</td>\n      <td>1</td>\n      <td>prior</td>\n      <td>1</td>\n      <td>2</td>\n      <td>8</td>\n      <td>NaN</td>\n      <td>14084</td>\n      <td>2</td>\n      <td>0</td>\n    </tr>\n    <tr>\n      <th>2</th>\n      <td>2539329</td>\n      <td>1</td>\n      <td>prior</td>\n      <td>1</td>\n      <td>2</td>\n      <td>8</td>\n      <td>NaN</td>\n      <td>12427</td>\n      <td>3</td>\n      <td>0</td>\n    </tr>\n    <tr>\n      <th>3</th>\n      <td>2539329</td>\n      <td>1</td>\n      <td>prior</td>\n      <td>1</td>\n      <td>2</td>\n      <td>8</td>\n      <td>NaN</td>\n      <td>26088</td>\n      <td>4</td>\n      <td>0</td>\n    </tr>\n    <tr>\n      <th>4</th>\n      <td>2539329</td>\n      <td>1</td>\n      <td>prior</td>\n      <td>1</td>\n      <td>2</td>\n      <td>8</td>\n      <td>NaN</td>\n      <td>26405</td>\n      <td>5</td>\n      <td>0</td>\n    </tr>\n  </tbody>\n</table>\n</div>"
     },
     "metadata": {},
     "execution_count": 14
    }
   ],
   "source": [
    "# the x on lambda function is a temporary variable which represents each group\n",
    "p_reorder = prior.groupby('product_id').filter(lambda x: x.shape[0] >40)\n",
    "p_reorder.head()"
   ]
  },
  {
   "cell_type": "code",
   "execution_count": 15,
   "metadata": {},
   "outputs": [
    {
     "output_type": "execute_result",
     "data": {
      "text/plain": [
       "   product_id  p_reorder_ratio\n",
       "0           1         0.613391\n",
       "1           2         0.133333\n",
       "2           3         0.732852\n",
       "3           4         0.446809\n",
       "4           8         0.503030"
      ],
      "text/html": "<div>\n<style scoped>\n    .dataframe tbody tr th:only-of-type {\n        vertical-align: middle;\n    }\n\n    .dataframe tbody tr th {\n        vertical-align: top;\n    }\n\n    .dataframe thead th {\n        text-align: right;\n    }\n</style>\n<table border=\"1\" class=\"dataframe\">\n  <thead>\n    <tr style=\"text-align: right;\">\n      <th></th>\n      <th>product_id</th>\n      <th>p_reorder_ratio</th>\n    </tr>\n  </thead>\n  <tbody>\n    <tr>\n      <th>0</th>\n      <td>1</td>\n      <td>0.613391</td>\n    </tr>\n    <tr>\n      <th>1</th>\n      <td>2</td>\n      <td>0.133333</td>\n    </tr>\n    <tr>\n      <th>2</th>\n      <td>3</td>\n      <td>0.732852</td>\n    </tr>\n    <tr>\n      <th>3</th>\n      <td>4</td>\n      <td>0.446809</td>\n    </tr>\n    <tr>\n      <th>4</th>\n      <td>8</td>\n      <td>0.503030</td>\n    </tr>\n  </tbody>\n</table>\n</div>"
     },
     "metadata": {},
     "execution_count": 15
    }
   ],
   "source": [
    "# To create the above ratio we groupby() prior table by each product and then calculate the mean of reordered\n",
    "p_reorder = p_reorder.groupby('product_id')['reordered'].mean().to_frame('p_reorder_ratio')\n",
    "\n",
    "# Reset the index of the table so to bring user_id from index to column\n",
    "p_reorder = p_reorder.reset_index()\n",
    "p_reorder.head()"
   ]
  },
  {
   "cell_type": "markdown",
   "metadata": {},
   "source": [
    "#### 4.2.3 The position of add-to-cart"
   ]
  },
  {
   "cell_type": "code",
   "execution_count": 16,
   "metadata": {},
   "outputs": [
    {
     "output_type": "execute_result",
     "data": {
      "text/plain": [
       "   product_id  position_to_cart\n",
       "0           1          5.801836\n",
       "1           2          9.888889\n",
       "2           3          6.415162\n",
       "3           4          9.507599\n",
       "4           5          6.466667"
      ],
      "text/html": "<div>\n<style scoped>\n    .dataframe tbody tr th:only-of-type {\n        vertical-align: middle;\n    }\n\n    .dataframe tbody tr th {\n        vertical-align: top;\n    }\n\n    .dataframe thead th {\n        text-align: right;\n    }\n</style>\n<table border=\"1\" class=\"dataframe\">\n  <thead>\n    <tr style=\"text-align: right;\">\n      <th></th>\n      <th>product_id</th>\n      <th>position_to_cart</th>\n    </tr>\n  </thead>\n  <tbody>\n    <tr>\n      <th>0</th>\n      <td>1</td>\n      <td>5.801836</td>\n    </tr>\n    <tr>\n      <th>1</th>\n      <td>2</td>\n      <td>9.888889</td>\n    </tr>\n    <tr>\n      <th>2</th>\n      <td>3</td>\n      <td>6.415162</td>\n    </tr>\n    <tr>\n      <th>3</th>\n      <td>4</td>\n      <td>9.507599</td>\n    </tr>\n    <tr>\n      <th>4</th>\n      <td>5</td>\n      <td>6.466667</td>\n    </tr>\n  </tbody>\n</table>\n</div>"
     },
     "metadata": {},
     "execution_count": 16
    }
   ],
   "source": [
    "Addtocart=prior.groupby('product_id')['add_to_cart_order'].mean().to_frame('position_to_cart')\n",
    "Addtocart = Addtocart.reset_index()\n",
    "\n",
    "Addtocart.head()"
   ]
  },
  {
   "cell_type": "code",
   "execution_count": 17,
   "metadata": {},
   "outputs": [
    {
     "output_type": "execute_result",
     "data": {
      "text/plain": [
       "   product_id  p_total_purchases  p_reorder_ratio\n",
       "0           1               1852         0.613391\n",
       "1           2                 90         0.133333\n",
       "2           3                277         0.732852\n",
       "3           4                329         0.446809\n",
       "4           5                 15              NaN"
      ],
      "text/html": "<div>\n<style scoped>\n    .dataframe tbody tr th:only-of-type {\n        vertical-align: middle;\n    }\n\n    .dataframe tbody tr th {\n        vertical-align: top;\n    }\n\n    .dataframe thead th {\n        text-align: right;\n    }\n</style>\n<table border=\"1\" class=\"dataframe\">\n  <thead>\n    <tr style=\"text-align: right;\">\n      <th></th>\n      <th>product_id</th>\n      <th>p_total_purchases</th>\n      <th>p_reorder_ratio</th>\n    </tr>\n  </thead>\n  <tbody>\n    <tr>\n      <th>0</th>\n      <td>1</td>\n      <td>1852</td>\n      <td>0.613391</td>\n    </tr>\n    <tr>\n      <th>1</th>\n      <td>2</td>\n      <td>90</td>\n      <td>0.133333</td>\n    </tr>\n    <tr>\n      <th>2</th>\n      <td>3</td>\n      <td>277</td>\n      <td>0.732852</td>\n    </tr>\n    <tr>\n      <th>3</th>\n      <td>4</td>\n      <td>329</td>\n      <td>0.446809</td>\n    </tr>\n    <tr>\n      <th>4</th>\n      <td>5</td>\n      <td>15</td>\n      <td>NaN</td>\n    </tr>\n  </tbody>\n</table>\n</div>"
     },
     "metadata": {},
     "execution_count": 17
    }
   ],
   "source": [
    "# Merge product with p_reorder into one table\n",
    "\n",
    "product = product.merge(p_reorder, on='product_id', how='left')\n",
    "\n",
    "# delete the reorder table\n",
    "del p_reorder\n",
    "gc.collect()\n",
    "\n",
    "product.head()"
   ]
  },
  {
   "cell_type": "code",
   "execution_count": 18,
   "metadata": {},
   "outputs": [
    {
     "output_type": "execute_result",
     "data": {
      "text/plain": [
       "   product_id  p_total_purchases  p_reorder_ratio  position_to_cart\n",
       "0           1               1852         0.613391          5.801836\n",
       "1           2                 90         0.133333          9.888889\n",
       "2           3                277         0.732852          6.415162\n",
       "3           4                329         0.446809          9.507599\n",
       "4           5                 15              NaN          6.466667"
      ],
      "text/html": "<div>\n<style scoped>\n    .dataframe tbody tr th:only-of-type {\n        vertical-align: middle;\n    }\n\n    .dataframe tbody tr th {\n        vertical-align: top;\n    }\n\n    .dataframe thead th {\n        text-align: right;\n    }\n</style>\n<table border=\"1\" class=\"dataframe\">\n  <thead>\n    <tr style=\"text-align: right;\">\n      <th></th>\n      <th>product_id</th>\n      <th>p_total_purchases</th>\n      <th>p_reorder_ratio</th>\n      <th>position_to_cart</th>\n    </tr>\n  </thead>\n  <tbody>\n    <tr>\n      <th>0</th>\n      <td>1</td>\n      <td>1852</td>\n      <td>0.613391</td>\n      <td>5.801836</td>\n    </tr>\n    <tr>\n      <th>1</th>\n      <td>2</td>\n      <td>90</td>\n      <td>0.133333</td>\n      <td>9.888889</td>\n    </tr>\n    <tr>\n      <th>2</th>\n      <td>3</td>\n      <td>277</td>\n      <td>0.732852</td>\n      <td>6.415162</td>\n    </tr>\n    <tr>\n      <th>3</th>\n      <td>4</td>\n      <td>329</td>\n      <td>0.446809</td>\n      <td>9.507599</td>\n    </tr>\n    <tr>\n      <th>4</th>\n      <td>5</td>\n      <td>15</td>\n      <td>NaN</td>\n      <td>6.466667</td>\n    </tr>\n  </tbody>\n</table>\n</div>"
     },
     "metadata": {},
     "execution_count": 18
    }
   ],
   "source": [
    "# Merge the product table with Addtocart\n",
    "product = product.merge(Addtocart, on='product_id',how='left')\n",
    "\n",
    "# delete the Addtocart df\n",
    "del Addtocart\n",
    "gc.collect()\n",
    "product.head()"
   ]
  },
  {
   "cell_type": "markdown",
   "metadata": {},
   "source": [
    "As we performed a left join with product DataFrame, all the rows with products that had less than 40 purchases from all users, will get a NaN value. So, we have to fill NaN values"
   ]
  },
  {
   "cell_type": "code",
   "execution_count": 19,
   "metadata": {},
   "outputs": [
    {
     "output_type": "execute_result",
     "data": {
      "text/plain": [
       "   product_id  p_total_purchases  p_reorder_ratio  position_to_cart\n",
       "0           1               1852         0.613391          5.801836\n",
       "1           2                 90         0.133333          9.888889\n",
       "2           3                277         0.732852          6.415162\n",
       "3           4                329         0.446809          9.507599\n",
       "4           5                 15         0.000000          6.466667"
      ],
      "text/html": "<div>\n<style scoped>\n    .dataframe tbody tr th:only-of-type {\n        vertical-align: middle;\n    }\n\n    .dataframe tbody tr th {\n        vertical-align: top;\n    }\n\n    .dataframe thead th {\n        text-align: right;\n    }\n</style>\n<table border=\"1\" class=\"dataframe\">\n  <thead>\n    <tr style=\"text-align: right;\">\n      <th></th>\n      <th>product_id</th>\n      <th>p_total_purchases</th>\n      <th>p_reorder_ratio</th>\n      <th>position_to_cart</th>\n    </tr>\n  </thead>\n  <tbody>\n    <tr>\n      <th>0</th>\n      <td>1</td>\n      <td>1852</td>\n      <td>0.613391</td>\n      <td>5.801836</td>\n    </tr>\n    <tr>\n      <th>1</th>\n      <td>2</td>\n      <td>90</td>\n      <td>0.133333</td>\n      <td>9.888889</td>\n    </tr>\n    <tr>\n      <th>2</th>\n      <td>3</td>\n      <td>277</td>\n      <td>0.732852</td>\n      <td>6.415162</td>\n    </tr>\n    <tr>\n      <th>3</th>\n      <td>4</td>\n      <td>329</td>\n      <td>0.446809</td>\n      <td>9.507599</td>\n    </tr>\n    <tr>\n      <th>4</th>\n      <td>5</td>\n      <td>15</td>\n      <td>0.000000</td>\n      <td>6.466667</td>\n    </tr>\n  </tbody>\n</table>\n</div>"
     },
     "metadata": {},
     "execution_count": 19
    }
   ],
   "source": [
    "product['p_reorder_ratio'] = product['p_reorder_ratio'].fillna(value=0)\n",
    "product.head()"
   ]
  },
  {
   "cell_type": "markdown",
   "metadata": {},
   "source": [
    "### 4.3 User-Product pair predictors"
   ]
  },
  {
   "cell_type": "markdown",
   "metadata": {},
   "source": [
    "We create the following predictors:\n",
    "\n",
    "* 4.3.1 How many times a user bought a product\n",
    "* 4.3.2 How frequently a customer bought a product after its first purchase\n",
    "* 4.3.3 How many times a customer bought a product on its last 5 orders"
   ]
  },
  {
   "cell_type": "markdown",
   "metadata": {},
   "source": [
    "#### 4.3.1 How many times a user bought a product"
   ]
  },
  {
   "cell_type": "code",
   "execution_count": 20,
   "metadata": {},
   "outputs": [
    {
     "output_type": "execute_result",
     "data": {
      "text/plain": [
       "   user_id  product_id  up_total_bought\n",
       "0        1         196               10\n",
       "1        1       10258                9\n",
       "2        1       10326                1\n",
       "3        1       12427               10\n",
       "4        1       13032                3"
      ],
      "text/html": "<div>\n<style scoped>\n    .dataframe tbody tr th:only-of-type {\n        vertical-align: middle;\n    }\n\n    .dataframe tbody tr th {\n        vertical-align: top;\n    }\n\n    .dataframe thead th {\n        text-align: right;\n    }\n</style>\n<table border=\"1\" class=\"dataframe\">\n  <thead>\n    <tr style=\"text-align: right;\">\n      <th></th>\n      <th>user_id</th>\n      <th>product_id</th>\n      <th>up_total_bought</th>\n    </tr>\n  </thead>\n  <tbody>\n    <tr>\n      <th>0</th>\n      <td>1</td>\n      <td>196</td>\n      <td>10</td>\n    </tr>\n    <tr>\n      <th>1</th>\n      <td>1</td>\n      <td>10258</td>\n      <td>9</td>\n    </tr>\n    <tr>\n      <th>2</th>\n      <td>1</td>\n      <td>10326</td>\n      <td>1</td>\n    </tr>\n    <tr>\n      <th>3</th>\n      <td>1</td>\n      <td>12427</td>\n      <td>10</td>\n    </tr>\n    <tr>\n      <th>4</th>\n      <td>1</td>\n      <td>13032</td>\n      <td>3</td>\n    </tr>\n  </tbody>\n</table>\n</div>"
     },
     "metadata": {},
     "execution_count": 20
    }
   ],
   "source": [
    "# Create distinct groups for each pair of user and product, count orders, save the result for each user X product to a new DataFrame \n",
    "up = prior.groupby(['user_id', 'product_id'])['order_id'].count().to_frame('up_total_bought')\n",
    "\n",
    "# Reset the index of the table so to bring user_id & product_id rom indices to columns\n",
    "up = up.reset_index()\n",
    "up.head()"
   ]
  },
  {
   "cell_type": "markdown",
   "metadata": {},
   "source": [
    "#### 4.3.2 How frequently a customer bought a product after its first purchase"
   ]
  },
  {
   "cell_type": "markdown",
   "metadata": {},
   "source": [
    "This ratio is a metric that describes how many times a user bought a product out of how many times she had the chance to a buy it (starting from her first purchase of the product)\n",
    "\n",
    "![user_5](..\\img\\user_5.PNG)\n",
    "\n",
    "Eg: We examine the use with user_id:1 and the product with product_id:13032. **User 1 has made 10 orders in total. She has bought the product 13032 for first time in her 2nd order and she has bought the same product 3 times in total. The user was able to buy the product 9 times** (starting from her 2nd order until her last order). As a result, **she has bought it 3 out of 9 times, meaning reorder_ratio = 3/9 = 0,333**\n"
   ]
  },
  {
   "cell_type": "markdown",
   "metadata": {},
   "source": [
    "Let's calculate this predictor feature:\n",
    "\n",
    "Firstly, we calculate the total time a user bought a product"
   ]
  },
  {
   "cell_type": "code",
   "execution_count": 21,
   "metadata": {},
   "outputs": [
    {
     "output_type": "execute_result",
     "data": {
      "text/plain": [
       "                    times_bought\n",
       "user_id product_id              \n",
       "1       196                   10\n",
       "        10258                  9\n",
       "        10326                  1\n",
       "        12427                 10\n",
       "        13032                  3"
      ],
      "text/html": "<div>\n<style scoped>\n    .dataframe tbody tr th:only-of-type {\n        vertical-align: middle;\n    }\n\n    .dataframe tbody tr th {\n        vertical-align: top;\n    }\n\n    .dataframe thead th {\n        text-align: right;\n    }\n</style>\n<table border=\"1\" class=\"dataframe\">\n  <thead>\n    <tr style=\"text-align: right;\">\n      <th></th>\n      <th></th>\n      <th>times_bought</th>\n    </tr>\n    <tr>\n      <th>user_id</th>\n      <th>product_id</th>\n      <th></th>\n    </tr>\n  </thead>\n  <tbody>\n    <tr>\n      <th rowspan=\"5\" valign=\"top\">1</th>\n      <th>196</th>\n      <td>10</td>\n    </tr>\n    <tr>\n      <th>10258</th>\n      <td>9</td>\n    </tr>\n    <tr>\n      <th>10326</th>\n      <td>1</td>\n    </tr>\n    <tr>\n      <th>12427</th>\n      <td>10</td>\n    </tr>\n    <tr>\n      <th>13032</th>\n      <td>3</td>\n    </tr>\n  </tbody>\n</table>\n</div>"
     },
     "metadata": {},
     "execution_count": 21
    }
   ],
   "source": [
    "# First calculate the total time a user bought a product by simply group by user_id, product_id then count the total order_id\n",
    "\n",
    "times = prior.groupby(['user_id', 'product_id'])[['order_id']].count()\n",
    "times.columns = ['times_bought']\n",
    "times.head()"
   ]
  },
  {
   "cell_type": "markdown",
   "metadata": {},
   "source": [
    "Secondly, we calculate the total order placed since the first user's order of a product by finding the two sub-metrics: **total_orders** & **first_order_no**"
   ]
  },
  {
   "cell_type": "code",
   "execution_count": 22,
   "metadata": {},
   "outputs": [
    {
     "output_type": "execute_result",
     "data": {
      "text/plain": [
       "         total_orders\n",
       "user_id              \n",
       "1                  10\n",
       "2                  14\n",
       "3                  12\n",
       "4                   5\n",
       "5                   4"
      ],
      "text/html": "<div>\n<style scoped>\n    .dataframe tbody tr th:only-of-type {\n        vertical-align: middle;\n    }\n\n    .dataframe tbody tr th {\n        vertical-align: top;\n    }\n\n    .dataframe thead th {\n        text-align: right;\n    }\n</style>\n<table border=\"1\" class=\"dataframe\">\n  <thead>\n    <tr style=\"text-align: right;\">\n      <th></th>\n      <th>total_orders</th>\n    </tr>\n    <tr>\n      <th>user_id</th>\n      <th></th>\n    </tr>\n  </thead>\n  <tbody>\n    <tr>\n      <th>1</th>\n      <td>10</td>\n    </tr>\n    <tr>\n      <th>2</th>\n      <td>14</td>\n    </tr>\n    <tr>\n      <th>3</th>\n      <td>12</td>\n    </tr>\n    <tr>\n      <th>4</th>\n      <td>5</td>\n    </tr>\n    <tr>\n      <th>5</th>\n      <td>4</td>\n    </tr>\n  </tbody>\n</table>\n</div>"
     },
     "metadata": {},
     "execution_count": 22
    }
   ],
   "source": [
    "# Calculate total orders by group by user_id then specify the max number of order number\n",
    "total_orders = prior.groupby('user_id')['order_number'].max().to_frame('total_orders')\n",
    "\n",
    "total_orders.head()"
   ]
  },
  {
   "cell_type": "code",
   "execution_count": 23,
   "metadata": {},
   "outputs": [
    {
     "output_type": "execute_result",
     "data": {
      "text/plain": [
       "   user_id  product_id  first_order_number\n",
       "0        1         196                   1\n",
       "1        1       10258                   2\n",
       "2        1       10326                   5\n",
       "3        1       12427                   1\n",
       "4        1       13032                   2"
      ],
      "text/html": "<div>\n<style scoped>\n    .dataframe tbody tr th:only-of-type {\n        vertical-align: middle;\n    }\n\n    .dataframe tbody tr th {\n        vertical-align: top;\n    }\n\n    .dataframe thead th {\n        text-align: right;\n    }\n</style>\n<table border=\"1\" class=\"dataframe\">\n  <thead>\n    <tr style=\"text-align: right;\">\n      <th></th>\n      <th>user_id</th>\n      <th>product_id</th>\n      <th>first_order_number</th>\n    </tr>\n  </thead>\n  <tbody>\n    <tr>\n      <th>0</th>\n      <td>1</td>\n      <td>196</td>\n      <td>1</td>\n    </tr>\n    <tr>\n      <th>1</th>\n      <td>1</td>\n      <td>10258</td>\n      <td>2</td>\n    </tr>\n    <tr>\n      <th>2</th>\n      <td>1</td>\n      <td>10326</td>\n      <td>5</td>\n    </tr>\n    <tr>\n      <th>3</th>\n      <td>1</td>\n      <td>12427</td>\n      <td>1</td>\n    </tr>\n    <tr>\n      <th>4</th>\n      <td>1</td>\n      <td>13032</td>\n      <td>2</td>\n    </tr>\n  </tbody>\n</table>\n</div>"
     },
     "metadata": {},
     "execution_count": 23
    }
   ],
   "source": [
    "# Calculate first order number by group by user_id, product_id then specify the min number of order number\n",
    "first_order_no = prior.groupby(['user_id', 'product_id'])['order_number'].min().to_frame('first_order_number')\n",
    "first_order_no  = first_order_no.reset_index()\n",
    "first_order_no.head()"
   ]
  },
  {
   "cell_type": "code",
   "execution_count": 24,
   "metadata": {},
   "outputs": [
    {
     "output_type": "execute_result",
     "data": {
      "text/plain": [
       "   user_id  total_orders  product_id  first_order_number\n",
       "0        1            10         196                   1\n",
       "1        1            10       10258                   2\n",
       "2        1            10       10326                   5\n",
       "3        1            10       12427                   1\n",
       "4        1            10       13032                   2"
      ],
      "text/html": "<div>\n<style scoped>\n    .dataframe tbody tr th:only-of-type {\n        vertical-align: middle;\n    }\n\n    .dataframe tbody tr th {\n        vertical-align: top;\n    }\n\n    .dataframe thead th {\n        text-align: right;\n    }\n</style>\n<table border=\"1\" class=\"dataframe\">\n  <thead>\n    <tr style=\"text-align: right;\">\n      <th></th>\n      <th>user_id</th>\n      <th>total_orders</th>\n      <th>product_id</th>\n      <th>first_order_number</th>\n    </tr>\n  </thead>\n  <tbody>\n    <tr>\n      <th>0</th>\n      <td>1</td>\n      <td>10</td>\n      <td>196</td>\n      <td>1</td>\n    </tr>\n    <tr>\n      <th>1</th>\n      <td>1</td>\n      <td>10</td>\n      <td>10258</td>\n      <td>2</td>\n    </tr>\n    <tr>\n      <th>2</th>\n      <td>1</td>\n      <td>10</td>\n      <td>10326</td>\n      <td>5</td>\n    </tr>\n    <tr>\n      <th>3</th>\n      <td>1</td>\n      <td>10</td>\n      <td>12427</td>\n      <td>1</td>\n    </tr>\n    <tr>\n      <th>4</th>\n      <td>1</td>\n      <td>10</td>\n      <td>13032</td>\n      <td>2</td>\n    </tr>\n  </tbody>\n</table>\n</div>"
     },
     "metadata": {},
     "execution_count": 24
    }
   ],
   "source": [
    "# Merge total_order with first_order_number with right join to keep product_id\n",
    "order_since_first = pd.merge(total_orders, first_order_no, on='user_id', how='right')\n",
    "\n",
    "order_since_first.head()"
   ]
  },
  {
   "cell_type": "code",
   "execution_count": 25,
   "metadata": {},
   "outputs": [
    {
     "output_type": "execute_result",
     "data": {
      "text/plain": [
       "   user_id  total_orders  product_id  first_order_number  order_range\n",
       "0        1            10         196                   1           10\n",
       "1        1            10       10258                   2            9\n",
       "2        1            10       10326                   5            6\n",
       "3        1            10       12427                   1           10\n",
       "4        1            10       13032                   2            9"
      ],
      "text/html": "<div>\n<style scoped>\n    .dataframe tbody tr th:only-of-type {\n        vertical-align: middle;\n    }\n\n    .dataframe tbody tr th {\n        vertical-align: top;\n    }\n\n    .dataframe thead th {\n        text-align: right;\n    }\n</style>\n<table border=\"1\" class=\"dataframe\">\n  <thead>\n    <tr style=\"text-align: right;\">\n      <th></th>\n      <th>user_id</th>\n      <th>total_orders</th>\n      <th>product_id</th>\n      <th>first_order_number</th>\n      <th>order_range</th>\n    </tr>\n  </thead>\n  <tbody>\n    <tr>\n      <th>0</th>\n      <td>1</td>\n      <td>10</td>\n      <td>196</td>\n      <td>1</td>\n      <td>10</td>\n    </tr>\n    <tr>\n      <th>1</th>\n      <td>1</td>\n      <td>10</td>\n      <td>10258</td>\n      <td>2</td>\n      <td>9</td>\n    </tr>\n    <tr>\n      <th>2</th>\n      <td>1</td>\n      <td>10</td>\n      <td>10326</td>\n      <td>5</td>\n      <td>6</td>\n    </tr>\n    <tr>\n      <th>3</th>\n      <td>1</td>\n      <td>10</td>\n      <td>12427</td>\n      <td>1</td>\n      <td>10</td>\n    </tr>\n    <tr>\n      <th>4</th>\n      <td>1</td>\n      <td>10</td>\n      <td>13032</td>\n      <td>2</td>\n      <td>9</td>\n    </tr>\n  </tbody>\n</table>\n</div>"
     },
     "metadata": {},
     "execution_count": 25
    }
   ],
   "source": [
    "# Calculate the total order placed since the first user's order of a product: order_range (of course including the first order of a product)\n",
    "order_since_first['order_range'] = order_since_first.total_orders - order_since_first.first_order_number + 1\n",
    "\n",
    "order_since_first.head()"
   ]
  },
  {
   "cell_type": "markdown",
   "metadata": {},
   "source": [
    "Finally, calculate the ratio: How frequently a customer bought a product after its first purchase"
   ]
  },
  {
   "cell_type": "code",
   "execution_count": 26,
   "metadata": {},
   "outputs": [
    {
     "output_type": "execute_result",
     "data": {
      "text/plain": [
       "   user_id  product_id  times_bought  total_orders  first_order_number  \\\n",
       "0        1         196            10            10                   1   \n",
       "1        1       10258             9            10                   2   \n",
       "2        1       10326             1            10                   5   \n",
       "3        1       12427            10            10                   1   \n",
       "4        1       13032             3            10                   2   \n",
       "\n",
       "   order_range  up_reorder_ratio  \n",
       "0           10          1.000000  \n",
       "1            9          1.000000  \n",
       "2            6          0.166667  \n",
       "3           10          1.000000  \n",
       "4            9          0.333333  "
      ],
      "text/html": "<div>\n<style scoped>\n    .dataframe tbody tr th:only-of-type {\n        vertical-align: middle;\n    }\n\n    .dataframe tbody tr th {\n        vertical-align: top;\n    }\n\n    .dataframe thead th {\n        text-align: right;\n    }\n</style>\n<table border=\"1\" class=\"dataframe\">\n  <thead>\n    <tr style=\"text-align: right;\">\n      <th></th>\n      <th>user_id</th>\n      <th>product_id</th>\n      <th>times_bought</th>\n      <th>total_orders</th>\n      <th>first_order_number</th>\n      <th>order_range</th>\n      <th>up_reorder_ratio</th>\n    </tr>\n  </thead>\n  <tbody>\n    <tr>\n      <th>0</th>\n      <td>1</td>\n      <td>196</td>\n      <td>10</td>\n      <td>10</td>\n      <td>1</td>\n      <td>10</td>\n      <td>1.000000</td>\n    </tr>\n    <tr>\n      <th>1</th>\n      <td>1</td>\n      <td>10258</td>\n      <td>9</td>\n      <td>10</td>\n      <td>2</td>\n      <td>9</td>\n      <td>1.000000</td>\n    </tr>\n    <tr>\n      <th>2</th>\n      <td>1</td>\n      <td>10326</td>\n      <td>1</td>\n      <td>10</td>\n      <td>5</td>\n      <td>6</td>\n      <td>0.166667</td>\n    </tr>\n    <tr>\n      <th>3</th>\n      <td>1</td>\n      <td>12427</td>\n      <td>10</td>\n      <td>10</td>\n      <td>1</td>\n      <td>10</td>\n      <td>1.000000</td>\n    </tr>\n    <tr>\n      <th>4</th>\n      <td>1</td>\n      <td>13032</td>\n      <td>3</td>\n      <td>10</td>\n      <td>2</td>\n      <td>9</td>\n      <td>0.333333</td>\n    </tr>\n  </tbody>\n</table>\n</div>"
     },
     "metadata": {},
     "execution_count": 26
    }
   ],
   "source": [
    "# Merge times_bought with order_range\n",
    "up_ratio = pd.merge(times, order_since_first, on=['user_id', 'product_id'], how='left')\n",
    "\n",
    "# Calculate the ratio, name it up_reorder_ratio\n",
    "up_ratio['up_reorder_ratio'] = up_ratio.times_bought / up_ratio.order_range\n",
    "\n",
    "up_ratio.head()"
   ]
  },
  {
   "cell_type": "code",
   "execution_count": 27,
   "metadata": {},
   "outputs": [
    {
     "output_type": "execute_result",
     "data": {
      "text/plain": [
       "   user_id  product_id  up_reorder_ratio\n",
       "0        1         196          1.000000\n",
       "1        1       10258          1.000000\n",
       "2        1       10326          0.166667\n",
       "3        1       12427          1.000000\n",
       "4        1       13032          0.333333"
      ],
      "text/html": "<div>\n<style scoped>\n    .dataframe tbody tr th:only-of-type {\n        vertical-align: middle;\n    }\n\n    .dataframe tbody tr th {\n        vertical-align: top;\n    }\n\n    .dataframe thead th {\n        text-align: right;\n    }\n</style>\n<table border=\"1\" class=\"dataframe\">\n  <thead>\n    <tr style=\"text-align: right;\">\n      <th></th>\n      <th>user_id</th>\n      <th>product_id</th>\n      <th>up_reorder_ratio</th>\n    </tr>\n  </thead>\n  <tbody>\n    <tr>\n      <th>0</th>\n      <td>1</td>\n      <td>196</td>\n      <td>1.000000</td>\n    </tr>\n    <tr>\n      <th>1</th>\n      <td>1</td>\n      <td>10258</td>\n      <td>1.000000</td>\n    </tr>\n    <tr>\n      <th>2</th>\n      <td>1</td>\n      <td>10326</td>\n      <td>0.166667</td>\n    </tr>\n    <tr>\n      <th>3</th>\n      <td>1</td>\n      <td>12427</td>\n      <td>1.000000</td>\n    </tr>\n    <tr>\n      <th>4</th>\n      <td>1</td>\n      <td>13032</td>\n      <td>0.333333</td>\n    </tr>\n  </tbody>\n</table>\n</div>"
     },
     "metadata": {},
     "execution_count": 27
    }
   ],
   "source": [
    "# We just need the user_id, product_id and up_reorder_ratio cols, so drop the other cols\n",
    "up_ratio = up_ratio.drop(['times_bought', 'total_orders', 'first_order_number', 'order_range'], axis=1)\n",
    "\n",
    "up_ratio.head()"
   ]
  },
  {
   "cell_type": "code",
   "execution_count": 28,
   "metadata": {},
   "outputs": [],
   "source": [
    "# Remove temporary DataFrames\n",
    "del [times, first_order_no, order_since_first]"
   ]
  },
  {
   "cell_type": "code",
   "execution_count": 29,
   "metadata": {},
   "outputs": [
    {
     "output_type": "execute_result",
     "data": {
      "text/plain": [
       "   user_id  product_id  up_total_bought  up_reorder_ratio\n",
       "0        1         196               10          1.000000\n",
       "1        1       10258                9          1.000000\n",
       "2        1       10326                1          0.166667\n",
       "3        1       12427               10          1.000000\n",
       "4        1       13032                3          0.333333"
      ],
      "text/html": "<div>\n<style scoped>\n    .dataframe tbody tr th:only-of-type {\n        vertical-align: middle;\n    }\n\n    .dataframe tbody tr th {\n        vertical-align: top;\n    }\n\n    .dataframe thead th {\n        text-align: right;\n    }\n</style>\n<table border=\"1\" class=\"dataframe\">\n  <thead>\n    <tr style=\"text-align: right;\">\n      <th></th>\n      <th>user_id</th>\n      <th>product_id</th>\n      <th>up_total_bought</th>\n      <th>up_reorder_ratio</th>\n    </tr>\n  </thead>\n  <tbody>\n    <tr>\n      <th>0</th>\n      <td>1</td>\n      <td>196</td>\n      <td>10</td>\n      <td>1.000000</td>\n    </tr>\n    <tr>\n      <th>1</th>\n      <td>1</td>\n      <td>10258</td>\n      <td>9</td>\n      <td>1.000000</td>\n    </tr>\n    <tr>\n      <th>2</th>\n      <td>1</td>\n      <td>10326</td>\n      <td>1</td>\n      <td>0.166667</td>\n    </tr>\n    <tr>\n      <th>3</th>\n      <td>1</td>\n      <td>12427</td>\n      <td>10</td>\n      <td>1.000000</td>\n    </tr>\n    <tr>\n      <th>4</th>\n      <td>1</td>\n      <td>13032</td>\n      <td>3</td>\n      <td>0.333333</td>\n    </tr>\n  </tbody>\n</table>\n</div>"
     },
     "metadata": {},
     "execution_count": 29
    }
   ],
   "source": [
    "# Merge second predictor with the first one before move to the final feature\n",
    "up = up.merge(up_ratio, on=['user_id', 'product_id'], how='left')\n",
    "\n",
    "del up_ratio\n",
    "up.head()"
   ]
  },
  {
   "cell_type": "markdown",
   "metadata": {},
   "source": [
    "#### 4.3.3 How many times a customer bought a product on its last 5 orders"
   ]
  },
  {
   "cell_type": "markdown",
   "metadata": {},
   "source": [
    "For this feature, we want to keep the last five orders for each customer and get how many times bought any product on them. To achieve this we need to calculate this ratio:\n",
    "\n",
    "![user_6](..\\img\\user_6.PNG)"
   ]
  },
  {
   "cell_type": "markdown",
   "metadata": {},
   "source": [
    "To calculate this ratio, firtsly create a new variable ('order_number_reverse') which keeps the order_number for each order in reverse order"
   ]
  },
  {
   "cell_type": "code",
   "execution_count": 30,
   "metadata": {},
   "outputs": [
    {
     "output_type": "execute_result",
     "data": {
      "text/plain": [
       "   order_id  user_id eval_set  order_number  order_dow  order_hour_of_day  \\\n",
       "0   2539329        1    prior             1          2                  8   \n",
       "1   2539329        1    prior             1          2                  8   \n",
       "2   2539329        1    prior             1          2                  8   \n",
       "3   2539329        1    prior             1          2                  8   \n",
       "4   2539329        1    prior             1          2                  8   \n",
       "5   2398795        1    prior             2          3                  7   \n",
       "6   2398795        1    prior             2          3                  7   \n",
       "7   2398795        1    prior             2          3                  7   \n",
       "8   2398795        1    prior             2          3                  7   \n",
       "9   2398795        1    prior             2          3                  7   \n",
       "\n",
       "   days_since_prior_order  product_id  add_to_cart_order  reordered  \\\n",
       "0                     NaN         196                  1          0   \n",
       "1                     NaN       14084                  2          0   \n",
       "2                     NaN       12427                  3          0   \n",
       "3                     NaN       26088                  4          0   \n",
       "4                     NaN       26405                  5          0   \n",
       "5                    15.0         196                  1          1   \n",
       "6                    15.0       10258                  2          0   \n",
       "7                    15.0       12427                  3          1   \n",
       "8                    15.0       13176                  4          0   \n",
       "9                    15.0       26088                  5          1   \n",
       "\n",
       "   order_number_reverse  \n",
       "0                    10  \n",
       "1                    10  \n",
       "2                    10  \n",
       "3                    10  \n",
       "4                    10  \n",
       "5                     9  \n",
       "6                     9  \n",
       "7                     9  \n",
       "8                     9  \n",
       "9                     9  "
      ],
      "text/html": "<div>\n<style scoped>\n    .dataframe tbody tr th:only-of-type {\n        vertical-align: middle;\n    }\n\n    .dataframe tbody tr th {\n        vertical-align: top;\n    }\n\n    .dataframe thead th {\n        text-align: right;\n    }\n</style>\n<table border=\"1\" class=\"dataframe\">\n  <thead>\n    <tr style=\"text-align: right;\">\n      <th></th>\n      <th>order_id</th>\n      <th>user_id</th>\n      <th>eval_set</th>\n      <th>order_number</th>\n      <th>order_dow</th>\n      <th>order_hour_of_day</th>\n      <th>days_since_prior_order</th>\n      <th>product_id</th>\n      <th>add_to_cart_order</th>\n      <th>reordered</th>\n      <th>order_number_reverse</th>\n    </tr>\n  </thead>\n  <tbody>\n    <tr>\n      <th>0</th>\n      <td>2539329</td>\n      <td>1</td>\n      <td>prior</td>\n      <td>1</td>\n      <td>2</td>\n      <td>8</td>\n      <td>NaN</td>\n      <td>196</td>\n      <td>1</td>\n      <td>0</td>\n      <td>10</td>\n    </tr>\n    <tr>\n      <th>1</th>\n      <td>2539329</td>\n      <td>1</td>\n      <td>prior</td>\n      <td>1</td>\n      <td>2</td>\n      <td>8</td>\n      <td>NaN</td>\n      <td>14084</td>\n      <td>2</td>\n      <td>0</td>\n      <td>10</td>\n    </tr>\n    <tr>\n      <th>2</th>\n      <td>2539329</td>\n      <td>1</td>\n      <td>prior</td>\n      <td>1</td>\n      <td>2</td>\n      <td>8</td>\n      <td>NaN</td>\n      <td>12427</td>\n      <td>3</td>\n      <td>0</td>\n      <td>10</td>\n    </tr>\n    <tr>\n      <th>3</th>\n      <td>2539329</td>\n      <td>1</td>\n      <td>prior</td>\n      <td>1</td>\n      <td>2</td>\n      <td>8</td>\n      <td>NaN</td>\n      <td>26088</td>\n      <td>4</td>\n      <td>0</td>\n      <td>10</td>\n    </tr>\n    <tr>\n      <th>4</th>\n      <td>2539329</td>\n      <td>1</td>\n      <td>prior</td>\n      <td>1</td>\n      <td>2</td>\n      <td>8</td>\n      <td>NaN</td>\n      <td>26405</td>\n      <td>5</td>\n      <td>0</td>\n      <td>10</td>\n    </tr>\n    <tr>\n      <th>5</th>\n      <td>2398795</td>\n      <td>1</td>\n      <td>prior</td>\n      <td>2</td>\n      <td>3</td>\n      <td>7</td>\n      <td>15.0</td>\n      <td>196</td>\n      <td>1</td>\n      <td>1</td>\n      <td>9</td>\n    </tr>\n    <tr>\n      <th>6</th>\n      <td>2398795</td>\n      <td>1</td>\n      <td>prior</td>\n      <td>2</td>\n      <td>3</td>\n      <td>7</td>\n      <td>15.0</td>\n      <td>10258</td>\n      <td>2</td>\n      <td>0</td>\n      <td>9</td>\n    </tr>\n    <tr>\n      <th>7</th>\n      <td>2398795</td>\n      <td>1</td>\n      <td>prior</td>\n      <td>2</td>\n      <td>3</td>\n      <td>7</td>\n      <td>15.0</td>\n      <td>12427</td>\n      <td>3</td>\n      <td>1</td>\n      <td>9</td>\n    </tr>\n    <tr>\n      <th>8</th>\n      <td>2398795</td>\n      <td>1</td>\n      <td>prior</td>\n      <td>2</td>\n      <td>3</td>\n      <td>7</td>\n      <td>15.0</td>\n      <td>13176</td>\n      <td>4</td>\n      <td>0</td>\n      <td>9</td>\n    </tr>\n    <tr>\n      <th>9</th>\n      <td>2398795</td>\n      <td>1</td>\n      <td>prior</td>\n      <td>2</td>\n      <td>3</td>\n      <td>7</td>\n      <td>15.0</td>\n      <td>26088</td>\n      <td>5</td>\n      <td>1</td>\n      <td>9</td>\n    </tr>\n  </tbody>\n</table>\n</div>"
     },
     "metadata": {},
     "execution_count": 30
    }
   ],
   "source": [
    "# With .transform(max) we request to get the highest number of the column order_number for each group user_id\n",
    "prior['order_number_reverse'] = prior.groupby('user_id')['order_number'].transform(max) - prior.order_number +1\n",
    "\n",
    "prior.head(10)"
   ]
  },
  {
   "cell_type": "markdown",
   "metadata": {},
   "source": [
    "Secondly we keep only last five orders for each customer"
   ]
  },
  {
   "cell_type": "code",
   "execution_count": 31,
   "metadata": {},
   "outputs": [
    {
     "output_type": "execute_result",
     "data": {
      "text/plain": [
       "    order_id  user_id eval_set  order_number  order_dow  order_hour_of_day  \\\n",
       "29   3367565        1    prior             6          2                  7   \n",
       "30   3367565        1    prior             6          2                  7   \n",
       "31   3367565        1    prior             6          2                  7   \n",
       "32   3367565        1    prior             6          2                  7   \n",
       "33    550135        1    prior             7          1                  9   \n",
       "34    550135        1    prior             7          1                  9   \n",
       "35    550135        1    prior             7          1                  9   \n",
       "36    550135        1    prior             7          1                  9   \n",
       "37    550135        1    prior             7          1                  9   \n",
       "38   3108588        1    prior             8          1                 14   \n",
       "\n",
       "    days_since_prior_order  product_id  add_to_cart_order  reordered  \\\n",
       "29                    19.0         196                  1          1   \n",
       "30                    19.0       12427                  2          1   \n",
       "31                    19.0       10258                  3          1   \n",
       "32                    19.0       25133                  4          1   \n",
       "33                    20.0         196                  1          1   \n",
       "34                    20.0       10258                  2          1   \n",
       "35                    20.0       12427                  3          1   \n",
       "36                    20.0       25133                  4          1   \n",
       "37                    20.0       13032                  5          1   \n",
       "38                    14.0       12427                  1          1   \n",
       "\n",
       "    order_number_reverse  \n",
       "29                     5  \n",
       "30                     5  \n",
       "31                     5  \n",
       "32                     5  \n",
       "33                     4  \n",
       "34                     4  \n",
       "35                     4  \n",
       "36                     4  \n",
       "37                     4  \n",
       "38                     3  "
      ],
      "text/html": "<div>\n<style scoped>\n    .dataframe tbody tr th:only-of-type {\n        vertical-align: middle;\n    }\n\n    .dataframe tbody tr th {\n        vertical-align: top;\n    }\n\n    .dataframe thead th {\n        text-align: right;\n    }\n</style>\n<table border=\"1\" class=\"dataframe\">\n  <thead>\n    <tr style=\"text-align: right;\">\n      <th></th>\n      <th>order_id</th>\n      <th>user_id</th>\n      <th>eval_set</th>\n      <th>order_number</th>\n      <th>order_dow</th>\n      <th>order_hour_of_day</th>\n      <th>days_since_prior_order</th>\n      <th>product_id</th>\n      <th>add_to_cart_order</th>\n      <th>reordered</th>\n      <th>order_number_reverse</th>\n    </tr>\n  </thead>\n  <tbody>\n    <tr>\n      <th>29</th>\n      <td>3367565</td>\n      <td>1</td>\n      <td>prior</td>\n      <td>6</td>\n      <td>2</td>\n      <td>7</td>\n      <td>19.0</td>\n      <td>196</td>\n      <td>1</td>\n      <td>1</td>\n      <td>5</td>\n    </tr>\n    <tr>\n      <th>30</th>\n      <td>3367565</td>\n      <td>1</td>\n      <td>prior</td>\n      <td>6</td>\n      <td>2</td>\n      <td>7</td>\n      <td>19.0</td>\n      <td>12427</td>\n      <td>2</td>\n      <td>1</td>\n      <td>5</td>\n    </tr>\n    <tr>\n      <th>31</th>\n      <td>3367565</td>\n      <td>1</td>\n      <td>prior</td>\n      <td>6</td>\n      <td>2</td>\n      <td>7</td>\n      <td>19.0</td>\n      <td>10258</td>\n      <td>3</td>\n      <td>1</td>\n      <td>5</td>\n    </tr>\n    <tr>\n      <th>32</th>\n      <td>3367565</td>\n      <td>1</td>\n      <td>prior</td>\n      <td>6</td>\n      <td>2</td>\n      <td>7</td>\n      <td>19.0</td>\n      <td>25133</td>\n      <td>4</td>\n      <td>1</td>\n      <td>5</td>\n    </tr>\n    <tr>\n      <th>33</th>\n      <td>550135</td>\n      <td>1</td>\n      <td>prior</td>\n      <td>7</td>\n      <td>1</td>\n      <td>9</td>\n      <td>20.0</td>\n      <td>196</td>\n      <td>1</td>\n      <td>1</td>\n      <td>4</td>\n    </tr>\n    <tr>\n      <th>34</th>\n      <td>550135</td>\n      <td>1</td>\n      <td>prior</td>\n      <td>7</td>\n      <td>1</td>\n      <td>9</td>\n      <td>20.0</td>\n      <td>10258</td>\n      <td>2</td>\n      <td>1</td>\n      <td>4</td>\n    </tr>\n    <tr>\n      <th>35</th>\n      <td>550135</td>\n      <td>1</td>\n      <td>prior</td>\n      <td>7</td>\n      <td>1</td>\n      <td>9</td>\n      <td>20.0</td>\n      <td>12427</td>\n      <td>3</td>\n      <td>1</td>\n      <td>4</td>\n    </tr>\n    <tr>\n      <th>36</th>\n      <td>550135</td>\n      <td>1</td>\n      <td>prior</td>\n      <td>7</td>\n      <td>1</td>\n      <td>9</td>\n      <td>20.0</td>\n      <td>25133</td>\n      <td>4</td>\n      <td>1</td>\n      <td>4</td>\n    </tr>\n    <tr>\n      <th>37</th>\n      <td>550135</td>\n      <td>1</td>\n      <td>prior</td>\n      <td>7</td>\n      <td>1</td>\n      <td>9</td>\n      <td>20.0</td>\n      <td>13032</td>\n      <td>5</td>\n      <td>1</td>\n      <td>4</td>\n    </tr>\n    <tr>\n      <th>38</th>\n      <td>3108588</td>\n      <td>1</td>\n      <td>prior</td>\n      <td>8</td>\n      <td>1</td>\n      <td>14</td>\n      <td>14.0</td>\n      <td>12427</td>\n      <td>1</td>\n      <td>1</td>\n      <td>3</td>\n    </tr>\n  </tbody>\n</table>\n</div>"
     },
     "metadata": {},
     "execution_count": 31
    }
   ],
   "source": [
    "last_5_orders = prior[prior.order_number_reverse <= 5]\n",
    "last_5_orders.head(10)"
   ]
  },
  {
   "cell_type": "markdown",
   "metadata": {},
   "source": [
    "Then, we perform a .groupby( ) on user_id & product_id. With .count( ) we get how many times each customer bought a product."
   ]
  },
  {
   "cell_type": "code",
   "execution_count": 32,
   "metadata": {},
   "outputs": [
    {
     "output_type": "execute_result",
     "data": {
      "text/plain": [
       "                    times_last_5\n",
       "user_id product_id              \n",
       "1       196                    5\n",
       "        10258                  5\n",
       "        12427                  5\n",
       "        13032                  2\n",
       "        25133                  5\n",
       "        35951                  1\n",
       "        38928                  1\n",
       "        39657                  1\n",
       "        46149                  3\n",
       "        49235                  2"
      ],
      "text/html": "<div>\n<style scoped>\n    .dataframe tbody tr th:only-of-type {\n        vertical-align: middle;\n    }\n\n    .dataframe tbody tr th {\n        vertical-align: top;\n    }\n\n    .dataframe thead th {\n        text-align: right;\n    }\n</style>\n<table border=\"1\" class=\"dataframe\">\n  <thead>\n    <tr style=\"text-align: right;\">\n      <th></th>\n      <th></th>\n      <th>times_last_5</th>\n    </tr>\n    <tr>\n      <th>user_id</th>\n      <th>product_id</th>\n      <th></th>\n    </tr>\n  </thead>\n  <tbody>\n    <tr>\n      <th rowspan=\"10\" valign=\"top\">1</th>\n      <th>196</th>\n      <td>5</td>\n    </tr>\n    <tr>\n      <th>10258</th>\n      <td>5</td>\n    </tr>\n    <tr>\n      <th>12427</th>\n      <td>5</td>\n    </tr>\n    <tr>\n      <th>13032</th>\n      <td>2</td>\n    </tr>\n    <tr>\n      <th>25133</th>\n      <td>5</td>\n    </tr>\n    <tr>\n      <th>35951</th>\n      <td>1</td>\n    </tr>\n    <tr>\n      <th>38928</th>\n      <td>1</td>\n    </tr>\n    <tr>\n      <th>39657</th>\n      <td>1</td>\n    </tr>\n    <tr>\n      <th>46149</th>\n      <td>3</td>\n    </tr>\n    <tr>\n      <th>49235</th>\n      <td>2</td>\n    </tr>\n  </tbody>\n</table>\n</div>"
     },
     "metadata": {},
     "execution_count": 32
    }
   ],
   "source": [
    "last_five = last_5_orders.groupby(['user_id','product_id'])[['order_id']].count()\n",
    "last_five.columns = ['times_last_5']\n",
    "last_five.head(10)"
   ]
  },
  {
   "cell_type": "code",
   "execution_count": 33,
   "metadata": {},
   "outputs": [
    {
     "output_type": "execute_result",
     "data": {
      "text/plain": [
       "   user_id  product_id  up_total_bought  up_reorder_ratio  times_last_5\n",
       "0        1         196               10          1.000000           5.0\n",
       "1        1       10258                9          1.000000           5.0\n",
       "2        1       10326                1          0.166667           0.0\n",
       "3        1       12427               10          1.000000           5.0\n",
       "4        1       13032                3          0.333333           2.0"
      ],
      "text/html": "<div>\n<style scoped>\n    .dataframe tbody tr th:only-of-type {\n        vertical-align: middle;\n    }\n\n    .dataframe tbody tr th {\n        vertical-align: top;\n    }\n\n    .dataframe thead th {\n        text-align: right;\n    }\n</style>\n<table border=\"1\" class=\"dataframe\">\n  <thead>\n    <tr style=\"text-align: right;\">\n      <th></th>\n      <th>user_id</th>\n      <th>product_id</th>\n      <th>up_total_bought</th>\n      <th>up_reorder_ratio</th>\n      <th>times_last_5</th>\n    </tr>\n  </thead>\n  <tbody>\n    <tr>\n      <th>0</th>\n      <td>1</td>\n      <td>196</td>\n      <td>10</td>\n      <td>1.000000</td>\n      <td>5.0</td>\n    </tr>\n    <tr>\n      <th>1</th>\n      <td>1</td>\n      <td>10258</td>\n      <td>9</td>\n      <td>1.000000</td>\n      <td>5.0</td>\n    </tr>\n    <tr>\n      <th>2</th>\n      <td>1</td>\n      <td>10326</td>\n      <td>1</td>\n      <td>0.166667</td>\n      <td>0.0</td>\n    </tr>\n    <tr>\n      <th>3</th>\n      <td>1</td>\n      <td>12427</td>\n      <td>10</td>\n      <td>1.000000</td>\n      <td>5.0</td>\n    </tr>\n    <tr>\n      <th>4</th>\n      <td>1</td>\n      <td>13032</td>\n      <td>3</td>\n      <td>0.333333</td>\n      <td>2.0</td>\n    </tr>\n  </tbody>\n</table>\n</div>"
     },
     "metadata": {},
     "execution_count": 33
    }
   ],
   "source": [
    "# Merge the final features with the first two predictor features\n",
    "up = up.merge(last_five, on=['user_id', 'product_id'], how='left')\n",
    "\n",
    "del last_five\n",
    "\n",
    "# fill NaN values\n",
    "up = up.fillna(0)\n",
    "up.head()\n"
   ]
  },
  {
   "cell_type": "markdown",
   "metadata": {},
   "source": [
    "### 4.4 Merge all predictor variables - X"
   ]
  },
  {
   "cell_type": "markdown",
   "metadata": {},
   "source": [
    "#### 4.4.1 Merge up (user & product) with user DataFrame with a left join"
   ]
  },
  {
   "cell_type": "code",
   "execution_count": 34,
   "metadata": {},
   "outputs": [
    {
     "output_type": "execute_result",
     "data": {
      "text/plain": [
       "   user_id  product_id  up_total_bought  up_reorder_ratio  times_last_5  \\\n",
       "0        1         196               10          1.000000           5.0   \n",
       "1        1       10258                9          1.000000           5.0   \n",
       "2        1       10326                1          0.166667           0.0   \n",
       "3        1       12427               10          1.000000           5.0   \n",
       "4        1       13032                3          0.333333           2.0   \n",
       "\n",
       "   u_total_orders  u_reordered_ratio  \n",
       "0              10           0.694915  \n",
       "1              10           0.694915  \n",
       "2              10           0.694915  \n",
       "3              10           0.694915  \n",
       "4              10           0.694915  "
      ],
      "text/html": "<div>\n<style scoped>\n    .dataframe tbody tr th:only-of-type {\n        vertical-align: middle;\n    }\n\n    .dataframe tbody tr th {\n        vertical-align: top;\n    }\n\n    .dataframe thead th {\n        text-align: right;\n    }\n</style>\n<table border=\"1\" class=\"dataframe\">\n  <thead>\n    <tr style=\"text-align: right;\">\n      <th></th>\n      <th>user_id</th>\n      <th>product_id</th>\n      <th>up_total_bought</th>\n      <th>up_reorder_ratio</th>\n      <th>times_last_5</th>\n      <th>u_total_orders</th>\n      <th>u_reordered_ratio</th>\n    </tr>\n  </thead>\n  <tbody>\n    <tr>\n      <th>0</th>\n      <td>1</td>\n      <td>196</td>\n      <td>10</td>\n      <td>1.000000</td>\n      <td>5.0</td>\n      <td>10</td>\n      <td>0.694915</td>\n    </tr>\n    <tr>\n      <th>1</th>\n      <td>1</td>\n      <td>10258</td>\n      <td>9</td>\n      <td>1.000000</td>\n      <td>5.0</td>\n      <td>10</td>\n      <td>0.694915</td>\n    </tr>\n    <tr>\n      <th>2</th>\n      <td>1</td>\n      <td>10326</td>\n      <td>1</td>\n      <td>0.166667</td>\n      <td>0.0</td>\n      <td>10</td>\n      <td>0.694915</td>\n    </tr>\n    <tr>\n      <th>3</th>\n      <td>1</td>\n      <td>12427</td>\n      <td>10</td>\n      <td>1.000000</td>\n      <td>5.0</td>\n      <td>10</td>\n      <td>0.694915</td>\n    </tr>\n    <tr>\n      <th>4</th>\n      <td>1</td>\n      <td>13032</td>\n      <td>3</td>\n      <td>0.333333</td>\n      <td>2.0</td>\n      <td>10</td>\n      <td>0.694915</td>\n    </tr>\n  </tbody>\n</table>\n</div>"
     },
     "metadata": {},
     "execution_count": 34
    }
   ],
   "source": [
    "# Merge up features with the user features\n",
    "data = up.merge(user, on='user_id', how='left')\n",
    "\n",
    "data.head()"
   ]
  },
  {
   "cell_type": "markdown",
   "metadata": {},
   "source": [
    "#### 4.4.2 Merge data with product DataFrame with a left join"
   ]
  },
  {
   "cell_type": "code",
   "execution_count": 35,
   "metadata": {},
   "outputs": [
    {
     "output_type": "execute_result",
     "data": {
      "text/plain": [
       "   user_id  product_id  up_total_bought  up_reorder_ratio  times_last_5  \\\n",
       "0        1         196               10          1.000000           5.0   \n",
       "1        1       10258                9          1.000000           5.0   \n",
       "2        1       10326                1          0.166667           0.0   \n",
       "3        1       12427               10          1.000000           5.0   \n",
       "4        1       13032                3          0.333333           2.0   \n",
       "\n",
       "   u_total_orders  u_reordered_ratio  p_total_purchases  p_reorder_ratio  \\\n",
       "0              10           0.694915              35791         0.776480   \n",
       "1              10           0.694915               1946         0.713772   \n",
       "2              10           0.694915               5526         0.652009   \n",
       "3              10           0.694915               6476         0.740735   \n",
       "4              10           0.694915               3751         0.657158   \n",
       "\n",
       "   position_to_cart  \n",
       "0          3.721774  \n",
       "1          4.277492  \n",
       "2          4.191097  \n",
       "3          4.760037  \n",
       "4          5.622767  "
      ],
      "text/html": "<div>\n<style scoped>\n    .dataframe tbody tr th:only-of-type {\n        vertical-align: middle;\n    }\n\n    .dataframe tbody tr th {\n        vertical-align: top;\n    }\n\n    .dataframe thead th {\n        text-align: right;\n    }\n</style>\n<table border=\"1\" class=\"dataframe\">\n  <thead>\n    <tr style=\"text-align: right;\">\n      <th></th>\n      <th>user_id</th>\n      <th>product_id</th>\n      <th>up_total_bought</th>\n      <th>up_reorder_ratio</th>\n      <th>times_last_5</th>\n      <th>u_total_orders</th>\n      <th>u_reordered_ratio</th>\n      <th>p_total_purchases</th>\n      <th>p_reorder_ratio</th>\n      <th>position_to_cart</th>\n    </tr>\n  </thead>\n  <tbody>\n    <tr>\n      <th>0</th>\n      <td>1</td>\n      <td>196</td>\n      <td>10</td>\n      <td>1.000000</td>\n      <td>5.0</td>\n      <td>10</td>\n      <td>0.694915</td>\n      <td>35791</td>\n      <td>0.776480</td>\n      <td>3.721774</td>\n    </tr>\n    <tr>\n      <th>1</th>\n      <td>1</td>\n      <td>10258</td>\n      <td>9</td>\n      <td>1.000000</td>\n      <td>5.0</td>\n      <td>10</td>\n      <td>0.694915</td>\n      <td>1946</td>\n      <td>0.713772</td>\n      <td>4.277492</td>\n    </tr>\n    <tr>\n      <th>2</th>\n      <td>1</td>\n      <td>10326</td>\n      <td>1</td>\n      <td>0.166667</td>\n      <td>0.0</td>\n      <td>10</td>\n      <td>0.694915</td>\n      <td>5526</td>\n      <td>0.652009</td>\n      <td>4.191097</td>\n    </tr>\n    <tr>\n      <th>3</th>\n      <td>1</td>\n      <td>12427</td>\n      <td>10</td>\n      <td>1.000000</td>\n      <td>5.0</td>\n      <td>10</td>\n      <td>0.694915</td>\n      <td>6476</td>\n      <td>0.740735</td>\n      <td>4.760037</td>\n    </tr>\n    <tr>\n      <th>4</th>\n      <td>1</td>\n      <td>13032</td>\n      <td>3</td>\n      <td>0.333333</td>\n      <td>2.0</td>\n      <td>10</td>\n      <td>0.694915</td>\n      <td>3751</td>\n      <td>0.657158</td>\n      <td>5.622767</td>\n    </tr>\n  </tbody>\n</table>\n</div>"
     },
     "metadata": {},
     "execution_count": 35
    }
   ],
   "source": [
    "# Merge up & user features (the dataa DataFrame) with product features\n",
    "data = data.merge(product, on='product_id', how='left')\n",
    "\n",
    "data.head()"
   ]
  },
  {
   "cell_type": "code",
   "execution_count": 36,
   "metadata": {},
   "outputs": [
    {
     "output_type": "execute_result",
     "data": {
      "text/plain": [
       "80"
      ]
     },
     "metadata": {},
     "execution_count": 36
    }
   ],
   "source": [
    "# del the previous tables we used to create predictor features\n",
    "\n",
    "del prior, user, product, up\n",
    "gc.collect()"
   ]
  },
  {
   "cell_type": "markdown",
   "metadata": {},
   "source": [
    "## 5. Modelling"
   ]
  },
  {
   "cell_type": "markdown",
   "metadata": {},
   "source": [
    "Back to the problem definition, we already have the data, we have to create two more columns which define the type of user (train or test) and the order_id of the future order as mentioned before:\n",
    "\n",
    "![predict_framework](..\\img\\predict_framework.PNG)"
   ]
  },
  {
   "cell_type": "code",
   "execution_count": 37,
   "metadata": {},
   "outputs": [
    {
     "output_type": "execute_result",
     "data": {
      "text/plain": [
       "     user_id eval_set  order_id\n",
       "10         1    train   1187899\n",
       "25         2    train   1492625\n",
       "49         5    train   2196797\n",
       "74         7    train    525192\n",
       "78         8    train    880375\n",
       "82         9    train   1094988\n",
       "88        10    train   1822501\n",
       "115       13    train   1827621\n",
       "129       14    train   2316178\n",
       "200       17    train   2180313"
      ],
      "text/html": "<div>\n<style scoped>\n    .dataframe tbody tr th:only-of-type {\n        vertical-align: middle;\n    }\n\n    .dataframe tbody tr th {\n        vertical-align: top;\n    }\n\n    .dataframe thead th {\n        text-align: right;\n    }\n</style>\n<table border=\"1\" class=\"dataframe\">\n  <thead>\n    <tr style=\"text-align: right;\">\n      <th></th>\n      <th>user_id</th>\n      <th>eval_set</th>\n      <th>order_id</th>\n    </tr>\n  </thead>\n  <tbody>\n    <tr>\n      <th>10</th>\n      <td>1</td>\n      <td>train</td>\n      <td>1187899</td>\n    </tr>\n    <tr>\n      <th>25</th>\n      <td>2</td>\n      <td>train</td>\n      <td>1492625</td>\n    </tr>\n    <tr>\n      <th>49</th>\n      <td>5</td>\n      <td>train</td>\n      <td>2196797</td>\n    </tr>\n    <tr>\n      <th>74</th>\n      <td>7</td>\n      <td>train</td>\n      <td>525192</td>\n    </tr>\n    <tr>\n      <th>78</th>\n      <td>8</td>\n      <td>train</td>\n      <td>880375</td>\n    </tr>\n    <tr>\n      <th>82</th>\n      <td>9</td>\n      <td>train</td>\n      <td>1094988</td>\n    </tr>\n    <tr>\n      <th>88</th>\n      <td>10</td>\n      <td>train</td>\n      <td>1822501</td>\n    </tr>\n    <tr>\n      <th>115</th>\n      <td>13</td>\n      <td>train</td>\n      <td>1827621</td>\n    </tr>\n    <tr>\n      <th>129</th>\n      <td>14</td>\n      <td>train</td>\n      <td>2316178</td>\n    </tr>\n    <tr>\n      <th>200</th>\n      <td>17</td>\n      <td>train</td>\n      <td>2180313</td>\n    </tr>\n  </tbody>\n</table>\n</div>"
     },
     "metadata": {},
     "execution_count": 37
    }
   ],
   "source": [
    "# Create order_future table to prepate for a merge to data\n",
    "orders_future = orders.loc[(orders.eval_set=='train'), ['user_id', 'eval_set', 'order_id'] ]\n",
    "orders_future.head(10)"
   ]
  },
  {
   "cell_type": "code",
   "execution_count": 38,
   "metadata": {},
   "outputs": [
    {
     "output_type": "execute_result",
     "data": {
      "text/plain": [
       "   user_id  product_id  up_total_bought  up_reorder_ratio  times_last_5  \\\n",
       "0        1         196               10          1.000000           5.0   \n",
       "1        1       10258                9          1.000000           5.0   \n",
       "2        1       10326                1          0.166667           0.0   \n",
       "3        1       12427               10          1.000000           5.0   \n",
       "4        1       13032                3          0.333333           2.0   \n",
       "5        1       13176                2          0.222222           0.0   \n",
       "6        1       14084                1          0.100000           0.0   \n",
       "7        1       17122                1          0.166667           0.0   \n",
       "8        1       25133                8          1.000000           5.0   \n",
       "9        1       26088                2          0.200000           0.0   \n",
       "\n",
       "   u_total_orders  u_reordered_ratio  p_total_purchases  p_reorder_ratio  \\\n",
       "0              10           0.694915              35791         0.776480   \n",
       "1              10           0.694915               1946         0.713772   \n",
       "2              10           0.694915               5526         0.652009   \n",
       "3              10           0.694915               6476         0.740735   \n",
       "4              10           0.694915               3751         0.657158   \n",
       "5              10           0.694915             379450         0.832555   \n",
       "6              10           0.694915              15935         0.810982   \n",
       "7              10           0.694915              13880         0.675576   \n",
       "8              10           0.694915               6196         0.740155   \n",
       "9              10           0.694915               2523         0.539041   \n",
       "\n",
       "   position_to_cart eval_set   order_id  \n",
       "0          3.721774    train  1187899.0  \n",
       "1          4.277492    train  1187899.0  \n",
       "2          4.191097    train  1187899.0  \n",
       "3          4.760037    train  1187899.0  \n",
       "4          5.622767    train  1187899.0  \n",
       "5          5.095947    train  1187899.0  \n",
       "6          5.792595    train  1187899.0  \n",
       "7          6.257421    train  1187899.0  \n",
       "8          7.001614    train  1187899.0  \n",
       "9          6.495838    train  1187899.0  "
      ],
      "text/html": "<div>\n<style scoped>\n    .dataframe tbody tr th:only-of-type {\n        vertical-align: middle;\n    }\n\n    .dataframe tbody tr th {\n        vertical-align: top;\n    }\n\n    .dataframe thead th {\n        text-align: right;\n    }\n</style>\n<table border=\"1\" class=\"dataframe\">\n  <thead>\n    <tr style=\"text-align: right;\">\n      <th></th>\n      <th>user_id</th>\n      <th>product_id</th>\n      <th>up_total_bought</th>\n      <th>up_reorder_ratio</th>\n      <th>times_last_5</th>\n      <th>u_total_orders</th>\n      <th>u_reordered_ratio</th>\n      <th>p_total_purchases</th>\n      <th>p_reorder_ratio</th>\n      <th>position_to_cart</th>\n      <th>eval_set</th>\n      <th>order_id</th>\n    </tr>\n  </thead>\n  <tbody>\n    <tr>\n      <th>0</th>\n      <td>1</td>\n      <td>196</td>\n      <td>10</td>\n      <td>1.000000</td>\n      <td>5.0</td>\n      <td>10</td>\n      <td>0.694915</td>\n      <td>35791</td>\n      <td>0.776480</td>\n      <td>3.721774</td>\n      <td>train</td>\n      <td>1187899.0</td>\n    </tr>\n    <tr>\n      <th>1</th>\n      <td>1</td>\n      <td>10258</td>\n      <td>9</td>\n      <td>1.000000</td>\n      <td>5.0</td>\n      <td>10</td>\n      <td>0.694915</td>\n      <td>1946</td>\n      <td>0.713772</td>\n      <td>4.277492</td>\n      <td>train</td>\n      <td>1187899.0</td>\n    </tr>\n    <tr>\n      <th>2</th>\n      <td>1</td>\n      <td>10326</td>\n      <td>1</td>\n      <td>0.166667</td>\n      <td>0.0</td>\n      <td>10</td>\n      <td>0.694915</td>\n      <td>5526</td>\n      <td>0.652009</td>\n      <td>4.191097</td>\n      <td>train</td>\n      <td>1187899.0</td>\n    </tr>\n    <tr>\n      <th>3</th>\n      <td>1</td>\n      <td>12427</td>\n      <td>10</td>\n      <td>1.000000</td>\n      <td>5.0</td>\n      <td>10</td>\n      <td>0.694915</td>\n      <td>6476</td>\n      <td>0.740735</td>\n      <td>4.760037</td>\n      <td>train</td>\n      <td>1187899.0</td>\n    </tr>\n    <tr>\n      <th>4</th>\n      <td>1</td>\n      <td>13032</td>\n      <td>3</td>\n      <td>0.333333</td>\n      <td>2.0</td>\n      <td>10</td>\n      <td>0.694915</td>\n      <td>3751</td>\n      <td>0.657158</td>\n      <td>5.622767</td>\n      <td>train</td>\n      <td>1187899.0</td>\n    </tr>\n    <tr>\n      <th>5</th>\n      <td>1</td>\n      <td>13176</td>\n      <td>2</td>\n      <td>0.222222</td>\n      <td>0.0</td>\n      <td>10</td>\n      <td>0.694915</td>\n      <td>379450</td>\n      <td>0.832555</td>\n      <td>5.095947</td>\n      <td>train</td>\n      <td>1187899.0</td>\n    </tr>\n    <tr>\n      <th>6</th>\n      <td>1</td>\n      <td>14084</td>\n      <td>1</td>\n      <td>0.100000</td>\n      <td>0.0</td>\n      <td>10</td>\n      <td>0.694915</td>\n      <td>15935</td>\n      <td>0.810982</td>\n      <td>5.792595</td>\n      <td>train</td>\n      <td>1187899.0</td>\n    </tr>\n    <tr>\n      <th>7</th>\n      <td>1</td>\n      <td>17122</td>\n      <td>1</td>\n      <td>0.166667</td>\n      <td>0.0</td>\n      <td>10</td>\n      <td>0.694915</td>\n      <td>13880</td>\n      <td>0.675576</td>\n      <td>6.257421</td>\n      <td>train</td>\n      <td>1187899.0</td>\n    </tr>\n    <tr>\n      <th>8</th>\n      <td>1</td>\n      <td>25133</td>\n      <td>8</td>\n      <td>1.000000</td>\n      <td>5.0</td>\n      <td>10</td>\n      <td>0.694915</td>\n      <td>6196</td>\n      <td>0.740155</td>\n      <td>7.001614</td>\n      <td>train</td>\n      <td>1187899.0</td>\n    </tr>\n    <tr>\n      <th>9</th>\n      <td>1</td>\n      <td>26088</td>\n      <td>2</td>\n      <td>0.200000</td>\n      <td>0.0</td>\n      <td>10</td>\n      <td>0.694915</td>\n      <td>2523</td>\n      <td>0.539041</td>\n      <td>6.495838</td>\n      <td>train</td>\n      <td>1187899.0</td>\n    </tr>\n  </tbody>\n</table>\n</div>"
     },
     "metadata": {},
     "execution_count": 38
    }
   ],
   "source": [
    "# it's time we merged the data and orders_future with a left join on user_id\n",
    "data = data.merge(orders_future, on='user_id', how='left')\n",
    "\n",
    "data.head(10)"
   ]
  },
  {
   "cell_type": "markdown",
   "metadata": {},
   "source": [
    "### 5.1 Create train and test dataset"
   ]
  },
  {
   "cell_type": "markdown",
   "metadata": {},
   "source": [
    "To create train dataset, We keep only the customers who are labelled as \"train\" at eval_set then merge to order_products_train on the two keys: \"product_id\" & \"order_id with a left join"
   ]
  },
  {
   "cell_type": "code",
   "execution_count": 39,
   "metadata": {},
   "outputs": [
    {
     "output_type": "execute_result",
     "data": {
      "text/plain": [
       "   user_id  product_id  up_total_bought  up_reorder_ratio  times_last_5  \\\n",
       "0        1         196               10          1.000000           5.0   \n",
       "1        1       10258                9          1.000000           5.0   \n",
       "2        1       10326                1          0.166667           0.0   \n",
       "3        1       12427               10          1.000000           5.0   \n",
       "4        1       13032                3          0.333333           2.0   \n",
       "5        1       13176                2          0.222222           0.0   \n",
       "6        1       14084                1          0.100000           0.0   \n",
       "7        1       17122                1          0.166667           0.0   \n",
       "8        1       25133                8          1.000000           5.0   \n",
       "9        1       26088                2          0.200000           0.0   \n",
       "\n",
       "   u_total_orders  u_reordered_ratio  p_total_purchases  p_reorder_ratio  \\\n",
       "0              10           0.694915              35791         0.776480   \n",
       "1              10           0.694915               1946         0.713772   \n",
       "2              10           0.694915               5526         0.652009   \n",
       "3              10           0.694915               6476         0.740735   \n",
       "4              10           0.694915               3751         0.657158   \n",
       "5              10           0.694915             379450         0.832555   \n",
       "6              10           0.694915              15935         0.810982   \n",
       "7              10           0.694915              13880         0.675576   \n",
       "8              10           0.694915               6196         0.740155   \n",
       "9              10           0.694915               2523         0.539041   \n",
       "\n",
       "   position_to_cart eval_set   order_id  reordered  \n",
       "0          3.721774    train  1187899.0        1.0  \n",
       "1          4.277492    train  1187899.0        1.0  \n",
       "2          4.191097    train  1187899.0        NaN  \n",
       "3          4.760037    train  1187899.0        NaN  \n",
       "4          5.622767    train  1187899.0        1.0  \n",
       "5          5.095947    train  1187899.0        NaN  \n",
       "6          5.792595    train  1187899.0        NaN  \n",
       "7          6.257421    train  1187899.0        NaN  \n",
       "8          7.001614    train  1187899.0        1.0  \n",
       "9          6.495838    train  1187899.0        1.0  "
      ],
      "text/html": "<div>\n<style scoped>\n    .dataframe tbody tr th:only-of-type {\n        vertical-align: middle;\n    }\n\n    .dataframe tbody tr th {\n        vertical-align: top;\n    }\n\n    .dataframe thead th {\n        text-align: right;\n    }\n</style>\n<table border=\"1\" class=\"dataframe\">\n  <thead>\n    <tr style=\"text-align: right;\">\n      <th></th>\n      <th>user_id</th>\n      <th>product_id</th>\n      <th>up_total_bought</th>\n      <th>up_reorder_ratio</th>\n      <th>times_last_5</th>\n      <th>u_total_orders</th>\n      <th>u_reordered_ratio</th>\n      <th>p_total_purchases</th>\n      <th>p_reorder_ratio</th>\n      <th>position_to_cart</th>\n      <th>eval_set</th>\n      <th>order_id</th>\n      <th>reordered</th>\n    </tr>\n  </thead>\n  <tbody>\n    <tr>\n      <th>0</th>\n      <td>1</td>\n      <td>196</td>\n      <td>10</td>\n      <td>1.000000</td>\n      <td>5.0</td>\n      <td>10</td>\n      <td>0.694915</td>\n      <td>35791</td>\n      <td>0.776480</td>\n      <td>3.721774</td>\n      <td>train</td>\n      <td>1187899.0</td>\n      <td>1.0</td>\n    </tr>\n    <tr>\n      <th>1</th>\n      <td>1</td>\n      <td>10258</td>\n      <td>9</td>\n      <td>1.000000</td>\n      <td>5.0</td>\n      <td>10</td>\n      <td>0.694915</td>\n      <td>1946</td>\n      <td>0.713772</td>\n      <td>4.277492</td>\n      <td>train</td>\n      <td>1187899.0</td>\n      <td>1.0</td>\n    </tr>\n    <tr>\n      <th>2</th>\n      <td>1</td>\n      <td>10326</td>\n      <td>1</td>\n      <td>0.166667</td>\n      <td>0.0</td>\n      <td>10</td>\n      <td>0.694915</td>\n      <td>5526</td>\n      <td>0.652009</td>\n      <td>4.191097</td>\n      <td>train</td>\n      <td>1187899.0</td>\n      <td>NaN</td>\n    </tr>\n    <tr>\n      <th>3</th>\n      <td>1</td>\n      <td>12427</td>\n      <td>10</td>\n      <td>1.000000</td>\n      <td>5.0</td>\n      <td>10</td>\n      <td>0.694915</td>\n      <td>6476</td>\n      <td>0.740735</td>\n      <td>4.760037</td>\n      <td>train</td>\n      <td>1187899.0</td>\n      <td>NaN</td>\n    </tr>\n    <tr>\n      <th>4</th>\n      <td>1</td>\n      <td>13032</td>\n      <td>3</td>\n      <td>0.333333</td>\n      <td>2.0</td>\n      <td>10</td>\n      <td>0.694915</td>\n      <td>3751</td>\n      <td>0.657158</td>\n      <td>5.622767</td>\n      <td>train</td>\n      <td>1187899.0</td>\n      <td>1.0</td>\n    </tr>\n    <tr>\n      <th>5</th>\n      <td>1</td>\n      <td>13176</td>\n      <td>2</td>\n      <td>0.222222</td>\n      <td>0.0</td>\n      <td>10</td>\n      <td>0.694915</td>\n      <td>379450</td>\n      <td>0.832555</td>\n      <td>5.095947</td>\n      <td>train</td>\n      <td>1187899.0</td>\n      <td>NaN</td>\n    </tr>\n    <tr>\n      <th>6</th>\n      <td>1</td>\n      <td>14084</td>\n      <td>1</td>\n      <td>0.100000</td>\n      <td>0.0</td>\n      <td>10</td>\n      <td>0.694915</td>\n      <td>15935</td>\n      <td>0.810982</td>\n      <td>5.792595</td>\n      <td>train</td>\n      <td>1187899.0</td>\n      <td>NaN</td>\n    </tr>\n    <tr>\n      <th>7</th>\n      <td>1</td>\n      <td>17122</td>\n      <td>1</td>\n      <td>0.166667</td>\n      <td>0.0</td>\n      <td>10</td>\n      <td>0.694915</td>\n      <td>13880</td>\n      <td>0.675576</td>\n      <td>6.257421</td>\n      <td>train</td>\n      <td>1187899.0</td>\n      <td>NaN</td>\n    </tr>\n    <tr>\n      <th>8</th>\n      <td>1</td>\n      <td>25133</td>\n      <td>8</td>\n      <td>1.000000</td>\n      <td>5.0</td>\n      <td>10</td>\n      <td>0.694915</td>\n      <td>6196</td>\n      <td>0.740155</td>\n      <td>7.001614</td>\n      <td>train</td>\n      <td>1187899.0</td>\n      <td>1.0</td>\n    </tr>\n    <tr>\n      <th>9</th>\n      <td>1</td>\n      <td>26088</td>\n      <td>2</td>\n      <td>0.200000</td>\n      <td>0.0</td>\n      <td>10</td>\n      <td>0.694915</td>\n      <td>2523</td>\n      <td>0.539041</td>\n      <td>6.495838</td>\n      <td>train</td>\n      <td>1187899.0</td>\n      <td>1.0</td>\n    </tr>\n  </tbody>\n</table>\n</div>"
     },
     "metadata": {},
     "execution_count": 39
    }
   ],
   "source": [
    "# Get from order_products_train all the products that the train users bought bought in their future order\n",
    "data_df = data.merge(order_products_train[['product_id','order_id', 'reordered']], on=['product_id','order_id'], how='left' )\n",
    "data_df.head(10)"
   ]
  },
  {
   "cell_type": "code",
   "execution_count": 40,
   "metadata": {},
   "outputs": [
    {
     "output_type": "execute_result",
     "data": {
      "text/plain": [
       "   user_id  product_id  up_total_bought  up_reorder_ratio  times_last_5  \\\n",
       "0        1         196               10          1.000000           5.0   \n",
       "1        1       10258                9          1.000000           5.0   \n",
       "2        1       10326                1          0.166667           0.0   \n",
       "3        1       12427               10          1.000000           5.0   \n",
       "4        1       13032                3          0.333333           2.0   \n",
       "5        1       13176                2          0.222222           0.0   \n",
       "6        1       14084                1          0.100000           0.0   \n",
       "7        1       17122                1          0.166667           0.0   \n",
       "8        1       25133                8          1.000000           5.0   \n",
       "9        1       26088                2          0.200000           0.0   \n",
       "\n",
       "   u_total_orders  u_reordered_ratio  p_total_purchases  p_reorder_ratio  \\\n",
       "0              10           0.694915              35791         0.776480   \n",
       "1              10           0.694915               1946         0.713772   \n",
       "2              10           0.694915               5526         0.652009   \n",
       "3              10           0.694915               6476         0.740735   \n",
       "4              10           0.694915               3751         0.657158   \n",
       "5              10           0.694915             379450         0.832555   \n",
       "6              10           0.694915              15935         0.810982   \n",
       "7              10           0.694915              13880         0.675576   \n",
       "8              10           0.694915               6196         0.740155   \n",
       "9              10           0.694915               2523         0.539041   \n",
       "\n",
       "   position_to_cart eval_set   order_id  reordered  \n",
       "0          3.721774    train  1187899.0        1.0  \n",
       "1          4.277492    train  1187899.0        1.0  \n",
       "2          4.191097    train  1187899.0        0.0  \n",
       "3          4.760037    train  1187899.0        0.0  \n",
       "4          5.622767    train  1187899.0        1.0  \n",
       "5          5.095947    train  1187899.0        0.0  \n",
       "6          5.792595    train  1187899.0        0.0  \n",
       "7          6.257421    train  1187899.0        0.0  \n",
       "8          7.001614    train  1187899.0        1.0  \n",
       "9          6.495838    train  1187899.0        1.0  "
      ],
      "text/html": "<div>\n<style scoped>\n    .dataframe tbody tr th:only-of-type {\n        vertical-align: middle;\n    }\n\n    .dataframe tbody tr th {\n        vertical-align: top;\n    }\n\n    .dataframe thead th {\n        text-align: right;\n    }\n</style>\n<table border=\"1\" class=\"dataframe\">\n  <thead>\n    <tr style=\"text-align: right;\">\n      <th></th>\n      <th>user_id</th>\n      <th>product_id</th>\n      <th>up_total_bought</th>\n      <th>up_reorder_ratio</th>\n      <th>times_last_5</th>\n      <th>u_total_orders</th>\n      <th>u_reordered_ratio</th>\n      <th>p_total_purchases</th>\n      <th>p_reorder_ratio</th>\n      <th>position_to_cart</th>\n      <th>eval_set</th>\n      <th>order_id</th>\n      <th>reordered</th>\n    </tr>\n  </thead>\n  <tbody>\n    <tr>\n      <th>0</th>\n      <td>1</td>\n      <td>196</td>\n      <td>10</td>\n      <td>1.000000</td>\n      <td>5.0</td>\n      <td>10</td>\n      <td>0.694915</td>\n      <td>35791</td>\n      <td>0.776480</td>\n      <td>3.721774</td>\n      <td>train</td>\n      <td>1187899.0</td>\n      <td>1.0</td>\n    </tr>\n    <tr>\n      <th>1</th>\n      <td>1</td>\n      <td>10258</td>\n      <td>9</td>\n      <td>1.000000</td>\n      <td>5.0</td>\n      <td>10</td>\n      <td>0.694915</td>\n      <td>1946</td>\n      <td>0.713772</td>\n      <td>4.277492</td>\n      <td>train</td>\n      <td>1187899.0</td>\n      <td>1.0</td>\n    </tr>\n    <tr>\n      <th>2</th>\n      <td>1</td>\n      <td>10326</td>\n      <td>1</td>\n      <td>0.166667</td>\n      <td>0.0</td>\n      <td>10</td>\n      <td>0.694915</td>\n      <td>5526</td>\n      <td>0.652009</td>\n      <td>4.191097</td>\n      <td>train</td>\n      <td>1187899.0</td>\n      <td>0.0</td>\n    </tr>\n    <tr>\n      <th>3</th>\n      <td>1</td>\n      <td>12427</td>\n      <td>10</td>\n      <td>1.000000</td>\n      <td>5.0</td>\n      <td>10</td>\n      <td>0.694915</td>\n      <td>6476</td>\n      <td>0.740735</td>\n      <td>4.760037</td>\n      <td>train</td>\n      <td>1187899.0</td>\n      <td>0.0</td>\n    </tr>\n    <tr>\n      <th>4</th>\n      <td>1</td>\n      <td>13032</td>\n      <td>3</td>\n      <td>0.333333</td>\n      <td>2.0</td>\n      <td>10</td>\n      <td>0.694915</td>\n      <td>3751</td>\n      <td>0.657158</td>\n      <td>5.622767</td>\n      <td>train</td>\n      <td>1187899.0</td>\n      <td>1.0</td>\n    </tr>\n    <tr>\n      <th>5</th>\n      <td>1</td>\n      <td>13176</td>\n      <td>2</td>\n      <td>0.222222</td>\n      <td>0.0</td>\n      <td>10</td>\n      <td>0.694915</td>\n      <td>379450</td>\n      <td>0.832555</td>\n      <td>5.095947</td>\n      <td>train</td>\n      <td>1187899.0</td>\n      <td>0.0</td>\n    </tr>\n    <tr>\n      <th>6</th>\n      <td>1</td>\n      <td>14084</td>\n      <td>1</td>\n      <td>0.100000</td>\n      <td>0.0</td>\n      <td>10</td>\n      <td>0.694915</td>\n      <td>15935</td>\n      <td>0.810982</td>\n      <td>5.792595</td>\n      <td>train</td>\n      <td>1187899.0</td>\n      <td>0.0</td>\n    </tr>\n    <tr>\n      <th>7</th>\n      <td>1</td>\n      <td>17122</td>\n      <td>1</td>\n      <td>0.166667</td>\n      <td>0.0</td>\n      <td>10</td>\n      <td>0.694915</td>\n      <td>13880</td>\n      <td>0.675576</td>\n      <td>6.257421</td>\n      <td>train</td>\n      <td>1187899.0</td>\n      <td>0.0</td>\n    </tr>\n    <tr>\n      <th>8</th>\n      <td>1</td>\n      <td>25133</td>\n      <td>8</td>\n      <td>1.000000</td>\n      <td>5.0</td>\n      <td>10</td>\n      <td>0.694915</td>\n      <td>6196</td>\n      <td>0.740155</td>\n      <td>7.001614</td>\n      <td>train</td>\n      <td>1187899.0</td>\n      <td>1.0</td>\n    </tr>\n    <tr>\n      <th>9</th>\n      <td>1</td>\n      <td>26088</td>\n      <td>2</td>\n      <td>0.200000</td>\n      <td>0.0</td>\n      <td>10</td>\n      <td>0.694915</td>\n      <td>2523</td>\n      <td>0.539041</td>\n      <td>6.495838</td>\n      <td>train</td>\n      <td>1187899.0</td>\n      <td>1.0</td>\n    </tr>\n  </tbody>\n</table>\n</div>"
     },
     "metadata": {},
     "execution_count": 40
    }
   ],
   "source": [
    "# Fill the NaN values\n",
    "data_df['reordered'] = data_df['reordered'].fillna(0)\n",
    "\n",
    "data_df.head(10)"
   ]
  },
  {
   "cell_type": "code",
   "execution_count": 41,
   "metadata": {},
   "outputs": [
    {
     "output_type": "execute_result",
     "data": {
      "text/plain": [
       "                    up_total_bought  up_reorder_ratio  times_last_5  \\\n",
       "user_id product_id                                                    \n",
       "1       196                      10          1.000000           5.0   \n",
       "        10258                     9          1.000000           5.0   \n",
       "        10326                     1          0.166667           0.0   \n",
       "        12427                    10          1.000000           5.0   \n",
       "        13032                     3          0.333333           2.0   \n",
       "\n",
       "                    u_total_orders  u_reordered_ratio  p_total_purchases  \\\n",
       "user_id product_id                                                         \n",
       "1       196                     10           0.694915              35791   \n",
       "        10258                   10           0.694915               1946   \n",
       "        10326                   10           0.694915               5526   \n",
       "        12427                   10           0.694915               6476   \n",
       "        13032                   10           0.694915               3751   \n",
       "\n",
       "                    p_reorder_ratio  position_to_cart  \n",
       "user_id product_id                                     \n",
       "1       196                0.776480          3.721774  \n",
       "        10258              0.713772          4.277492  \n",
       "        10326              0.652009          4.191097  \n",
       "        12427              0.740735          4.760037  \n",
       "        13032              0.657158          5.622767  "
      ],
      "text/html": "<div>\n<style scoped>\n    .dataframe tbody tr th:only-of-type {\n        vertical-align: middle;\n    }\n\n    .dataframe tbody tr th {\n        vertical-align: top;\n    }\n\n    .dataframe thead th {\n        text-align: right;\n    }\n</style>\n<table border=\"1\" class=\"dataframe\">\n  <thead>\n    <tr style=\"text-align: right;\">\n      <th></th>\n      <th></th>\n      <th>up_total_bought</th>\n      <th>up_reorder_ratio</th>\n      <th>times_last_5</th>\n      <th>u_total_orders</th>\n      <th>u_reordered_ratio</th>\n      <th>p_total_purchases</th>\n      <th>p_reorder_ratio</th>\n      <th>position_to_cart</th>\n    </tr>\n    <tr>\n      <th>user_id</th>\n      <th>product_id</th>\n      <th></th>\n      <th></th>\n      <th></th>\n      <th></th>\n      <th></th>\n      <th></th>\n      <th></th>\n      <th></th>\n    </tr>\n  </thead>\n  <tbody>\n    <tr>\n      <th rowspan=\"5\" valign=\"top\">1</th>\n      <th>196</th>\n      <td>10</td>\n      <td>1.000000</td>\n      <td>5.0</td>\n      <td>10</td>\n      <td>0.694915</td>\n      <td>35791</td>\n      <td>0.776480</td>\n      <td>3.721774</td>\n    </tr>\n    <tr>\n      <th>10258</th>\n      <td>9</td>\n      <td>1.000000</td>\n      <td>5.0</td>\n      <td>10</td>\n      <td>0.694915</td>\n      <td>1946</td>\n      <td>0.713772</td>\n      <td>4.277492</td>\n    </tr>\n    <tr>\n      <th>10326</th>\n      <td>1</td>\n      <td>0.166667</td>\n      <td>0.0</td>\n      <td>10</td>\n      <td>0.694915</td>\n      <td>5526</td>\n      <td>0.652009</td>\n      <td>4.191097</td>\n    </tr>\n    <tr>\n      <th>12427</th>\n      <td>10</td>\n      <td>1.000000</td>\n      <td>5.0</td>\n      <td>10</td>\n      <td>0.694915</td>\n      <td>6476</td>\n      <td>0.740735</td>\n      <td>4.760037</td>\n    </tr>\n    <tr>\n      <th>13032</th>\n      <td>3</td>\n      <td>0.333333</td>\n      <td>2.0</td>\n      <td>10</td>\n      <td>0.694915</td>\n      <td>3751</td>\n      <td>0.657158</td>\n      <td>5.622767</td>\n    </tr>\n  </tbody>\n</table>\n</div>"
     },
     "metadata": {},
     "execution_count": 41
    }
   ],
   "source": [
    "data_df = data_df.set_index(['user_id', 'product_id'])\n",
    "\n",
    "# Split train set - test set\n",
    "X = data_df.iloc[:,:-3]\n",
    "y = data_df.iloc[:,-1]\n",
    "\n",
    "# X = X.set_index(['user_id', 'product_id'])\n",
    "X.head()"
   ]
  },
  {
   "cell_type": "code",
   "execution_count": 42,
   "metadata": {},
   "outputs": [],
   "source": [
    "from sklearn.model_selection import train_test_split\n",
    "X_train, X_test, y_train, y_test = train_test_split(X, y, test_size=0.3, random_state=42)"
   ]
  },
  {
   "cell_type": "markdown",
   "metadata": {},
   "source": [
    "### 5.2 Train XGBoost Classifier"
   ]
  },
  {
   "cell_type": "code",
   "execution_count": 43,
   "metadata": {},
   "outputs": [],
   "source": [
    "X_train.to_csv('X_train.csv')"
   ]
  },
  {
   "cell_type": "code",
   "execution_count": 44,
   "metadata": {},
   "outputs": [],
   "source": [
    "# Standard Scale\n",
    "from sklearn.preprocessing import StandardScaler\n",
    "from sklearn.pipeline import Pipeline\n",
    "from sklearn.preprocessing import MinMaxScaler\n",
    "\n",
    "pipeline = Pipeline([\n",
    "    ('std_scalar', StandardScaler())\n",
    "])\n",
    "\n",
    "X_train = pipeline.fit_transform(X_train)\n",
    "X_test = pipeline.transform(X_test)"
   ]
  },
  {
   "cell_type": "code",
   "execution_count": 45,
   "metadata": {},
   "outputs": [],
   "source": [
    "from numpy import nan"
   ]
  },
  {
   "cell_type": "code",
   "execution_count": 46,
   "metadata": {},
   "outputs": [],
   "source": [
    "param = {'objective': 'binary:logistic',\n",
    " 'use_label_encoder': True,\n",
    " 'base_score': 0.5,\n",
    " 'booster': 'gbtree',\n",
    " 'colsample_bylevel': 1,\n",
    " 'colsample_bynode': 1,\n",
    " 'colsample_bytree': 0.4,\n",
    " 'gamma': 0,\n",
    " 'gpu_id': -1,\n",
    " 'importance_type': 'gain',\n",
    " 'interaction_constraints': '',\n",
    " 'learning_rate': 0.300000012,\n",
    " 'max_delta_step': 0,\n",
    " 'max_depth': 5,\n",
    " 'min_child_weight': 1,\n",
    " 'missing': nan,\n",
    " 'monotone_constraints': '()',\n",
    " 'n_estimators': 100,\n",
    " 'n_jobs': 4,\n",
    " 'num_parallel_tree': 1,\n",
    " 'random_state': 0,\n",
    " 'reg_alpha': 0,\n",
    " 'reg_lambda': 1,\n",
    " 'scale_pos_weight': 1,\n",
    " 'subsample': 1,\n",
    " 'tree_method': 'exact',\n",
    " 'validate_parameters': 1,\n",
    " 'verbosity': None,\n",
    " 'eval_metric': 'logloss',\n",
    " 'num_boost_round': 10}"
   ]
  },
  {
   "cell_type": "code",
   "execution_count": 47,
   "metadata": {},
   "outputs": [
    {
     "output_type": "stream",
     "name": "stderr",
     "text": [
      "C:\\Users\\phuoc.huynhtan\\Anaconda3\\lib\\site-packages\\xgboost\\sklearn.py:1146: UserWarning: The use of label encoder in XGBClassifier is deprecated and will be removed in a future release. To remove this warning, do the following: 1) Pass option use_label_encoder=False when constructing XGBClassifier object; and 2) Encode your labels (y) as integers starting with 0, i.e. 0, 1, 2, ..., [num_class - 1].\n",
      "  warnings.warn(label_encoder_deprecation_msg, UserWarning)\n",
      "[16:58:43] WARNING: C:/Users/Administrator/workspace/xgboost-win64_release_1.4.0/src/learner.cc:573: \n",
      "Parameters: { \"num_boost_round\" } might not be used.\n",
      "\n",
      "  This may not be accurate due to some parameters are only used in language bindings but\n",
      "  passed down to XGBoost core.  Or some parameters are not used but slip through this\n",
      "  verification. Please open an issue if you find above cases.\n",
      "\n",
      "\n"
     ]
    },
    {
     "output_type": "execute_result",
     "data": {
      "text/plain": [
       "XGBClassifier(base_score=0.5, booster='gbtree', colsample_bylevel=1,\n",
       "              colsample_bynode=1, colsample_bytree=0.4, eval_metric='logloss',\n",
       "              gamma=0, gpu_id=-1, importance_type='gain',\n",
       "              interaction_constraints='', learning_rate=0.300000012,\n",
       "              max_delta_step=0, max_depth=5, min_child_weight=1, missing=nan,\n",
       "              monotone_constraints='()', n_estimators=100, n_jobs=4,\n",
       "              num_boost_round=10, num_parallel_tree=1, random_state=0,\n",
       "              reg_alpha=0, reg_lambda=1, scale_pos_weight=1, subsample=1,\n",
       "              tree_method='exact', validate_parameters=1, verbosity=None)"
      ]
     },
     "metadata": {},
     "execution_count": 47
    }
   ],
   "source": [
    "import xgboost as xgb\n",
    "xgb_cmodel = xgb.XGBClassifier(objective = 'binary:logistic', use_label_encoder= True, base_score = 0.5, booster = 'gbtree', colsample_bylevel = 1, colsample_bynode = 1, colsample_bytree = 0.4, gamma = 0, gpu_id = -1, importance_type = 'gain',interaction_constraints = '', learning_rate = 0.300000012, max_delta_step = 0, max_depth = 5, min_child_weight = 1, missing = nan,monotone_constraints = '()', n_estimators = 100, n_jobs = 4, num_parallel_tree = 1, random_state = 0, reg_alpha = 0, reg_lambda = 1,scale_pos_weight = 1, subsample = 1, tree_method = 'exact', validate_parameters = 1, verbosity = None, eval_metric = 'logloss',num_boost_round = 10)\n",
    "xgb_cmodel.fit(X_train, y_train)"
   ]
  },
  {
   "cell_type": "code",
   "execution_count": 48,
   "metadata": {},
   "outputs": [
    {
     "output_type": "execute_result",
     "data": {
      "text/plain": [
       "{'objective': 'binary:logistic',\n",
       " 'use_label_encoder': True,\n",
       " 'base_score': 0.5,\n",
       " 'booster': 'gbtree',\n",
       " 'colsample_bylevel': 1,\n",
       " 'colsample_bynode': 1,\n",
       " 'colsample_bytree': 0.4,\n",
       " 'gamma': 0,\n",
       " 'gpu_id': -1,\n",
       " 'importance_type': 'gain',\n",
       " 'interaction_constraints': '',\n",
       " 'learning_rate': 0.300000012,\n",
       " 'max_delta_step': 0,\n",
       " 'max_depth': 5,\n",
       " 'min_child_weight': 1,\n",
       " 'missing': nan,\n",
       " 'monotone_constraints': '()',\n",
       " 'n_estimators': 100,\n",
       " 'n_jobs': 4,\n",
       " 'num_parallel_tree': 1,\n",
       " 'random_state': 0,\n",
       " 'reg_alpha': 0,\n",
       " 'reg_lambda': 1,\n",
       " 'scale_pos_weight': 1,\n",
       " 'subsample': 1,\n",
       " 'tree_method': 'exact',\n",
       " 'validate_parameters': 1,\n",
       " 'verbosity': None,\n",
       " 'eval_metric': 'logloss',\n",
       " 'num_boost_round': 10}"
      ]
     },
     "metadata": {},
     "execution_count": 48
    }
   ],
   "source": [
    "# Get best params\n",
    "xgb_cmodel.get_params()"
   ]
  },
  {
   "cell_type": "code",
   "execution_count": 49,
   "metadata": {},
   "outputs": [
    {
     "output_type": "execute_result",
     "data": {
      "text/plain": [
       "array([0, 1, 0, 0, 0])"
      ]
     },
     "metadata": {},
     "execution_count": 49
    }
   ],
   "source": [
    "# Get model predictions on train set with threshold of 0.21 probability\n",
    "train_pred = (xgb_cmodel.predict_proba(X_train)[:, 1] >= 0.21).astype(int)\n",
    "train_pred[:5]"
   ]
  },
  {
   "cell_type": "code",
   "execution_count": 50,
   "metadata": {},
   "outputs": [
    {
     "output_type": "execute_result",
     "data": {
      "text/plain": [
       "array([0, 0, 1, 0, 0])"
      ]
     },
     "metadata": {},
     "execution_count": 50
    }
   ],
   "source": [
    "# Get model predictions with threshold of 0.21 probability\n",
    "test_pred = (xgb_cmodel.predict_proba(X_test)[:, 1] >= 0.21).astype(int)\n",
    "test_pred[:5]"
   ]
  },
  {
   "cell_type": "code",
   "execution_count": 51,
   "metadata": {},
   "outputs": [
    {
     "output_type": "stream",
     "name": "stdout",
     "text": [
      "f1 Score: 0.3230156556185339\n",
      "              precision    recall  f1-score   support\n",
      "\n",
      "           0       0.95      0.96      0.95   8709014\n",
      "           1       0.33      0.32      0.32    606553\n",
      "\n",
      "    accuracy                           0.91   9315567\n",
      "   macro avg       0.64      0.64      0.64   9315567\n",
      "weighted avg       0.91      0.91      0.91   9315567\n",
      "\n",
      "f1 Score: 0.32061491885941196\n",
      "              precision    recall  f1-score   support\n",
      "\n",
      "           0       0.95      0.96      0.95   3732603\n",
      "           1       0.33      0.31      0.32    259783\n",
      "\n",
      "    accuracy                           0.91   3992386\n",
      "   macro avg       0.64      0.63      0.64   3992386\n",
      "weighted avg       0.91      0.91      0.91   3992386\n",
      "\n"
     ]
    }
   ],
   "source": [
    "# Import evaluation matrices\n",
    "from sklearn.metrics import f1_score, classification_report\n",
    "from sklearn import metrics\n",
    "\n",
    "# Confusion Matrix\n",
    "metrics.confusion_matrix(test_pred, y_test)\n",
    "\n",
    "# Get f1 score and classification report\n",
    "print(f'f1 Score: {f1_score(train_pred, y_train)}')\n",
    "print(classification_report(train_pred, y_train))\n",
    "\n",
    "print(f'f1 Score: {f1_score(test_pred, y_test)}')\n",
    "print(classification_report(test_pred, y_test))"
   ]
  },
  {
   "cell_type": "code",
   "execution_count": 52,
   "metadata": {},
   "outputs": [],
   "source": [
    "# Define function for evaluation\n",
    "def eval_class(true, predicted):\n",
    "    acc = metrics.accuracy_score(true, predicted)\n",
    "    precision = metrics.precision_score(true, predicted)\n",
    "    recall = metrics.recall_score(true, predicted)\n",
    "    f1 = metrics.f1_score(true, predicted)\n",
    "    log_loss = metrics.log_loss(true, predicted)\n",
    "    auc = metrics.roc_auc_score(true, predicted)\n",
    "    return acc, precision, recall, f1, log_loss, auc"
   ]
  },
  {
   "cell_type": "code",
   "execution_count": 53,
   "metadata": {},
   "outputs": [],
   "source": [
    "def plot_feature_importance(importance,names,model_type):\n",
    "    #Create arrays from feature importance and feature names\n",
    "    feature_importance = np.array(importance)\n",
    "    feature_names = np.array(names)\n",
    "\n",
    "    #Create a DataFrame using a Dictionary\n",
    "    data={'feature_names':feature_names,'feature_importance':feature_importance}\n",
    "    fi_df = pd.DataFrame(data)\n",
    "\n",
    "    #Sort the DataFrame in order decreasing feature importance\n",
    "    fi_df.sort_values(by=['feature_importance'], ascending=False,inplace=True)\n",
    "\n",
    "    #Define size of bar plot\n",
    "    plt.figure(figsize=(10,8))\n",
    "    #Plot Searborn bar chart\n",
    "    sns.barplot(x=fi_df['feature_importance'], y=fi_df['feature_names'])\n",
    "    #Add chart labels\n",
    "    plt.title(model_type + ' FEATURE IMPORTANCE')\n",
    "    plt.xlabel('FEATURE IMPORTANCE')\n",
    "    plt.ylabel('FEATURE NAMES')"
   ]
  },
  {
   "cell_type": "code",
   "execution_count": 54,
   "metadata": {},
   "outputs": [
    {
     "output_type": "execute_result",
     "data": {
      "text/plain": [
       "                Model Accuracy_train Accuracy_test Precision_test Recall_test  \\\n",
       "0  XGBoost Classifier       0.913776      0.913437         0.3139    0.327623   \n",
       "\n",
       "    F1_test Log_loss_test  AUC_test  \n",
       "0  0.320615      2.989817  0.640005  "
      ],
      "text/html": "<div>\n<style scoped>\n    .dataframe tbody tr th:only-of-type {\n        vertical-align: middle;\n    }\n\n    .dataframe tbody tr th {\n        vertical-align: top;\n    }\n\n    .dataframe thead tr th {\n        text-align: left;\n    }\n</style>\n<table border=\"1\" class=\"dataframe\">\n  <thead>\n    <tr>\n      <th></th>\n      <th>Model</th>\n      <th>Accuracy_train</th>\n      <th>Accuracy_test</th>\n      <th>Precision_test</th>\n      <th>Recall_test</th>\n      <th>F1_test</th>\n      <th>Log_loss_test</th>\n      <th>AUC_test</th>\n    </tr>\n  </thead>\n  <tbody>\n    <tr>\n      <th>0</th>\n      <td>XGBoost Classifier</td>\n      <td>0.913776</td>\n      <td>0.913437</td>\n      <td>0.3139</td>\n      <td>0.327623</td>\n      <td>0.320615</td>\n      <td>2.989817</td>\n      <td>0.640005</td>\n    </tr>\n  </tbody>\n</table>\n</div>"
     },
     "metadata": {},
     "execution_count": 54
    }
   ],
   "source": [
    "# Evaluation on Train & Test set\n",
    "eval_clm_metrics = ['Accuracy', 'Precision', 'Recall', 'F1', 'Log_loss','AUC']\n",
    "eval_clm_train = [m + '_train' for m in eval_clm_metrics]\n",
    "eval_clm_test = [m + '_test' for m in eval_clm_metrics]\n",
    "dis_clm = ['Model','Accuracy_train'] + eval_clm_test\n",
    "res_clm = pd.DataFrame(data=[[\"XGBoost Classifier\",*eval_class(y_train, train_pred),\n",
    "                                 *eval_class(y_test, test_pred)]],\n",
    "                          columns=[['Model'] + eval_clm_train + eval_clm_test])\n",
    "res_clm[dis_clm]"
   ]
  },
  {
   "cell_type": "code",
   "execution_count": 55,
   "metadata": {},
   "outputs": [
    {
     "output_type": "display_data",
     "data": {
      "text/plain": "<Figure size 720x576 with 1 Axes>",
      "image/svg+xml": "<?xml version=\"1.0\" encoding=\"utf-8\" standalone=\"no\"?>\r\n<!DOCTYPE svg PUBLIC \"-//W3C//DTD SVG 1.1//EN\"\r\n  \"http://www.w3.org/Graphics/SVG/1.1/DTD/svg11.dtd\">\r\n<!-- Created with matplotlib (https://matplotlib.org/) -->\r\n<svg height=\"494.754375pt\" version=\"1.1\" viewBox=\"0 0 683.4 494.754375\" width=\"683.4pt\" xmlns=\"http://www.w3.org/2000/svg\" xmlns:xlink=\"http://www.w3.org/1999/xlink\">\r\n <metadata>\r\n  <rdf:RDF xmlns:cc=\"http://creativecommons.org/ns#\" xmlns:dc=\"http://purl.org/dc/elements/1.1/\" xmlns:rdf=\"http://www.w3.org/1999/02/22-rdf-syntax-ns#\">\r\n   <cc:Work>\r\n    <dc:type rdf:resource=\"http://purl.org/dc/dcmitype/StillImage\"/>\r\n    <dc:date>2021-07-09T17:07:35.508970</dc:date>\r\n    <dc:format>image/svg+xml</dc:format>\r\n    <dc:creator>\r\n     <cc:Agent>\r\n      <dc:title>Matplotlib v3.3.2, https://matplotlib.org/</dc:title>\r\n     </cc:Agent>\r\n    </dc:creator>\r\n   </cc:Work>\r\n  </rdf:RDF>\r\n </metadata>\r\n <defs>\r\n  <style type=\"text/css\">*{stroke-linecap:butt;stroke-linejoin:round;}</style>\r\n </defs>\r\n <g id=\"figure_1\">\r\n  <g id=\"patch_1\">\r\n   <path d=\"M 0 494.754375 \r\nL 683.4 494.754375 \r\nL 683.4 0 \r\nL 0 0 \r\nz\r\n\" style=\"fill:none;\"/>\r\n  </g>\r\n  <g id=\"axes_1\">\r\n   <g id=\"patch_2\">\r\n    <path d=\"M 118.2 457.198125 \r\nL 676.2 457.198125 \r\nL 676.2 22.318125 \r\nL 118.2 22.318125 \r\nz\r\n\" style=\"fill:#ffffff;\"/>\r\n   </g>\r\n   <g id=\"patch_3\">\r\n    <path clip-path=\"url(#p128d9c93a0)\" d=\"M 118.2 27.754125 \r\nL 649.628571 27.754125 \r\nL 649.628571 71.242125 \r\nL 118.2 71.242125 \r\nz\r\n\" style=\"fill:#3274a1;\"/>\r\n   </g>\r\n   <g id=\"patch_4\">\r\n    <path clip-path=\"url(#p128d9c93a0)\" d=\"M 118.2 82.114125 \r\nL 295.679784 82.114125 \r\nL 295.679784 125.602125 \r\nL 118.2 125.602125 \r\nz\r\n\" style=\"fill:#e1812c;\"/>\r\n   </g>\r\n   <g id=\"patch_5\">\r\n    <path clip-path=\"url(#p128d9c93a0)\" d=\"M 118.2 136.474125 \r\nL 252.788926 136.474125 \r\nL 252.788926 179.962125 \r\nL 118.2 179.962125 \r\nz\r\n\" style=\"fill:#3a923a;\"/>\r\n   </g>\r\n   <g id=\"patch_6\">\r\n    <path clip-path=\"url(#p128d9c93a0)\" d=\"M 118.2 190.834125 \r\nL 163.676122 190.834125 \r\nL 163.676122 234.322125 \r\nL 118.2 234.322125 \r\nz\r\n\" style=\"fill:#c03d3e;\"/>\r\n   </g>\r\n   <g id=\"patch_7\">\r\n    <path clip-path=\"url(#p128d9c93a0)\" d=\"M 118.2 245.194125 \r\nL 162.948219 245.194125 \r\nL 162.948219 288.682125 \r\nL 118.2 288.682125 \r\nz\r\n\" style=\"fill:#9372b2;\"/>\r\n   </g>\r\n   <g id=\"patch_8\">\r\n    <path clip-path=\"url(#p128d9c93a0)\" d=\"M 118.2 299.554125 \r\nL 143.450102 299.554125 \r\nL 143.450102 343.042125 \r\nL 118.2 343.042125 \r\nz\r\n\" style=\"fill:#845b53;\"/>\r\n   </g>\r\n   <g id=\"patch_9\">\r\n    <path clip-path=\"url(#p128d9c93a0)\" d=\"M 118.2 353.914125 \r\nL 132.439081 353.914125 \r\nL 132.439081 397.402125 \r\nL 118.2 397.402125 \r\nz\r\n\" style=\"fill:#d684bd;\"/>\r\n   </g>\r\n   <g id=\"patch_10\">\r\n    <path clip-path=\"url(#p128d9c93a0)\" d=\"M 118.2 408.274125 \r\nL 127.198909 408.274125 \r\nL 127.198909 451.762125 \r\nL 118.2 451.762125 \r\nz\r\n\" style=\"fill:#7f7f7f;\"/>\r\n   </g>\r\n   <g id=\"matplotlib.axis_1\">\r\n    <g id=\"xtick_1\">\r\n     <g id=\"line2d_1\">\r\n      <defs>\r\n       <path d=\"M 0 0 \r\nL 0 3.5 \r\n\" id=\"me8e92a6168\" style=\"stroke:#000000;stroke-width:0.8;\"/>\r\n      </defs>\r\n      <g>\r\n       <use style=\"stroke:#000000;stroke-width:0.8;\" x=\"118.2\" xlink:href=\"#me8e92a6168\" y=\"457.198125\"/>\r\n      </g>\r\n     </g>\r\n     <g id=\"text_1\">\r\n      <!-- 0.0 -->\r\n      <g transform=\"translate(110.248438 471.796562)scale(0.1 -0.1)\">\r\n       <defs>\r\n        <path d=\"M 31.78125 66.40625 \r\nQ 24.171875 66.40625 20.328125 58.90625 \r\nQ 16.5 51.421875 16.5 36.375 \r\nQ 16.5 21.390625 20.328125 13.890625 \r\nQ 24.171875 6.390625 31.78125 6.390625 \r\nQ 39.453125 6.390625 43.28125 13.890625 \r\nQ 47.125 21.390625 47.125 36.375 \r\nQ 47.125 51.421875 43.28125 58.90625 \r\nQ 39.453125 66.40625 31.78125 66.40625 \r\nz\r\nM 31.78125 74.21875 \r\nQ 44.046875 74.21875 50.515625 64.515625 \r\nQ 56.984375 54.828125 56.984375 36.375 \r\nQ 56.984375 17.96875 50.515625 8.265625 \r\nQ 44.046875 -1.421875 31.78125 -1.421875 \r\nQ 19.53125 -1.421875 13.0625 8.265625 \r\nQ 6.59375 17.96875 6.59375 36.375 \r\nQ 6.59375 54.828125 13.0625 64.515625 \r\nQ 19.53125 74.21875 31.78125 74.21875 \r\nz\r\n\" id=\"DejaVuSans-48\"/>\r\n        <path d=\"M 10.6875 12.40625 \r\nL 21 12.40625 \r\nL 21 0 \r\nL 10.6875 0 \r\nz\r\n\" id=\"DejaVuSans-46\"/>\r\n       </defs>\r\n       <use xlink:href=\"#DejaVuSans-48\"/>\r\n       <use x=\"63.623047\" xlink:href=\"#DejaVuSans-46\"/>\r\n       <use x=\"95.410156\" xlink:href=\"#DejaVuSans-48\"/>\r\n      </g>\r\n     </g>\r\n    </g>\r\n    <g id=\"xtick_2\">\r\n     <g id=\"line2d_2\">\r\n      <g>\r\n       <use style=\"stroke:#000000;stroke-width:0.8;\" x=\"216.420973\" xlink:href=\"#me8e92a6168\" y=\"457.198125\"/>\r\n      </g>\r\n     </g>\r\n     <g id=\"text_2\">\r\n      <!-- 0.1 -->\r\n      <g transform=\"translate(208.46941 471.796562)scale(0.1 -0.1)\">\r\n       <defs>\r\n        <path d=\"M 12.40625 8.296875 \r\nL 28.515625 8.296875 \r\nL 28.515625 63.921875 \r\nL 10.984375 60.40625 \r\nL 10.984375 69.390625 \r\nL 28.421875 72.90625 \r\nL 38.28125 72.90625 \r\nL 38.28125 8.296875 \r\nL 54.390625 8.296875 \r\nL 54.390625 0 \r\nL 12.40625 0 \r\nz\r\n\" id=\"DejaVuSans-49\"/>\r\n       </defs>\r\n       <use xlink:href=\"#DejaVuSans-48\"/>\r\n       <use x=\"63.623047\" xlink:href=\"#DejaVuSans-46\"/>\r\n       <use x=\"95.410156\" xlink:href=\"#DejaVuSans-49\"/>\r\n      </g>\r\n     </g>\r\n    </g>\r\n    <g id=\"xtick_3\">\r\n     <g id=\"line2d_3\">\r\n      <g>\r\n       <use style=\"stroke:#000000;stroke-width:0.8;\" x=\"314.641946\" xlink:href=\"#me8e92a6168\" y=\"457.198125\"/>\r\n      </g>\r\n     </g>\r\n     <g id=\"text_3\">\r\n      <!-- 0.2 -->\r\n      <g transform=\"translate(306.690383 471.796562)scale(0.1 -0.1)\">\r\n       <defs>\r\n        <path d=\"M 19.1875 8.296875 \r\nL 53.609375 8.296875 \r\nL 53.609375 0 \r\nL 7.328125 0 \r\nL 7.328125 8.296875 \r\nQ 12.9375 14.109375 22.625 23.890625 \r\nQ 32.328125 33.6875 34.8125 36.53125 \r\nQ 39.546875 41.84375 41.421875 45.53125 \r\nQ 43.3125 49.21875 43.3125 52.78125 \r\nQ 43.3125 58.59375 39.234375 62.25 \r\nQ 35.15625 65.921875 28.609375 65.921875 \r\nQ 23.96875 65.921875 18.8125 64.3125 \r\nQ 13.671875 62.703125 7.8125 59.421875 \r\nL 7.8125 69.390625 \r\nQ 13.765625 71.78125 18.9375 73 \r\nQ 24.125 74.21875 28.421875 74.21875 \r\nQ 39.75 74.21875 46.484375 68.546875 \r\nQ 53.21875 62.890625 53.21875 53.421875 \r\nQ 53.21875 48.921875 51.53125 44.890625 \r\nQ 49.859375 40.875 45.40625 35.40625 \r\nQ 44.1875 33.984375 37.640625 27.21875 \r\nQ 31.109375 20.453125 19.1875 8.296875 \r\nz\r\n\" id=\"DejaVuSans-50\"/>\r\n       </defs>\r\n       <use xlink:href=\"#DejaVuSans-48\"/>\r\n       <use x=\"63.623047\" xlink:href=\"#DejaVuSans-46\"/>\r\n       <use x=\"95.410156\" xlink:href=\"#DejaVuSans-50\"/>\r\n      </g>\r\n     </g>\r\n    </g>\r\n    <g id=\"xtick_4\">\r\n     <g id=\"line2d_4\">\r\n      <g>\r\n       <use style=\"stroke:#000000;stroke-width:0.8;\" x=\"412.862919\" xlink:href=\"#me8e92a6168\" y=\"457.198125\"/>\r\n      </g>\r\n     </g>\r\n     <g id=\"text_4\">\r\n      <!-- 0.3 -->\r\n      <g transform=\"translate(404.911356 471.796562)scale(0.1 -0.1)\">\r\n       <defs>\r\n        <path d=\"M 40.578125 39.3125 \r\nQ 47.65625 37.796875 51.625 33 \r\nQ 55.609375 28.21875 55.609375 21.1875 \r\nQ 55.609375 10.40625 48.1875 4.484375 \r\nQ 40.765625 -1.421875 27.09375 -1.421875 \r\nQ 22.515625 -1.421875 17.65625 -0.515625 \r\nQ 12.796875 0.390625 7.625 2.203125 \r\nL 7.625 11.71875 \r\nQ 11.71875 9.328125 16.59375 8.109375 \r\nQ 21.484375 6.890625 26.8125 6.890625 \r\nQ 36.078125 6.890625 40.9375 10.546875 \r\nQ 45.796875 14.203125 45.796875 21.1875 \r\nQ 45.796875 27.640625 41.28125 31.265625 \r\nQ 36.765625 34.90625 28.71875 34.90625 \r\nL 20.21875 34.90625 \r\nL 20.21875 43.015625 \r\nL 29.109375 43.015625 \r\nQ 36.375 43.015625 40.234375 45.921875 \r\nQ 44.09375 48.828125 44.09375 54.296875 \r\nQ 44.09375 59.90625 40.109375 62.90625 \r\nQ 36.140625 65.921875 28.71875 65.921875 \r\nQ 24.65625 65.921875 20.015625 65.03125 \r\nQ 15.375 64.15625 9.8125 62.3125 \r\nL 9.8125 71.09375 \r\nQ 15.4375 72.65625 20.34375 73.4375 \r\nQ 25.25 74.21875 29.59375 74.21875 \r\nQ 40.828125 74.21875 47.359375 69.109375 \r\nQ 53.90625 64.015625 53.90625 55.328125 \r\nQ 53.90625 49.265625 50.4375 45.09375 \r\nQ 46.96875 40.921875 40.578125 39.3125 \r\nz\r\n\" id=\"DejaVuSans-51\"/>\r\n       </defs>\r\n       <use xlink:href=\"#DejaVuSans-48\"/>\r\n       <use x=\"63.623047\" xlink:href=\"#DejaVuSans-46\"/>\r\n       <use x=\"95.410156\" xlink:href=\"#DejaVuSans-51\"/>\r\n      </g>\r\n     </g>\r\n    </g>\r\n    <g id=\"xtick_5\">\r\n     <g id=\"line2d_5\">\r\n      <g>\r\n       <use style=\"stroke:#000000;stroke-width:0.8;\" x=\"511.083892\" xlink:href=\"#me8e92a6168\" y=\"457.198125\"/>\r\n      </g>\r\n     </g>\r\n     <g id=\"text_5\">\r\n      <!-- 0.4 -->\r\n      <g transform=\"translate(503.132329 471.796562)scale(0.1 -0.1)\">\r\n       <defs>\r\n        <path d=\"M 37.796875 64.3125 \r\nL 12.890625 25.390625 \r\nL 37.796875 25.390625 \r\nz\r\nM 35.203125 72.90625 \r\nL 47.609375 72.90625 \r\nL 47.609375 25.390625 \r\nL 58.015625 25.390625 \r\nL 58.015625 17.1875 \r\nL 47.609375 17.1875 \r\nL 47.609375 0 \r\nL 37.796875 0 \r\nL 37.796875 17.1875 \r\nL 4.890625 17.1875 \r\nL 4.890625 26.703125 \r\nz\r\n\" id=\"DejaVuSans-52\"/>\r\n       </defs>\r\n       <use xlink:href=\"#DejaVuSans-48\"/>\r\n       <use x=\"63.623047\" xlink:href=\"#DejaVuSans-46\"/>\r\n       <use x=\"95.410156\" xlink:href=\"#DejaVuSans-52\"/>\r\n      </g>\r\n     </g>\r\n    </g>\r\n    <g id=\"xtick_6\">\r\n     <g id=\"line2d_6\">\r\n      <g>\r\n       <use style=\"stroke:#000000;stroke-width:0.8;\" x=\"609.304864\" xlink:href=\"#me8e92a6168\" y=\"457.198125\"/>\r\n      </g>\r\n     </g>\r\n     <g id=\"text_6\">\r\n      <!-- 0.5 -->\r\n      <g transform=\"translate(601.353302 471.796562)scale(0.1 -0.1)\">\r\n       <defs>\r\n        <path d=\"M 10.796875 72.90625 \r\nL 49.515625 72.90625 \r\nL 49.515625 64.59375 \r\nL 19.828125 64.59375 \r\nL 19.828125 46.734375 \r\nQ 21.96875 47.46875 24.109375 47.828125 \r\nQ 26.265625 48.1875 28.421875 48.1875 \r\nQ 40.625 48.1875 47.75 41.5 \r\nQ 54.890625 34.8125 54.890625 23.390625 \r\nQ 54.890625 11.625 47.5625 5.09375 \r\nQ 40.234375 -1.421875 26.90625 -1.421875 \r\nQ 22.3125 -1.421875 17.546875 -0.640625 \r\nQ 12.796875 0.140625 7.71875 1.703125 \r\nL 7.71875 11.625 \r\nQ 12.109375 9.234375 16.796875 8.0625 \r\nQ 21.484375 6.890625 26.703125 6.890625 \r\nQ 35.15625 6.890625 40.078125 11.328125 \r\nQ 45.015625 15.765625 45.015625 23.390625 \r\nQ 45.015625 31 40.078125 35.4375 \r\nQ 35.15625 39.890625 26.703125 39.890625 \r\nQ 22.75 39.890625 18.8125 39.015625 \r\nQ 14.890625 38.140625 10.796875 36.28125 \r\nz\r\n\" id=\"DejaVuSans-53\"/>\r\n       </defs>\r\n       <use xlink:href=\"#DejaVuSans-48\"/>\r\n       <use x=\"63.623047\" xlink:href=\"#DejaVuSans-46\"/>\r\n       <use x=\"95.410156\" xlink:href=\"#DejaVuSans-53\"/>\r\n      </g>\r\n     </g>\r\n    </g>\r\n    <g id=\"text_7\">\r\n     <!-- FEATURE IMPORTANCE -->\r\n     <g transform=\"translate(340.866406 485.474687)scale(0.1 -0.1)\">\r\n      <defs>\r\n       <path d=\"M 9.8125 72.90625 \r\nL 51.703125 72.90625 \r\nL 51.703125 64.59375 \r\nL 19.671875 64.59375 \r\nL 19.671875 43.109375 \r\nL 48.578125 43.109375 \r\nL 48.578125 34.8125 \r\nL 19.671875 34.8125 \r\nL 19.671875 0 \r\nL 9.8125 0 \r\nz\r\n\" id=\"DejaVuSans-70\"/>\r\n       <path d=\"M 9.8125 72.90625 \r\nL 55.90625 72.90625 \r\nL 55.90625 64.59375 \r\nL 19.671875 64.59375 \r\nL 19.671875 43.015625 \r\nL 54.390625 43.015625 \r\nL 54.390625 34.71875 \r\nL 19.671875 34.71875 \r\nL 19.671875 8.296875 \r\nL 56.78125 8.296875 \r\nL 56.78125 0 \r\nL 9.8125 0 \r\nz\r\n\" id=\"DejaVuSans-69\"/>\r\n       <path d=\"M 34.1875 63.1875 \r\nL 20.796875 26.90625 \r\nL 47.609375 26.90625 \r\nz\r\nM 28.609375 72.90625 \r\nL 39.796875 72.90625 \r\nL 67.578125 0 \r\nL 57.328125 0 \r\nL 50.6875 18.703125 \r\nL 17.828125 18.703125 \r\nL 11.1875 0 \r\nL 0.78125 0 \r\nz\r\n\" id=\"DejaVuSans-65\"/>\r\n       <path d=\"M -0.296875 72.90625 \r\nL 61.375 72.90625 \r\nL 61.375 64.59375 \r\nL 35.5 64.59375 \r\nL 35.5 0 \r\nL 25.59375 0 \r\nL 25.59375 64.59375 \r\nL -0.296875 64.59375 \r\nz\r\n\" id=\"DejaVuSans-84\"/>\r\n       <path d=\"M 8.6875 72.90625 \r\nL 18.609375 72.90625 \r\nL 18.609375 28.609375 \r\nQ 18.609375 16.890625 22.84375 11.734375 \r\nQ 27.09375 6.59375 36.625 6.59375 \r\nQ 46.09375 6.59375 50.34375 11.734375 \r\nQ 54.59375 16.890625 54.59375 28.609375 \r\nL 54.59375 72.90625 \r\nL 64.5 72.90625 \r\nL 64.5 27.390625 \r\nQ 64.5 13.140625 57.4375 5.859375 \r\nQ 50.390625 -1.421875 36.625 -1.421875 \r\nQ 22.796875 -1.421875 15.734375 5.859375 \r\nQ 8.6875 13.140625 8.6875 27.390625 \r\nz\r\n\" id=\"DejaVuSans-85\"/>\r\n       <path d=\"M 44.390625 34.1875 \r\nQ 47.5625 33.109375 50.5625 29.59375 \r\nQ 53.5625 26.078125 56.59375 19.921875 \r\nL 66.609375 0 \r\nL 56 0 \r\nL 46.6875 18.703125 \r\nQ 43.0625 26.03125 39.671875 28.421875 \r\nQ 36.28125 30.8125 30.421875 30.8125 \r\nL 19.671875 30.8125 \r\nL 19.671875 0 \r\nL 9.8125 0 \r\nL 9.8125 72.90625 \r\nL 32.078125 72.90625 \r\nQ 44.578125 72.90625 50.734375 67.671875 \r\nQ 56.890625 62.453125 56.890625 51.90625 \r\nQ 56.890625 45.015625 53.6875 40.46875 \r\nQ 50.484375 35.9375 44.390625 34.1875 \r\nz\r\nM 19.671875 64.796875 \r\nL 19.671875 38.921875 \r\nL 32.078125 38.921875 \r\nQ 39.203125 38.921875 42.84375 42.21875 \r\nQ 46.484375 45.515625 46.484375 51.90625 \r\nQ 46.484375 58.296875 42.84375 61.546875 \r\nQ 39.203125 64.796875 32.078125 64.796875 \r\nz\r\n\" id=\"DejaVuSans-82\"/>\r\n       <path id=\"DejaVuSans-32\"/>\r\n       <path d=\"M 9.8125 72.90625 \r\nL 19.671875 72.90625 \r\nL 19.671875 0 \r\nL 9.8125 0 \r\nz\r\n\" id=\"DejaVuSans-73\"/>\r\n       <path d=\"M 9.8125 72.90625 \r\nL 24.515625 72.90625 \r\nL 43.109375 23.296875 \r\nL 61.8125 72.90625 \r\nL 76.515625 72.90625 \r\nL 76.515625 0 \r\nL 66.890625 0 \r\nL 66.890625 64.015625 \r\nL 48.09375 14.015625 \r\nL 38.1875 14.015625 \r\nL 19.390625 64.015625 \r\nL 19.390625 0 \r\nL 9.8125 0 \r\nz\r\n\" id=\"DejaVuSans-77\"/>\r\n       <path d=\"M 19.671875 64.796875 \r\nL 19.671875 37.40625 \r\nL 32.078125 37.40625 \r\nQ 38.96875 37.40625 42.71875 40.96875 \r\nQ 46.484375 44.53125 46.484375 51.125 \r\nQ 46.484375 57.671875 42.71875 61.234375 \r\nQ 38.96875 64.796875 32.078125 64.796875 \r\nz\r\nM 9.8125 72.90625 \r\nL 32.078125 72.90625 \r\nQ 44.34375 72.90625 50.609375 67.359375 \r\nQ 56.890625 61.8125 56.890625 51.125 \r\nQ 56.890625 40.328125 50.609375 34.8125 \r\nQ 44.34375 29.296875 32.078125 29.296875 \r\nL 19.671875 29.296875 \r\nL 19.671875 0 \r\nL 9.8125 0 \r\nz\r\n\" id=\"DejaVuSans-80\"/>\r\n       <path d=\"M 39.40625 66.21875 \r\nQ 28.65625 66.21875 22.328125 58.203125 \r\nQ 16.015625 50.203125 16.015625 36.375 \r\nQ 16.015625 22.609375 22.328125 14.59375 \r\nQ 28.65625 6.59375 39.40625 6.59375 \r\nQ 50.140625 6.59375 56.421875 14.59375 \r\nQ 62.703125 22.609375 62.703125 36.375 \r\nQ 62.703125 50.203125 56.421875 58.203125 \r\nQ 50.140625 66.21875 39.40625 66.21875 \r\nz\r\nM 39.40625 74.21875 \r\nQ 54.734375 74.21875 63.90625 63.9375 \r\nQ 73.09375 53.65625 73.09375 36.375 \r\nQ 73.09375 19.140625 63.90625 8.859375 \r\nQ 54.734375 -1.421875 39.40625 -1.421875 \r\nQ 24.03125 -1.421875 14.8125 8.828125 \r\nQ 5.609375 19.09375 5.609375 36.375 \r\nQ 5.609375 53.65625 14.8125 63.9375 \r\nQ 24.03125 74.21875 39.40625 74.21875 \r\nz\r\n\" id=\"DejaVuSans-79\"/>\r\n       <path d=\"M 9.8125 72.90625 \r\nL 23.09375 72.90625 \r\nL 55.421875 11.921875 \r\nL 55.421875 72.90625 \r\nL 64.984375 72.90625 \r\nL 64.984375 0 \r\nL 51.703125 0 \r\nL 19.390625 60.984375 \r\nL 19.390625 0 \r\nL 9.8125 0 \r\nz\r\n\" id=\"DejaVuSans-78\"/>\r\n       <path d=\"M 64.40625 67.28125 \r\nL 64.40625 56.890625 \r\nQ 59.421875 61.53125 53.78125 63.8125 \r\nQ 48.140625 66.109375 41.796875 66.109375 \r\nQ 29.296875 66.109375 22.65625 58.46875 \r\nQ 16.015625 50.828125 16.015625 36.375 \r\nQ 16.015625 21.96875 22.65625 14.328125 \r\nQ 29.296875 6.6875 41.796875 6.6875 \r\nQ 48.140625 6.6875 53.78125 8.984375 \r\nQ 59.421875 11.28125 64.40625 15.921875 \r\nL 64.40625 5.609375 \r\nQ 59.234375 2.09375 53.4375 0.328125 \r\nQ 47.65625 -1.421875 41.21875 -1.421875 \r\nQ 24.65625 -1.421875 15.125 8.703125 \r\nQ 5.609375 18.84375 5.609375 36.375 \r\nQ 5.609375 53.953125 15.125 64.078125 \r\nQ 24.65625 74.21875 41.21875 74.21875 \r\nQ 47.75 74.21875 53.53125 72.484375 \r\nQ 59.328125 70.75 64.40625 67.28125 \r\nz\r\n\" id=\"DejaVuSans-67\"/>\r\n      </defs>\r\n      <use xlink:href=\"#DejaVuSans-70\"/>\r\n      <use x=\"57.519531\" xlink:href=\"#DejaVuSans-69\"/>\r\n      <use x=\"120.703125\" xlink:href=\"#DejaVuSans-65\"/>\r\n      <use x=\"181.361328\" xlink:href=\"#DejaVuSans-84\"/>\r\n      <use x=\"242.445312\" xlink:href=\"#DejaVuSans-85\"/>\r\n      <use x=\"315.638672\" xlink:href=\"#DejaVuSans-82\"/>\r\n      <use x=\"385.121094\" xlink:href=\"#DejaVuSans-69\"/>\r\n      <use x=\"448.304688\" xlink:href=\"#DejaVuSans-32\"/>\r\n      <use x=\"480.091797\" xlink:href=\"#DejaVuSans-73\"/>\r\n      <use x=\"509.583984\" xlink:href=\"#DejaVuSans-77\"/>\r\n      <use x=\"595.863281\" xlink:href=\"#DejaVuSans-80\"/>\r\n      <use x=\"656.166016\" xlink:href=\"#DejaVuSans-79\"/>\r\n      <use x=\"734.876953\" xlink:href=\"#DejaVuSans-82\"/>\r\n      <use x=\"797.109375\" xlink:href=\"#DejaVuSans-84\"/>\r\n      <use x=\"850.443359\" xlink:href=\"#DejaVuSans-65\"/>\r\n      <use x=\"918.851562\" xlink:href=\"#DejaVuSans-78\"/>\r\n      <use x=\"993.65625\" xlink:href=\"#DejaVuSans-67\"/>\r\n      <use x=\"1063.480469\" xlink:href=\"#DejaVuSans-69\"/>\r\n     </g>\r\n    </g>\r\n   </g>\r\n   <g id=\"matplotlib.axis_2\">\r\n    <g id=\"ytick_1\">\r\n     <g id=\"line2d_7\">\r\n      <defs>\r\n       <path d=\"M 0 0 \r\nL -3.5 0 \r\n\" id=\"mcdf233360d\" style=\"stroke:#000000;stroke-width:0.8;\"/>\r\n      </defs>\r\n      <g>\r\n       <use style=\"stroke:#000000;stroke-width:0.8;\" x=\"118.2\" xlink:href=\"#mcdf233360d\" y=\"49.498125\"/>\r\n      </g>\r\n     </g>\r\n     <g id=\"text_8\">\r\n      <!-- times_last_5 -->\r\n      <g transform=\"translate(49 53.297344)scale(0.1 -0.1)\">\r\n       <defs>\r\n        <path d=\"M 18.3125 70.21875 \r\nL 18.3125 54.6875 \r\nL 36.8125 54.6875 \r\nL 36.8125 47.703125 \r\nL 18.3125 47.703125 \r\nL 18.3125 18.015625 \r\nQ 18.3125 11.328125 20.140625 9.421875 \r\nQ 21.96875 7.515625 27.59375 7.515625 \r\nL 36.8125 7.515625 \r\nL 36.8125 0 \r\nL 27.59375 0 \r\nQ 17.1875 0 13.234375 3.875 \r\nQ 9.28125 7.765625 9.28125 18.015625 \r\nL 9.28125 47.703125 \r\nL 2.6875 47.703125 \r\nL 2.6875 54.6875 \r\nL 9.28125 54.6875 \r\nL 9.28125 70.21875 \r\nz\r\n\" id=\"DejaVuSans-116\"/>\r\n        <path d=\"M 9.421875 54.6875 \r\nL 18.40625 54.6875 \r\nL 18.40625 0 \r\nL 9.421875 0 \r\nz\r\nM 9.421875 75.984375 \r\nL 18.40625 75.984375 \r\nL 18.40625 64.59375 \r\nL 9.421875 64.59375 \r\nz\r\n\" id=\"DejaVuSans-105\"/>\r\n        <path d=\"M 52 44.1875 \r\nQ 55.375 50.25 60.0625 53.125 \r\nQ 64.75 56 71.09375 56 \r\nQ 79.640625 56 84.28125 50.015625 \r\nQ 88.921875 44.046875 88.921875 33.015625 \r\nL 88.921875 0 \r\nL 79.890625 0 \r\nL 79.890625 32.71875 \r\nQ 79.890625 40.578125 77.09375 44.375 \r\nQ 74.3125 48.1875 68.609375 48.1875 \r\nQ 61.625 48.1875 57.5625 43.546875 \r\nQ 53.515625 38.921875 53.515625 30.90625 \r\nL 53.515625 0 \r\nL 44.484375 0 \r\nL 44.484375 32.71875 \r\nQ 44.484375 40.625 41.703125 44.40625 \r\nQ 38.921875 48.1875 33.109375 48.1875 \r\nQ 26.21875 48.1875 22.15625 43.53125 \r\nQ 18.109375 38.875 18.109375 30.90625 \r\nL 18.109375 0 \r\nL 9.078125 0 \r\nL 9.078125 54.6875 \r\nL 18.109375 54.6875 \r\nL 18.109375 46.1875 \r\nQ 21.1875 51.21875 25.484375 53.609375 \r\nQ 29.78125 56 35.6875 56 \r\nQ 41.65625 56 45.828125 52.96875 \r\nQ 50 49.953125 52 44.1875 \r\nz\r\n\" id=\"DejaVuSans-109\"/>\r\n        <path d=\"M 56.203125 29.59375 \r\nL 56.203125 25.203125 \r\nL 14.890625 25.203125 \r\nQ 15.484375 15.921875 20.484375 11.0625 \r\nQ 25.484375 6.203125 34.421875 6.203125 \r\nQ 39.59375 6.203125 44.453125 7.46875 \r\nQ 49.3125 8.734375 54.109375 11.28125 \r\nL 54.109375 2.78125 \r\nQ 49.265625 0.734375 44.1875 -0.34375 \r\nQ 39.109375 -1.421875 33.890625 -1.421875 \r\nQ 20.796875 -1.421875 13.15625 6.1875 \r\nQ 5.515625 13.8125 5.515625 26.8125 \r\nQ 5.515625 40.234375 12.765625 48.109375 \r\nQ 20.015625 56 32.328125 56 \r\nQ 43.359375 56 49.78125 48.890625 \r\nQ 56.203125 41.796875 56.203125 29.59375 \r\nz\r\nM 47.21875 32.234375 \r\nQ 47.125 39.59375 43.09375 43.984375 \r\nQ 39.0625 48.390625 32.421875 48.390625 \r\nQ 24.90625 48.390625 20.390625 44.140625 \r\nQ 15.875 39.890625 15.1875 32.171875 \r\nz\r\n\" id=\"DejaVuSans-101\"/>\r\n        <path d=\"M 44.28125 53.078125 \r\nL 44.28125 44.578125 \r\nQ 40.484375 46.53125 36.375 47.5 \r\nQ 32.28125 48.484375 27.875 48.484375 \r\nQ 21.1875 48.484375 17.84375 46.4375 \r\nQ 14.5 44.390625 14.5 40.28125 \r\nQ 14.5 37.15625 16.890625 35.375 \r\nQ 19.28125 33.59375 26.515625 31.984375 \r\nL 29.59375 31.296875 \r\nQ 39.15625 29.25 43.1875 25.515625 \r\nQ 47.21875 21.78125 47.21875 15.09375 \r\nQ 47.21875 7.46875 41.1875 3.015625 \r\nQ 35.15625 -1.421875 24.609375 -1.421875 \r\nQ 20.21875 -1.421875 15.453125 -0.5625 \r\nQ 10.6875 0.296875 5.421875 2 \r\nL 5.421875 11.28125 \r\nQ 10.40625 8.6875 15.234375 7.390625 \r\nQ 20.0625 6.109375 24.8125 6.109375 \r\nQ 31.15625 6.109375 34.5625 8.28125 \r\nQ 37.984375 10.453125 37.984375 14.40625 \r\nQ 37.984375 18.0625 35.515625 20.015625 \r\nQ 33.0625 21.96875 24.703125 23.78125 \r\nL 21.578125 24.515625 \r\nQ 13.234375 26.265625 9.515625 29.90625 \r\nQ 5.8125 33.546875 5.8125 39.890625 \r\nQ 5.8125 47.609375 11.28125 51.796875 \r\nQ 16.75 56 26.8125 56 \r\nQ 31.78125 56 36.171875 55.265625 \r\nQ 40.578125 54.546875 44.28125 53.078125 \r\nz\r\n\" id=\"DejaVuSans-115\"/>\r\n        <path d=\"M 50.984375 -16.609375 \r\nL 50.984375 -23.578125 \r\nL -0.984375 -23.578125 \r\nL -0.984375 -16.609375 \r\nz\r\n\" id=\"DejaVuSans-95\"/>\r\n        <path d=\"M 9.421875 75.984375 \r\nL 18.40625 75.984375 \r\nL 18.40625 0 \r\nL 9.421875 0 \r\nz\r\n\" id=\"DejaVuSans-108\"/>\r\n        <path d=\"M 34.28125 27.484375 \r\nQ 23.390625 27.484375 19.1875 25 \r\nQ 14.984375 22.515625 14.984375 16.5 \r\nQ 14.984375 11.71875 18.140625 8.90625 \r\nQ 21.296875 6.109375 26.703125 6.109375 \r\nQ 34.1875 6.109375 38.703125 11.40625 \r\nQ 43.21875 16.703125 43.21875 25.484375 \r\nL 43.21875 27.484375 \r\nz\r\nM 52.203125 31.203125 \r\nL 52.203125 0 \r\nL 43.21875 0 \r\nL 43.21875 8.296875 \r\nQ 40.140625 3.328125 35.546875 0.953125 \r\nQ 30.953125 -1.421875 24.3125 -1.421875 \r\nQ 15.921875 -1.421875 10.953125 3.296875 \r\nQ 6 8.015625 6 15.921875 \r\nQ 6 25.140625 12.171875 29.828125 \r\nQ 18.359375 34.515625 30.609375 34.515625 \r\nL 43.21875 34.515625 \r\nL 43.21875 35.40625 \r\nQ 43.21875 41.609375 39.140625 45 \r\nQ 35.0625 48.390625 27.6875 48.390625 \r\nQ 23 48.390625 18.546875 47.265625 \r\nQ 14.109375 46.140625 10.015625 43.890625 \r\nL 10.015625 52.203125 \r\nQ 14.9375 54.109375 19.578125 55.046875 \r\nQ 24.21875 56 28.609375 56 \r\nQ 40.484375 56 46.34375 49.84375 \r\nQ 52.203125 43.703125 52.203125 31.203125 \r\nz\r\n\" id=\"DejaVuSans-97\"/>\r\n       </defs>\r\n       <use xlink:href=\"#DejaVuSans-116\"/>\r\n       <use x=\"39.208984\" xlink:href=\"#DejaVuSans-105\"/>\r\n       <use x=\"66.992188\" xlink:href=\"#DejaVuSans-109\"/>\r\n       <use x=\"164.404297\" xlink:href=\"#DejaVuSans-101\"/>\r\n       <use x=\"225.927734\" xlink:href=\"#DejaVuSans-115\"/>\r\n       <use x=\"278.027344\" xlink:href=\"#DejaVuSans-95\"/>\r\n       <use x=\"328.027344\" xlink:href=\"#DejaVuSans-108\"/>\r\n       <use x=\"355.810547\" xlink:href=\"#DejaVuSans-97\"/>\r\n       <use x=\"417.089844\" xlink:href=\"#DejaVuSans-115\"/>\r\n       <use x=\"469.189453\" xlink:href=\"#DejaVuSans-116\"/>\r\n       <use x=\"508.398438\" xlink:href=\"#DejaVuSans-95\"/>\r\n       <use x=\"558.398438\" xlink:href=\"#DejaVuSans-53\"/>\r\n      </g>\r\n     </g>\r\n    </g>\r\n    <g id=\"ytick_2\">\r\n     <g id=\"line2d_8\">\r\n      <g>\r\n       <use style=\"stroke:#000000;stroke-width:0.8;\" x=\"118.2\" xlink:href=\"#mcdf233360d\" y=\"103.858125\"/>\r\n      </g>\r\n     </g>\r\n     <g id=\"text_9\">\r\n      <!-- up_reorder_ratio -->\r\n      <g transform=\"translate(28.751562 107.657344)scale(0.1 -0.1)\">\r\n       <defs>\r\n        <path d=\"M 8.5 21.578125 \r\nL 8.5 54.6875 \r\nL 17.484375 54.6875 \r\nL 17.484375 21.921875 \r\nQ 17.484375 14.15625 20.5 10.265625 \r\nQ 23.53125 6.390625 29.59375 6.390625 \r\nQ 36.859375 6.390625 41.078125 11.03125 \r\nQ 45.3125 15.671875 45.3125 23.6875 \r\nL 45.3125 54.6875 \r\nL 54.296875 54.6875 \r\nL 54.296875 0 \r\nL 45.3125 0 \r\nL 45.3125 8.40625 \r\nQ 42.046875 3.421875 37.71875 1 \r\nQ 33.40625 -1.421875 27.6875 -1.421875 \r\nQ 18.265625 -1.421875 13.375 4.4375 \r\nQ 8.5 10.296875 8.5 21.578125 \r\nz\r\nM 31.109375 56 \r\nz\r\n\" id=\"DejaVuSans-117\"/>\r\n        <path d=\"M 18.109375 8.203125 \r\nL 18.109375 -20.796875 \r\nL 9.078125 -20.796875 \r\nL 9.078125 54.6875 \r\nL 18.109375 54.6875 \r\nL 18.109375 46.390625 \r\nQ 20.953125 51.265625 25.265625 53.625 \r\nQ 29.59375 56 35.59375 56 \r\nQ 45.5625 56 51.78125 48.09375 \r\nQ 58.015625 40.1875 58.015625 27.296875 \r\nQ 58.015625 14.40625 51.78125 6.484375 \r\nQ 45.5625 -1.421875 35.59375 -1.421875 \r\nQ 29.59375 -1.421875 25.265625 0.953125 \r\nQ 20.953125 3.328125 18.109375 8.203125 \r\nz\r\nM 48.6875 27.296875 \r\nQ 48.6875 37.203125 44.609375 42.84375 \r\nQ 40.53125 48.484375 33.40625 48.484375 \r\nQ 26.265625 48.484375 22.1875 42.84375 \r\nQ 18.109375 37.203125 18.109375 27.296875 \r\nQ 18.109375 17.390625 22.1875 11.75 \r\nQ 26.265625 6.109375 33.40625 6.109375 \r\nQ 40.53125 6.109375 44.609375 11.75 \r\nQ 48.6875 17.390625 48.6875 27.296875 \r\nz\r\n\" id=\"DejaVuSans-112\"/>\r\n        <path d=\"M 41.109375 46.296875 \r\nQ 39.59375 47.171875 37.8125 47.578125 \r\nQ 36.03125 48 33.890625 48 \r\nQ 26.265625 48 22.1875 43.046875 \r\nQ 18.109375 38.09375 18.109375 28.8125 \r\nL 18.109375 0 \r\nL 9.078125 0 \r\nL 9.078125 54.6875 \r\nL 18.109375 54.6875 \r\nL 18.109375 46.1875 \r\nQ 20.953125 51.171875 25.484375 53.578125 \r\nQ 30.03125 56 36.53125 56 \r\nQ 37.453125 56 38.578125 55.875 \r\nQ 39.703125 55.765625 41.0625 55.515625 \r\nz\r\n\" id=\"DejaVuSans-114\"/>\r\n        <path d=\"M 30.609375 48.390625 \r\nQ 23.390625 48.390625 19.1875 42.75 \r\nQ 14.984375 37.109375 14.984375 27.296875 \r\nQ 14.984375 17.484375 19.15625 11.84375 \r\nQ 23.34375 6.203125 30.609375 6.203125 \r\nQ 37.796875 6.203125 41.984375 11.859375 \r\nQ 46.1875 17.53125 46.1875 27.296875 \r\nQ 46.1875 37.015625 41.984375 42.703125 \r\nQ 37.796875 48.390625 30.609375 48.390625 \r\nz\r\nM 30.609375 56 \r\nQ 42.328125 56 49.015625 48.375 \r\nQ 55.71875 40.765625 55.71875 27.296875 \r\nQ 55.71875 13.875 49.015625 6.21875 \r\nQ 42.328125 -1.421875 30.609375 -1.421875 \r\nQ 18.84375 -1.421875 12.171875 6.21875 \r\nQ 5.515625 13.875 5.515625 27.296875 \r\nQ 5.515625 40.765625 12.171875 48.375 \r\nQ 18.84375 56 30.609375 56 \r\nz\r\n\" id=\"DejaVuSans-111\"/>\r\n        <path d=\"M 45.40625 46.390625 \r\nL 45.40625 75.984375 \r\nL 54.390625 75.984375 \r\nL 54.390625 0 \r\nL 45.40625 0 \r\nL 45.40625 8.203125 \r\nQ 42.578125 3.328125 38.25 0.953125 \r\nQ 33.9375 -1.421875 27.875 -1.421875 \r\nQ 17.96875 -1.421875 11.734375 6.484375 \r\nQ 5.515625 14.40625 5.515625 27.296875 \r\nQ 5.515625 40.1875 11.734375 48.09375 \r\nQ 17.96875 56 27.875 56 \r\nQ 33.9375 56 38.25 53.625 \r\nQ 42.578125 51.265625 45.40625 46.390625 \r\nz\r\nM 14.796875 27.296875 \r\nQ 14.796875 17.390625 18.875 11.75 \r\nQ 22.953125 6.109375 30.078125 6.109375 \r\nQ 37.203125 6.109375 41.296875 11.75 \r\nQ 45.40625 17.390625 45.40625 27.296875 \r\nQ 45.40625 37.203125 41.296875 42.84375 \r\nQ 37.203125 48.484375 30.078125 48.484375 \r\nQ 22.953125 48.484375 18.875 42.84375 \r\nQ 14.796875 37.203125 14.796875 27.296875 \r\nz\r\n\" id=\"DejaVuSans-100\"/>\r\n       </defs>\r\n       <use xlink:href=\"#DejaVuSans-117\"/>\r\n       <use x=\"63.378906\" xlink:href=\"#DejaVuSans-112\"/>\r\n       <use x=\"126.855469\" xlink:href=\"#DejaVuSans-95\"/>\r\n       <use x=\"176.855469\" xlink:href=\"#DejaVuSans-114\"/>\r\n       <use x=\"215.71875\" xlink:href=\"#DejaVuSans-101\"/>\r\n       <use x=\"277.242188\" xlink:href=\"#DejaVuSans-111\"/>\r\n       <use x=\"338.423828\" xlink:href=\"#DejaVuSans-114\"/>\r\n       <use x=\"377.787109\" xlink:href=\"#DejaVuSans-100\"/>\r\n       <use x=\"441.263672\" xlink:href=\"#DejaVuSans-101\"/>\r\n       <use x=\"502.787109\" xlink:href=\"#DejaVuSans-114\"/>\r\n       <use x=\"543.900391\" xlink:href=\"#DejaVuSans-95\"/>\r\n       <use x=\"593.900391\" xlink:href=\"#DejaVuSans-114\"/>\r\n       <use x=\"635.013672\" xlink:href=\"#DejaVuSans-97\"/>\r\n       <use x=\"696.292969\" xlink:href=\"#DejaVuSans-116\"/>\r\n       <use x=\"735.501953\" xlink:href=\"#DejaVuSans-105\"/>\r\n       <use x=\"763.285156\" xlink:href=\"#DejaVuSans-111\"/>\r\n      </g>\r\n     </g>\r\n    </g>\r\n    <g id=\"ytick_3\">\r\n     <g id=\"line2d_9\">\r\n      <g>\r\n       <use style=\"stroke:#000000;stroke-width:0.8;\" x=\"118.2\" xlink:href=\"#mcdf233360d\" y=\"158.218125\"/>\r\n      </g>\r\n     </g>\r\n     <g id=\"text_10\">\r\n      <!-- up_total_bought -->\r\n      <g transform=\"translate(30.2375 162.017344)scale(0.1 -0.1)\">\r\n       <defs>\r\n        <path d=\"M 48.6875 27.296875 \r\nQ 48.6875 37.203125 44.609375 42.84375 \r\nQ 40.53125 48.484375 33.40625 48.484375 \r\nQ 26.265625 48.484375 22.1875 42.84375 \r\nQ 18.109375 37.203125 18.109375 27.296875 \r\nQ 18.109375 17.390625 22.1875 11.75 \r\nQ 26.265625 6.109375 33.40625 6.109375 \r\nQ 40.53125 6.109375 44.609375 11.75 \r\nQ 48.6875 17.390625 48.6875 27.296875 \r\nz\r\nM 18.109375 46.390625 \r\nQ 20.953125 51.265625 25.265625 53.625 \r\nQ 29.59375 56 35.59375 56 \r\nQ 45.5625 56 51.78125 48.09375 \r\nQ 58.015625 40.1875 58.015625 27.296875 \r\nQ 58.015625 14.40625 51.78125 6.484375 \r\nQ 45.5625 -1.421875 35.59375 -1.421875 \r\nQ 29.59375 -1.421875 25.265625 0.953125 \r\nQ 20.953125 3.328125 18.109375 8.203125 \r\nL 18.109375 0 \r\nL 9.078125 0 \r\nL 9.078125 75.984375 \r\nL 18.109375 75.984375 \r\nz\r\n\" id=\"DejaVuSans-98\"/>\r\n        <path d=\"M 45.40625 27.984375 \r\nQ 45.40625 37.75 41.375 43.109375 \r\nQ 37.359375 48.484375 30.078125 48.484375 \r\nQ 22.859375 48.484375 18.828125 43.109375 \r\nQ 14.796875 37.75 14.796875 27.984375 \r\nQ 14.796875 18.265625 18.828125 12.890625 \r\nQ 22.859375 7.515625 30.078125 7.515625 \r\nQ 37.359375 7.515625 41.375 12.890625 \r\nQ 45.40625 18.265625 45.40625 27.984375 \r\nz\r\nM 54.390625 6.78125 \r\nQ 54.390625 -7.171875 48.1875 -13.984375 \r\nQ 42 -20.796875 29.203125 -20.796875 \r\nQ 24.46875 -20.796875 20.265625 -20.09375 \r\nQ 16.0625 -19.390625 12.109375 -17.921875 \r\nL 12.109375 -9.1875 \r\nQ 16.0625 -11.328125 19.921875 -12.34375 \r\nQ 23.78125 -13.375 27.78125 -13.375 \r\nQ 36.625 -13.375 41.015625 -8.765625 \r\nQ 45.40625 -4.15625 45.40625 5.171875 \r\nL 45.40625 9.625 \r\nQ 42.625 4.78125 38.28125 2.390625 \r\nQ 33.9375 0 27.875 0 \r\nQ 17.828125 0 11.671875 7.65625 \r\nQ 5.515625 15.328125 5.515625 27.984375 \r\nQ 5.515625 40.671875 11.671875 48.328125 \r\nQ 17.828125 56 27.875 56 \r\nQ 33.9375 56 38.28125 53.609375 \r\nQ 42.625 51.21875 45.40625 46.390625 \r\nL 45.40625 54.6875 \r\nL 54.390625 54.6875 \r\nz\r\n\" id=\"DejaVuSans-103\"/>\r\n        <path d=\"M 54.890625 33.015625 \r\nL 54.890625 0 \r\nL 45.90625 0 \r\nL 45.90625 32.71875 \r\nQ 45.90625 40.484375 42.875 44.328125 \r\nQ 39.84375 48.1875 33.796875 48.1875 \r\nQ 26.515625 48.1875 22.3125 43.546875 \r\nQ 18.109375 38.921875 18.109375 30.90625 \r\nL 18.109375 0 \r\nL 9.078125 0 \r\nL 9.078125 75.984375 \r\nL 18.109375 75.984375 \r\nL 18.109375 46.1875 \r\nQ 21.34375 51.125 25.703125 53.5625 \r\nQ 30.078125 56 35.796875 56 \r\nQ 45.21875 56 50.046875 50.171875 \r\nQ 54.890625 44.34375 54.890625 33.015625 \r\nz\r\n\" id=\"DejaVuSans-104\"/>\r\n       </defs>\r\n       <use xlink:href=\"#DejaVuSans-117\"/>\r\n       <use x=\"63.378906\" xlink:href=\"#DejaVuSans-112\"/>\r\n       <use x=\"126.855469\" xlink:href=\"#DejaVuSans-95\"/>\r\n       <use x=\"176.855469\" xlink:href=\"#DejaVuSans-116\"/>\r\n       <use x=\"216.064453\" xlink:href=\"#DejaVuSans-111\"/>\r\n       <use x=\"277.246094\" xlink:href=\"#DejaVuSans-116\"/>\r\n       <use x=\"316.455078\" xlink:href=\"#DejaVuSans-97\"/>\r\n       <use x=\"377.734375\" xlink:href=\"#DejaVuSans-108\"/>\r\n       <use x=\"405.517578\" xlink:href=\"#DejaVuSans-95\"/>\r\n       <use x=\"455.517578\" xlink:href=\"#DejaVuSans-98\"/>\r\n       <use x=\"518.994141\" xlink:href=\"#DejaVuSans-111\"/>\r\n       <use x=\"580.175781\" xlink:href=\"#DejaVuSans-117\"/>\r\n       <use x=\"643.554688\" xlink:href=\"#DejaVuSans-103\"/>\r\n       <use x=\"707.03125\" xlink:href=\"#DejaVuSans-104\"/>\r\n       <use x=\"770.410156\" xlink:href=\"#DejaVuSans-116\"/>\r\n      </g>\r\n     </g>\r\n    </g>\r\n    <g id=\"ytick_4\">\r\n     <g id=\"line2d_10\">\r\n      <g>\r\n       <use style=\"stroke:#000000;stroke-width:0.8;\" x=\"118.2\" xlink:href=\"#mcdf233360d\" y=\"212.578125\"/>\r\n      </g>\r\n     </g>\r\n     <g id=\"text_11\">\r\n      <!-- u_total_orders -->\r\n      <g transform=\"translate(40.120312 216.377344)scale(0.1 -0.1)\">\r\n       <use xlink:href=\"#DejaVuSans-117\"/>\r\n       <use x=\"63.378906\" xlink:href=\"#DejaVuSans-95\"/>\r\n       <use x=\"113.378906\" xlink:href=\"#DejaVuSans-116\"/>\r\n       <use x=\"152.587891\" xlink:href=\"#DejaVuSans-111\"/>\r\n       <use x=\"213.769531\" xlink:href=\"#DejaVuSans-116\"/>\r\n       <use x=\"252.978516\" xlink:href=\"#DejaVuSans-97\"/>\r\n       <use x=\"314.257812\" xlink:href=\"#DejaVuSans-108\"/>\r\n       <use x=\"342.041016\" xlink:href=\"#DejaVuSans-95\"/>\r\n       <use x=\"392.041016\" xlink:href=\"#DejaVuSans-111\"/>\r\n       <use x=\"453.222656\" xlink:href=\"#DejaVuSans-114\"/>\r\n       <use x=\"492.585938\" xlink:href=\"#DejaVuSans-100\"/>\r\n       <use x=\"556.0625\" xlink:href=\"#DejaVuSans-101\"/>\r\n       <use x=\"617.585938\" xlink:href=\"#DejaVuSans-114\"/>\r\n       <use x=\"658.699219\" xlink:href=\"#DejaVuSans-115\"/>\r\n      </g>\r\n     </g>\r\n    </g>\r\n    <g id=\"ytick_5\">\r\n     <g id=\"line2d_11\">\r\n      <g>\r\n       <use style=\"stroke:#000000;stroke-width:0.8;\" x=\"118.2\" xlink:href=\"#mcdf233360d\" y=\"266.938125\"/>\r\n      </g>\r\n     </g>\r\n     <g id=\"text_12\">\r\n      <!-- p_reorder_ratio -->\r\n      <g transform=\"translate(35.089062 270.737344)scale(0.1 -0.1)\">\r\n       <use xlink:href=\"#DejaVuSans-112\"/>\r\n       <use x=\"63.476562\" xlink:href=\"#DejaVuSans-95\"/>\r\n       <use x=\"113.476562\" xlink:href=\"#DejaVuSans-114\"/>\r\n       <use x=\"152.339844\" xlink:href=\"#DejaVuSans-101\"/>\r\n       <use x=\"213.863281\" xlink:href=\"#DejaVuSans-111\"/>\r\n       <use x=\"275.044922\" xlink:href=\"#DejaVuSans-114\"/>\r\n       <use x=\"314.408203\" xlink:href=\"#DejaVuSans-100\"/>\r\n       <use x=\"377.884766\" xlink:href=\"#DejaVuSans-101\"/>\r\n       <use x=\"439.408203\" xlink:href=\"#DejaVuSans-114\"/>\r\n       <use x=\"480.521484\" xlink:href=\"#DejaVuSans-95\"/>\r\n       <use x=\"530.521484\" xlink:href=\"#DejaVuSans-114\"/>\r\n       <use x=\"571.634766\" xlink:href=\"#DejaVuSans-97\"/>\r\n       <use x=\"632.914062\" xlink:href=\"#DejaVuSans-116\"/>\r\n       <use x=\"672.123047\" xlink:href=\"#DejaVuSans-105\"/>\r\n       <use x=\"699.90625\" xlink:href=\"#DejaVuSans-111\"/>\r\n      </g>\r\n     </g>\r\n    </g>\r\n    <g id=\"ytick_6\">\r\n     <g id=\"line2d_12\">\r\n      <g>\r\n       <use style=\"stroke:#000000;stroke-width:0.8;\" x=\"118.2\" xlink:href=\"#mcdf233360d\" y=\"321.298125\"/>\r\n      </g>\r\n     </g>\r\n     <g id=\"text_13\">\r\n      <!-- u_reordered_ratio -->\r\n      <g transform=\"translate(22.823437 325.097344)scale(0.1 -0.1)\">\r\n       <use xlink:href=\"#DejaVuSans-117\"/>\r\n       <use x=\"63.378906\" xlink:href=\"#DejaVuSans-95\"/>\r\n       <use x=\"113.378906\" xlink:href=\"#DejaVuSans-114\"/>\r\n       <use x=\"152.242188\" xlink:href=\"#DejaVuSans-101\"/>\r\n       <use x=\"213.765625\" xlink:href=\"#DejaVuSans-111\"/>\r\n       <use x=\"274.947266\" xlink:href=\"#DejaVuSans-114\"/>\r\n       <use x=\"314.310547\" xlink:href=\"#DejaVuSans-100\"/>\r\n       <use x=\"377.787109\" xlink:href=\"#DejaVuSans-101\"/>\r\n       <use x=\"439.310547\" xlink:href=\"#DejaVuSans-114\"/>\r\n       <use x=\"478.173828\" xlink:href=\"#DejaVuSans-101\"/>\r\n       <use x=\"539.697266\" xlink:href=\"#DejaVuSans-100\"/>\r\n       <use x=\"603.173828\" xlink:href=\"#DejaVuSans-95\"/>\r\n       <use x=\"653.173828\" xlink:href=\"#DejaVuSans-114\"/>\r\n       <use x=\"694.287109\" xlink:href=\"#DejaVuSans-97\"/>\r\n       <use x=\"755.566406\" xlink:href=\"#DejaVuSans-116\"/>\r\n       <use x=\"794.775391\" xlink:href=\"#DejaVuSans-105\"/>\r\n       <use x=\"822.558594\" xlink:href=\"#DejaVuSans-111\"/>\r\n      </g>\r\n     </g>\r\n    </g>\r\n    <g id=\"ytick_7\">\r\n     <g id=\"line2d_13\">\r\n      <g>\r\n       <use style=\"stroke:#000000;stroke-width:0.8;\" x=\"118.2\" xlink:href=\"#mcdf233360d\" y=\"375.658125\"/>\r\n      </g>\r\n     </g>\r\n     <g id=\"text_14\">\r\n      <!-- p_total_purchases -->\r\n      <g transform=\"translate(20.878125 379.457344)scale(0.1 -0.1)\">\r\n       <defs>\r\n        <path d=\"M 48.78125 52.59375 \r\nL 48.78125 44.1875 \r\nQ 44.96875 46.296875 41.140625 47.34375 \r\nQ 37.3125 48.390625 33.40625 48.390625 \r\nQ 24.65625 48.390625 19.8125 42.84375 \r\nQ 14.984375 37.3125 14.984375 27.296875 \r\nQ 14.984375 17.28125 19.8125 11.734375 \r\nQ 24.65625 6.203125 33.40625 6.203125 \r\nQ 37.3125 6.203125 41.140625 7.25 \r\nQ 44.96875 8.296875 48.78125 10.40625 \r\nL 48.78125 2.09375 \r\nQ 45.015625 0.34375 40.984375 -0.53125 \r\nQ 36.96875 -1.421875 32.421875 -1.421875 \r\nQ 20.0625 -1.421875 12.78125 6.34375 \r\nQ 5.515625 14.109375 5.515625 27.296875 \r\nQ 5.515625 40.671875 12.859375 48.328125 \r\nQ 20.21875 56 33.015625 56 \r\nQ 37.15625 56 41.109375 55.140625 \r\nQ 45.0625 54.296875 48.78125 52.59375 \r\nz\r\n\" id=\"DejaVuSans-99\"/>\r\n       </defs>\r\n       <use xlink:href=\"#DejaVuSans-112\"/>\r\n       <use x=\"63.476562\" xlink:href=\"#DejaVuSans-95\"/>\r\n       <use x=\"113.476562\" xlink:href=\"#DejaVuSans-116\"/>\r\n       <use x=\"152.685547\" xlink:href=\"#DejaVuSans-111\"/>\r\n       <use x=\"213.867188\" xlink:href=\"#DejaVuSans-116\"/>\r\n       <use x=\"253.076172\" xlink:href=\"#DejaVuSans-97\"/>\r\n       <use x=\"314.355469\" xlink:href=\"#DejaVuSans-108\"/>\r\n       <use x=\"342.138672\" xlink:href=\"#DejaVuSans-95\"/>\r\n       <use x=\"392.138672\" xlink:href=\"#DejaVuSans-112\"/>\r\n       <use x=\"455.615234\" xlink:href=\"#DejaVuSans-117\"/>\r\n       <use x=\"518.994141\" xlink:href=\"#DejaVuSans-114\"/>\r\n       <use x=\"557.857422\" xlink:href=\"#DejaVuSans-99\"/>\r\n       <use x=\"612.837891\" xlink:href=\"#DejaVuSans-104\"/>\r\n       <use x=\"676.216797\" xlink:href=\"#DejaVuSans-97\"/>\r\n       <use x=\"737.496094\" xlink:href=\"#DejaVuSans-115\"/>\r\n       <use x=\"789.595703\" xlink:href=\"#DejaVuSans-101\"/>\r\n       <use x=\"851.119141\" xlink:href=\"#DejaVuSans-115\"/>\r\n      </g>\r\n     </g>\r\n    </g>\r\n    <g id=\"ytick_8\">\r\n     <g id=\"line2d_14\">\r\n      <g>\r\n       <use style=\"stroke:#000000;stroke-width:0.8;\" x=\"118.2\" xlink:href=\"#mcdf233360d\" y=\"430.018125\"/>\r\n      </g>\r\n     </g>\r\n     <g id=\"text_15\">\r\n      <!-- position_to_cart -->\r\n      <g transform=\"translate(31.89375 433.817344)scale(0.1 -0.1)\">\r\n       <defs>\r\n        <path d=\"M 54.890625 33.015625 \r\nL 54.890625 0 \r\nL 45.90625 0 \r\nL 45.90625 32.71875 \r\nQ 45.90625 40.484375 42.875 44.328125 \r\nQ 39.84375 48.1875 33.796875 48.1875 \r\nQ 26.515625 48.1875 22.3125 43.546875 \r\nQ 18.109375 38.921875 18.109375 30.90625 \r\nL 18.109375 0 \r\nL 9.078125 0 \r\nL 9.078125 54.6875 \r\nL 18.109375 54.6875 \r\nL 18.109375 46.1875 \r\nQ 21.34375 51.125 25.703125 53.5625 \r\nQ 30.078125 56 35.796875 56 \r\nQ 45.21875 56 50.046875 50.171875 \r\nQ 54.890625 44.34375 54.890625 33.015625 \r\nz\r\n\" id=\"DejaVuSans-110\"/>\r\n       </defs>\r\n       <use xlink:href=\"#DejaVuSans-112\"/>\r\n       <use x=\"63.476562\" xlink:href=\"#DejaVuSans-111\"/>\r\n       <use x=\"124.658203\" xlink:href=\"#DejaVuSans-115\"/>\r\n       <use x=\"176.757812\" xlink:href=\"#DejaVuSans-105\"/>\r\n       <use x=\"204.541016\" xlink:href=\"#DejaVuSans-116\"/>\r\n       <use x=\"243.75\" xlink:href=\"#DejaVuSans-105\"/>\r\n       <use x=\"271.533203\" xlink:href=\"#DejaVuSans-111\"/>\r\n       <use x=\"332.714844\" xlink:href=\"#DejaVuSans-110\"/>\r\n       <use x=\"396.09375\" xlink:href=\"#DejaVuSans-95\"/>\r\n       <use x=\"446.09375\" xlink:href=\"#DejaVuSans-116\"/>\r\n       <use x=\"485.302734\" xlink:href=\"#DejaVuSans-111\"/>\r\n       <use x=\"546.484375\" xlink:href=\"#DejaVuSans-95\"/>\r\n       <use x=\"596.484375\" xlink:href=\"#DejaVuSans-99\"/>\r\n       <use x=\"651.464844\" xlink:href=\"#DejaVuSans-97\"/>\r\n       <use x=\"712.744141\" xlink:href=\"#DejaVuSans-114\"/>\r\n       <use x=\"753.857422\" xlink:href=\"#DejaVuSans-116\"/>\r\n      </g>\r\n     </g>\r\n    </g>\r\n    <g id=\"text_16\">\r\n     <!-- FEATURE NAMES -->\r\n     <g transform=\"translate(14.798437 281.570625)rotate(-90)scale(0.1 -0.1)\">\r\n      <defs>\r\n       <path d=\"M 53.515625 70.515625 \r\nL 53.515625 60.890625 \r\nQ 47.90625 63.578125 42.921875 64.890625 \r\nQ 37.9375 66.21875 33.296875 66.21875 \r\nQ 25.25 66.21875 20.875 63.09375 \r\nQ 16.5 59.96875 16.5 54.203125 \r\nQ 16.5 49.359375 19.40625 46.890625 \r\nQ 22.3125 44.4375 30.421875 42.921875 \r\nL 36.375 41.703125 \r\nQ 47.40625 39.59375 52.65625 34.296875 \r\nQ 57.90625 29 57.90625 20.125 \r\nQ 57.90625 9.515625 50.796875 4.046875 \r\nQ 43.703125 -1.421875 29.984375 -1.421875 \r\nQ 24.8125 -1.421875 18.96875 -0.25 \r\nQ 13.140625 0.921875 6.890625 3.21875 \r\nL 6.890625 13.375 \r\nQ 12.890625 10.015625 18.65625 8.296875 \r\nQ 24.421875 6.59375 29.984375 6.59375 \r\nQ 38.421875 6.59375 43.015625 9.90625 \r\nQ 47.609375 13.234375 47.609375 19.390625 \r\nQ 47.609375 24.75 44.3125 27.78125 \r\nQ 41.015625 30.8125 33.5 32.328125 \r\nL 27.484375 33.5 \r\nQ 16.453125 35.6875 11.515625 40.375 \r\nQ 6.59375 45.0625 6.59375 53.421875 \r\nQ 6.59375 63.09375 13.40625 68.65625 \r\nQ 20.21875 74.21875 32.171875 74.21875 \r\nQ 37.3125 74.21875 42.625 73.28125 \r\nQ 47.953125 72.359375 53.515625 70.515625 \r\nz\r\n\" id=\"DejaVuSans-83\"/>\r\n      </defs>\r\n      <use xlink:href=\"#DejaVuSans-70\"/>\r\n      <use x=\"57.519531\" xlink:href=\"#DejaVuSans-69\"/>\r\n      <use x=\"120.703125\" xlink:href=\"#DejaVuSans-65\"/>\r\n      <use x=\"181.361328\" xlink:href=\"#DejaVuSans-84\"/>\r\n      <use x=\"242.445312\" xlink:href=\"#DejaVuSans-85\"/>\r\n      <use x=\"315.638672\" xlink:href=\"#DejaVuSans-82\"/>\r\n      <use x=\"385.121094\" xlink:href=\"#DejaVuSans-69\"/>\r\n      <use x=\"448.304688\" xlink:href=\"#DejaVuSans-32\"/>\r\n      <use x=\"480.091797\" xlink:href=\"#DejaVuSans-78\"/>\r\n      <use x=\"554.896484\" xlink:href=\"#DejaVuSans-65\"/>\r\n      <use x=\"623.304688\" xlink:href=\"#DejaVuSans-77\"/>\r\n      <use x=\"709.583984\" xlink:href=\"#DejaVuSans-69\"/>\r\n      <use x=\"772.767578\" xlink:href=\"#DejaVuSans-83\"/>\r\n     </g>\r\n    </g>\r\n   </g>\r\n   <g id=\"line2d_15\">\r\n    <path clip-path=\"url(#p128d9c93a0)\" d=\"M 0 0 \r\n\" style=\"fill:none;stroke:#424242;stroke-linecap:square;stroke-width:2.7;\"/>\r\n   </g>\r\n   <g id=\"line2d_16\">\r\n    <path clip-path=\"url(#p128d9c93a0)\" d=\"M 0 0 \r\n\" style=\"fill:none;stroke:#424242;stroke-linecap:square;stroke-width:2.7;\"/>\r\n   </g>\r\n   <g id=\"line2d_17\">\r\n    <path clip-path=\"url(#p128d9c93a0)\" d=\"M 0 0 \r\n\" style=\"fill:none;stroke:#424242;stroke-linecap:square;stroke-width:2.7;\"/>\r\n   </g>\r\n   <g id=\"line2d_18\">\r\n    <path clip-path=\"url(#p128d9c93a0)\" d=\"M 0 0 \r\n\" style=\"fill:none;stroke:#424242;stroke-linecap:square;stroke-width:2.7;\"/>\r\n   </g>\r\n   <g id=\"line2d_19\">\r\n    <path clip-path=\"url(#p128d9c93a0)\" d=\"M 0 0 \r\n\" style=\"fill:none;stroke:#424242;stroke-linecap:square;stroke-width:2.7;\"/>\r\n   </g>\r\n   <g id=\"line2d_20\">\r\n    <path clip-path=\"url(#p128d9c93a0)\" d=\"M 0 0 \r\n\" style=\"fill:none;stroke:#424242;stroke-linecap:square;stroke-width:2.7;\"/>\r\n   </g>\r\n   <g id=\"line2d_21\">\r\n    <path clip-path=\"url(#p128d9c93a0)\" d=\"M 0 0 \r\n\" style=\"fill:none;stroke:#424242;stroke-linecap:square;stroke-width:2.7;\"/>\r\n   </g>\r\n   <g id=\"line2d_22\">\r\n    <path clip-path=\"url(#p128d9c93a0)\" d=\"M 0 0 \r\n\" style=\"fill:none;stroke:#424242;stroke-linecap:square;stroke-width:2.7;\"/>\r\n   </g>\r\n   <g id=\"patch_11\">\r\n    <path d=\"M 118.2 457.198125 \r\nL 118.2 22.318125 \r\n\" style=\"fill:none;stroke:#000000;stroke-linecap:square;stroke-linejoin:miter;stroke-width:0.8;\"/>\r\n   </g>\r\n   <g id=\"patch_12\">\r\n    <path d=\"M 676.2 457.198125 \r\nL 676.2 22.318125 \r\n\" style=\"fill:none;stroke:#000000;stroke-linecap:square;stroke-linejoin:miter;stroke-width:0.8;\"/>\r\n   </g>\r\n   <g id=\"patch_13\">\r\n    <path d=\"M 118.2 457.198125 \r\nL 676.2 457.198125 \r\n\" style=\"fill:none;stroke:#000000;stroke-linecap:square;stroke-linejoin:miter;stroke-width:0.8;\"/>\r\n   </g>\r\n   <g id=\"patch_14\">\r\n    <path d=\"M 118.2 22.318125 \r\nL 676.2 22.318125 \r\n\" style=\"fill:none;stroke:#000000;stroke-linecap:square;stroke-linejoin:miter;stroke-width:0.8;\"/>\r\n   </g>\r\n   <g id=\"text_17\">\r\n    <!-- XGBoost Classifier FEATURE IMPORTANCE -->\r\n    <g transform=\"translate(272.700938 16.318125)scale(0.12 -0.12)\">\r\n     <defs>\r\n      <path d=\"M 6.296875 72.90625 \r\nL 16.890625 72.90625 \r\nL 35.015625 45.796875 \r\nL 53.21875 72.90625 \r\nL 63.8125 72.90625 \r\nL 40.375 37.890625 \r\nL 65.375 0 \r\nL 54.78125 0 \r\nL 34.28125 31 \r\nL 13.625 0 \r\nL 2.984375 0 \r\nL 29 38.921875 \r\nz\r\n\" id=\"DejaVuSans-88\"/>\r\n      <path d=\"M 59.515625 10.40625 \r\nL 59.515625 29.984375 \r\nL 43.40625 29.984375 \r\nL 43.40625 38.09375 \r\nL 69.28125 38.09375 \r\nL 69.28125 6.78125 \r\nQ 63.578125 2.734375 56.6875 0.65625 \r\nQ 49.8125 -1.421875 42 -1.421875 \r\nQ 24.90625 -1.421875 15.25 8.5625 \r\nQ 5.609375 18.5625 5.609375 36.375 \r\nQ 5.609375 54.25 15.25 64.234375 \r\nQ 24.90625 74.21875 42 74.21875 \r\nQ 49.125 74.21875 55.546875 72.453125 \r\nQ 61.96875 70.703125 67.390625 67.28125 \r\nL 67.390625 56.78125 \r\nQ 61.921875 61.421875 55.765625 63.765625 \r\nQ 49.609375 66.109375 42.828125 66.109375 \r\nQ 29.4375 66.109375 22.71875 58.640625 \r\nQ 16.015625 51.171875 16.015625 36.375 \r\nQ 16.015625 21.625 22.71875 14.15625 \r\nQ 29.4375 6.6875 42.828125 6.6875 \r\nQ 48.046875 6.6875 52.140625 7.59375 \r\nQ 56.25 8.5 59.515625 10.40625 \r\nz\r\n\" id=\"DejaVuSans-71\"/>\r\n      <path d=\"M 19.671875 34.8125 \r\nL 19.671875 8.109375 \r\nL 35.5 8.109375 \r\nQ 43.453125 8.109375 47.28125 11.40625 \r\nQ 51.125 14.703125 51.125 21.484375 \r\nQ 51.125 28.328125 47.28125 31.5625 \r\nQ 43.453125 34.8125 35.5 34.8125 \r\nz\r\nM 19.671875 64.796875 \r\nL 19.671875 42.828125 \r\nL 34.28125 42.828125 \r\nQ 41.5 42.828125 45.03125 45.53125 \r\nQ 48.578125 48.25 48.578125 53.8125 \r\nQ 48.578125 59.328125 45.03125 62.0625 \r\nQ 41.5 64.796875 34.28125 64.796875 \r\nz\r\nM 9.8125 72.90625 \r\nL 35.015625 72.90625 \r\nQ 46.296875 72.90625 52.390625 68.21875 \r\nQ 58.5 63.53125 58.5 54.890625 \r\nQ 58.5 48.1875 55.375 44.234375 \r\nQ 52.25 40.28125 46.1875 39.3125 \r\nQ 53.46875 37.75 57.5 32.78125 \r\nQ 61.53125 27.828125 61.53125 20.40625 \r\nQ 61.53125 10.640625 54.890625 5.3125 \r\nQ 48.25 0 35.984375 0 \r\nL 9.8125 0 \r\nz\r\n\" id=\"DejaVuSans-66\"/>\r\n      <path d=\"M 37.109375 75.984375 \r\nL 37.109375 68.5 \r\nL 28.515625 68.5 \r\nQ 23.6875 68.5 21.796875 66.546875 \r\nQ 19.921875 64.59375 19.921875 59.515625 \r\nL 19.921875 54.6875 \r\nL 34.71875 54.6875 \r\nL 34.71875 47.703125 \r\nL 19.921875 47.703125 \r\nL 19.921875 0 \r\nL 10.890625 0 \r\nL 10.890625 47.703125 \r\nL 2.296875 47.703125 \r\nL 2.296875 54.6875 \r\nL 10.890625 54.6875 \r\nL 10.890625 58.5 \r\nQ 10.890625 67.625 15.140625 71.796875 \r\nQ 19.390625 75.984375 28.609375 75.984375 \r\nz\r\n\" id=\"DejaVuSans-102\"/>\r\n     </defs>\r\n     <use xlink:href=\"#DejaVuSans-88\"/>\r\n     <use x=\"68.505859\" xlink:href=\"#DejaVuSans-71\"/>\r\n     <use x=\"145.996094\" xlink:href=\"#DejaVuSans-66\"/>\r\n     <use x=\"214.599609\" xlink:href=\"#DejaVuSans-111\"/>\r\n     <use x=\"275.78125\" xlink:href=\"#DejaVuSans-111\"/>\r\n     <use x=\"336.962891\" xlink:href=\"#DejaVuSans-115\"/>\r\n     <use x=\"389.0625\" xlink:href=\"#DejaVuSans-116\"/>\r\n     <use x=\"428.271484\" xlink:href=\"#DejaVuSans-32\"/>\r\n     <use x=\"460.058594\" xlink:href=\"#DejaVuSans-67\"/>\r\n     <use x=\"529.882812\" xlink:href=\"#DejaVuSans-108\"/>\r\n     <use x=\"557.666016\" xlink:href=\"#DejaVuSans-97\"/>\r\n     <use x=\"618.945312\" xlink:href=\"#DejaVuSans-115\"/>\r\n     <use x=\"671.044922\" xlink:href=\"#DejaVuSans-115\"/>\r\n     <use x=\"723.144531\" xlink:href=\"#DejaVuSans-105\"/>\r\n     <use x=\"750.927734\" xlink:href=\"#DejaVuSans-102\"/>\r\n     <use x=\"786.132812\" xlink:href=\"#DejaVuSans-105\"/>\r\n     <use x=\"813.916016\" xlink:href=\"#DejaVuSans-101\"/>\r\n     <use x=\"875.439453\" xlink:href=\"#DejaVuSans-114\"/>\r\n     <use x=\"916.552734\" xlink:href=\"#DejaVuSans-32\"/>\r\n     <use x=\"948.339844\" xlink:href=\"#DejaVuSans-70\"/>\r\n     <use x=\"1005.859375\" xlink:href=\"#DejaVuSans-69\"/>\r\n     <use x=\"1069.042969\" xlink:href=\"#DejaVuSans-65\"/>\r\n     <use x=\"1129.701172\" xlink:href=\"#DejaVuSans-84\"/>\r\n     <use x=\"1190.785156\" xlink:href=\"#DejaVuSans-85\"/>\r\n     <use x=\"1263.978516\" xlink:href=\"#DejaVuSans-82\"/>\r\n     <use x=\"1333.460938\" xlink:href=\"#DejaVuSans-69\"/>\r\n     <use x=\"1396.644531\" xlink:href=\"#DejaVuSans-32\"/>\r\n     <use x=\"1428.431641\" xlink:href=\"#DejaVuSans-73\"/>\r\n     <use x=\"1457.923828\" xlink:href=\"#DejaVuSans-77\"/>\r\n     <use x=\"1544.203125\" xlink:href=\"#DejaVuSans-80\"/>\r\n     <use x=\"1604.505859\" xlink:href=\"#DejaVuSans-79\"/>\r\n     <use x=\"1683.216797\" xlink:href=\"#DejaVuSans-82\"/>\r\n     <use x=\"1745.449219\" xlink:href=\"#DejaVuSans-84\"/>\r\n     <use x=\"1798.783203\" xlink:href=\"#DejaVuSans-65\"/>\r\n     <use x=\"1867.191406\" xlink:href=\"#DejaVuSans-78\"/>\r\n     <use x=\"1941.996094\" xlink:href=\"#DejaVuSans-67\"/>\r\n     <use x=\"2011.820312\" xlink:href=\"#DejaVuSans-69\"/>\r\n    </g>\r\n   </g>\r\n  </g>\r\n </g>\r\n <defs>\r\n  <clipPath id=\"p128d9c93a0\">\r\n   <rect height=\"434.88\" width=\"558\" x=\"118.2\" y=\"22.318125\"/>\r\n  </clipPath>\r\n </defs>\r\n</svg>\r\n",
      "image/png": "[encoded data removed]"
     },
     "metadata": {
      "needs_background": "light"
     }
    }
   ],
   "source": [
    "import matplotlib\n",
    "from matplotlib import pyplot as plt\n",
    "import seaborn as sns\n",
    "cols = [\"up_total_bought\", \"up_reorder_ratio\", \"times_last_5\", \"u_total_orders\", \"u_reordered_ratio\", \"p_total_purchases\", \"p_reorder_ratio\",\t\"position_to_cart\"]\n",
    "\n",
    "plot_feature_importance(xgb_cmodel.feature_importances_,cols,'XGBoost Classifier')"
   ]
  },
  {
   "cell_type": "markdown",
   "metadata": {},
   "source": [
    "### 5.3 Train Random Forest Classifier"
   ]
  },
  {
   "cell_type": "code",
   "execution_count": 56,
   "metadata": {},
   "outputs": [],
   "source": [
    "from sklearn.ensemble import RandomForestClassifier"
   ]
  },
  {
   "cell_type": "code",
   "execution_count": 57,
   "metadata": {},
   "outputs": [
    {
     "output_type": "execute_result",
     "data": {
      "text/plain": [
       "RandomForestClassifier(max_depth=6, n_estimators=20, n_jobs=-1, random_state=50)"
      ]
     },
     "metadata": {},
     "execution_count": 57
    }
   ],
   "source": [
    "# Select a fitting model without any parameter\n",
    "rf_cmodel = RandomForestClassifier(bootstrap = True, class_weight = None, criterion = 'gini', max_depth = 6, max_features = 'auto', max_leaf_nodes = None, min_impurity_decrease = 0.0, min_impurity_split = None, min_samples_leaf = 1, min_samples_split = 2, min_weight_fraction_leaf = 0.0,n_estimators = 20, n_jobs = -1, oob_score = False, random_state = 50, verbose = 0, warm_start = False)\n",
    "rf_cmodel.fit(X_train, y_train)"
   ]
  },
  {
   "cell_type": "code",
   "execution_count": 58,
   "metadata": {},
   "outputs": [
    {
     "output_type": "execute_result",
     "data": {
      "text/plain": [
       "array([0, 1, 0, 0, 0])"
      ]
     },
     "metadata": {},
     "execution_count": 58
    }
   ],
   "source": [
    "train_pred2 = (rf_cmodel.predict_proba(X_train)[:, 1] >= 0.21).astype(int)\n",
    "train_pred2[:5]"
   ]
  },
  {
   "cell_type": "code",
   "execution_count": 59,
   "metadata": {},
   "outputs": [
    {
     "output_type": "execute_result",
     "data": {
      "text/plain": [
       "array([0, 0, 1, 0, 0])"
      ]
     },
     "metadata": {},
     "execution_count": 59
    }
   ],
   "source": [
    "test_pred2 = (rf_cmodel.predict_proba(X_test)[:, 1] >= 0.21).astype(int)\n",
    "test_pred2[:5]"
   ]
  },
  {
   "cell_type": "code",
   "execution_count": 60,
   "metadata": {},
   "outputs": [
    {
     "output_type": "stream",
     "name": "stdout",
     "text": [
      "f1 Score: 0.30968505725337586\n",
      "              precision    recall  f1-score   support\n",
      "\n",
      "           0       0.96      0.95      0.96   8777127\n",
      "           1       0.30      0.32      0.31    538440\n",
      "\n",
      "    accuracy                           0.92   9315567\n",
      "   macro avg       0.63      0.64      0.63   9315567\n",
      "weighted avg       0.92      0.92      0.92   9315567\n",
      "\n",
      "f1 Score: 0.30891471413619553\n",
      "              precision    recall  f1-score   support\n",
      "\n",
      "           0       0.96      0.95      0.96   3761654\n",
      "           1       0.30      0.32      0.31    230732\n",
      "\n",
      "    accuracy                           0.92   3992386\n",
      "   macro avg       0.63      0.64      0.63   3992386\n",
      "weighted avg       0.92      0.92      0.92   3992386\n",
      "\n"
     ]
    }
   ],
   "source": [
    "# Confusion Matrix\n",
    "metrics.confusion_matrix(test_pred2, y_test)\n",
    "\n",
    "# Get f1 score and classification report\n",
    "print(f'f1 Score: {f1_score(train_pred2, y_train)}')\n",
    "print(classification_report(train_pred2, y_train))\n",
    "\n",
    "print(f'f1 Score: {f1_score(test_pred2, y_test)}')\n",
    "print(classification_report(test_pred2, y_test))"
   ]
  },
  {
   "cell_type": "code",
   "execution_count": 61,
   "metadata": {},
   "outputs": [
    {
     "output_type": "execute_result",
     "data": {
      "text/plain": [
       "                      Model Accuracy_train Accuracy_test Precision_test  \\\n",
       "0        XGBoost Classifier       0.913776      0.913437       0.313900   \n",
       "1  Random Forest Classifier       0.917126      0.916975       0.321078   \n",
       "\n",
       "  Recall_test   F1_test Log_loss_test  AUC_test  \n",
       "0    0.327623  0.320615      2.989817  0.640005  \n",
       "1    0.297639  0.308915      2.867615  0.627897  "
      ],
      "text/html": "<div>\n<style scoped>\n    .dataframe tbody tr th:only-of-type {\n        vertical-align: middle;\n    }\n\n    .dataframe tbody tr th {\n        vertical-align: top;\n    }\n\n    .dataframe thead tr th {\n        text-align: left;\n    }\n</style>\n<table border=\"1\" class=\"dataframe\">\n  <thead>\n    <tr>\n      <th></th>\n      <th>Model</th>\n      <th>Accuracy_train</th>\n      <th>Accuracy_test</th>\n      <th>Precision_test</th>\n      <th>Recall_test</th>\n      <th>F1_test</th>\n      <th>Log_loss_test</th>\n      <th>AUC_test</th>\n    </tr>\n  </thead>\n  <tbody>\n    <tr>\n      <th>0</th>\n      <td>XGBoost Classifier</td>\n      <td>0.913776</td>\n      <td>0.913437</td>\n      <td>0.313900</td>\n      <td>0.327623</td>\n      <td>0.320615</td>\n      <td>2.989817</td>\n      <td>0.640005</td>\n    </tr>\n    <tr>\n      <th>1</th>\n      <td>Random Forest Classifier</td>\n      <td>0.917126</td>\n      <td>0.916975</td>\n      <td>0.321078</td>\n      <td>0.297639</td>\n      <td>0.308915</td>\n      <td>2.867615</td>\n      <td>0.627897</td>\n    </tr>\n  </tbody>\n</table>\n</div>"
     },
     "metadata": {},
     "execution_count": 61
    }
   ],
   "source": [
    "res_clm2 = pd.DataFrame(data=[[\"Random Forest Classifier\",*eval_class(y_train, train_pred2),\n",
    "                                 *eval_class(y_test, test_pred2)]],\n",
    "                          columns=[['Model'] + eval_clm_train + eval_clm_test])\n",
    "res_clm = res_clm.append(res_clm2, ignore_index=True)\n",
    "res_clm[dis_clm]"
   ]
  },
  {
   "cell_type": "code",
   "execution_count": 62,
   "metadata": {},
   "outputs": [
    {
     "output_type": "display_data",
     "data": {
      "text/plain": "<Figure size 720x576 with 1 Axes>",
      "image/svg+xml": "<?xml version=\"1.0\" encoding=\"utf-8\" standalone=\"no\"?>\r\n<!DOCTYPE svg PUBLIC \"-//W3C//DTD SVG 1.1//EN\"\r\n  \"http://www.w3.org/Graphics/SVG/1.1/DTD/svg11.dtd\">\r\n<!-- Created with matplotlib (https://matplotlib.org/) -->\r\n<svg height=\"494.754375pt\" version=\"1.1\" viewBox=\"0 0 683.4 494.754375\" width=\"683.4pt\" xmlns=\"http://www.w3.org/2000/svg\" xmlns:xlink=\"http://www.w3.org/1999/xlink\">\r\n <metadata>\r\n  <rdf:RDF xmlns:cc=\"http://creativecommons.org/ns#\" xmlns:dc=\"http://purl.org/dc/elements/1.1/\" xmlns:rdf=\"http://www.w3.org/1999/02/22-rdf-syntax-ns#\">\r\n   <cc:Work>\r\n    <dc:type rdf:resource=\"http://purl.org/dc/dcmitype/StillImage\"/>\r\n    <dc:date>2021-07-09T17:11:12.847263</dc:date>\r\n    <dc:format>image/svg+xml</dc:format>\r\n    <dc:creator>\r\n     <cc:Agent>\r\n      <dc:title>Matplotlib v3.3.2, https://matplotlib.org/</dc:title>\r\n     </cc:Agent>\r\n    </dc:creator>\r\n   </cc:Work>\r\n  </rdf:RDF>\r\n </metadata>\r\n <defs>\r\n  <style type=\"text/css\">*{stroke-linecap:butt;stroke-linejoin:round;}</style>\r\n </defs>\r\n <g id=\"figure_1\">\r\n  <g id=\"patch_1\">\r\n   <path d=\"M 0 494.754375 \r\nL 683.4 494.754375 \r\nL 683.4 0 \r\nL 0 0 \r\nz\r\n\" style=\"fill:none;\"/>\r\n  </g>\r\n  <g id=\"axes_1\">\r\n   <g id=\"patch_2\">\r\n    <path d=\"M 118.2 457.198125 \r\nL 676.2 457.198125 \r\nL 676.2 22.318125 \r\nL 118.2 22.318125 \r\nz\r\n\" style=\"fill:#ffffff;\"/>\r\n   </g>\r\n   <g id=\"patch_3\">\r\n    <path clip-path=\"url(#p949769c5bd)\" d=\"M 118.2 27.754125 \r\nL 649.628571 27.754125 \r\nL 649.628571 71.242125 \r\nL 118.2 71.242125 \r\nz\r\n\" style=\"fill:#3274a1;\"/>\r\n   </g>\r\n   <g id=\"patch_4\">\r\n    <path clip-path=\"url(#p949769c5bd)\" d=\"M 118.2 82.114125 \r\nL 456.481782 82.114125 \r\nL 456.481782 125.602125 \r\nL 118.2 125.602125 \r\nz\r\n\" style=\"fill:#e1812c;\"/>\r\n   </g>\r\n   <g id=\"patch_5\">\r\n    <path clip-path=\"url(#p949769c5bd)\" d=\"M 118.2 136.474125 \r\nL 230.289 136.474125 \r\nL 230.289 179.962125 \r\nL 118.2 179.962125 \r\nz\r\n\" style=\"fill:#3a923a;\"/>\r\n   </g>\r\n   <g id=\"patch_6\">\r\n    <path clip-path=\"url(#p949769c5bd)\" d=\"M 118.2 190.834125 \r\nL 193.155434 190.834125 \r\nL 193.155434 234.322125 \r\nL 118.2 234.322125 \r\nz\r\n\" style=\"fill:#c03d3e;\"/>\r\n   </g>\r\n   <g id=\"patch_7\">\r\n    <path clip-path=\"url(#p949769c5bd)\" d=\"M 118.2 245.194125 \r\nL 144.068294 245.194125 \r\nL 144.068294 288.682125 \r\nL 118.2 288.682125 \r\nz\r\n\" style=\"fill:#9372b2;\"/>\r\n   </g>\r\n   <g id=\"patch_8\">\r\n    <path clip-path=\"url(#p949769c5bd)\" d=\"M 118.2 299.554125 \r\nL 135.980498 299.554125 \r\nL 135.980498 343.042125 \r\nL 118.2 343.042125 \r\nz\r\n\" style=\"fill:#845b53;\"/>\r\n   </g>\r\n   <g id=\"patch_9\">\r\n    <path clip-path=\"url(#p949769c5bd)\" d=\"M 118.2 353.914125 \r\nL 132.657998 353.914125 \r\nL 132.657998 397.402125 \r\nL 118.2 397.402125 \r\nz\r\n\" style=\"fill:#d684bd;\"/>\r\n   </g>\r\n   <g id=\"patch_10\">\r\n    <path clip-path=\"url(#p949769c5bd)\" d=\"M 118.2 408.274125 \r\nL 131.263145 408.274125 \r\nL 131.263145 451.762125 \r\nL 118.2 451.762125 \r\nz\r\n\" style=\"fill:#7f7f7f;\"/>\r\n   </g>\r\n   <g id=\"matplotlib.axis_1\">\r\n    <g id=\"xtick_1\">\r\n     <g id=\"line2d_1\">\r\n      <defs>\r\n       <path d=\"M 0 0 \r\nL 0 3.5 \r\n\" id=\"mac6a94b014\" style=\"stroke:#000000;stroke-width:0.8;\"/>\r\n      </defs>\r\n      <g>\r\n       <use style=\"stroke:#000000;stroke-width:0.8;\" x=\"118.2\" xlink:href=\"#mac6a94b014\" y=\"457.198125\"/>\r\n      </g>\r\n     </g>\r\n     <g id=\"text_1\">\r\n      <!-- 0.0 -->\r\n      <g transform=\"translate(110.248438 471.796562)scale(0.1 -0.1)\">\r\n       <defs>\r\n        <path d=\"M 31.78125 66.40625 \r\nQ 24.171875 66.40625 20.328125 58.90625 \r\nQ 16.5 51.421875 16.5 36.375 \r\nQ 16.5 21.390625 20.328125 13.890625 \r\nQ 24.171875 6.390625 31.78125 6.390625 \r\nQ 39.453125 6.390625 43.28125 13.890625 \r\nQ 47.125 21.390625 47.125 36.375 \r\nQ 47.125 51.421875 43.28125 58.90625 \r\nQ 39.453125 66.40625 31.78125 66.40625 \r\nz\r\nM 31.78125 74.21875 \r\nQ 44.046875 74.21875 50.515625 64.515625 \r\nQ 56.984375 54.828125 56.984375 36.375 \r\nQ 56.984375 17.96875 50.515625 8.265625 \r\nQ 44.046875 -1.421875 31.78125 -1.421875 \r\nQ 19.53125 -1.421875 13.0625 8.265625 \r\nQ 6.59375 17.96875 6.59375 36.375 \r\nQ 6.59375 54.828125 13.0625 64.515625 \r\nQ 19.53125 74.21875 31.78125 74.21875 \r\nz\r\n\" id=\"DejaVuSans-48\"/>\r\n        <path d=\"M 10.6875 12.40625 \r\nL 21 12.40625 \r\nL 21 0 \r\nL 10.6875 0 \r\nz\r\n\" id=\"DejaVuSans-46\"/>\r\n       </defs>\r\n       <use xlink:href=\"#DejaVuSans-48\"/>\r\n       <use x=\"63.623047\" xlink:href=\"#DejaVuSans-46\"/>\r\n       <use x=\"95.410156\" xlink:href=\"#DejaVuSans-48\"/>\r\n      </g>\r\n     </g>\r\n    </g>\r\n    <g id=\"xtick_2\">\r\n     <g id=\"line2d_2\">\r\n      <g>\r\n       <use style=\"stroke:#000000;stroke-width:0.8;\" x=\"230.992472\" xlink:href=\"#mac6a94b014\" y=\"457.198125\"/>\r\n      </g>\r\n     </g>\r\n     <g id=\"text_2\">\r\n      <!-- 0.1 -->\r\n      <g transform=\"translate(223.04091 471.796562)scale(0.1 -0.1)\">\r\n       <defs>\r\n        <path d=\"M 12.40625 8.296875 \r\nL 28.515625 8.296875 \r\nL 28.515625 63.921875 \r\nL 10.984375 60.40625 \r\nL 10.984375 69.390625 \r\nL 28.421875 72.90625 \r\nL 38.28125 72.90625 \r\nL 38.28125 8.296875 \r\nL 54.390625 8.296875 \r\nL 54.390625 0 \r\nL 12.40625 0 \r\nz\r\n\" id=\"DejaVuSans-49\"/>\r\n       </defs>\r\n       <use xlink:href=\"#DejaVuSans-48\"/>\r\n       <use x=\"63.623047\" xlink:href=\"#DejaVuSans-46\"/>\r\n       <use x=\"95.410156\" xlink:href=\"#DejaVuSans-49\"/>\r\n      </g>\r\n     </g>\r\n    </g>\r\n    <g id=\"xtick_3\">\r\n     <g id=\"line2d_3\">\r\n      <g>\r\n       <use style=\"stroke:#000000;stroke-width:0.8;\" x=\"343.784944\" xlink:href=\"#mac6a94b014\" y=\"457.198125\"/>\r\n      </g>\r\n     </g>\r\n     <g id=\"text_3\">\r\n      <!-- 0.2 -->\r\n      <g transform=\"translate(335.833382 471.796562)scale(0.1 -0.1)\">\r\n       <defs>\r\n        <path d=\"M 19.1875 8.296875 \r\nL 53.609375 8.296875 \r\nL 53.609375 0 \r\nL 7.328125 0 \r\nL 7.328125 8.296875 \r\nQ 12.9375 14.109375 22.625 23.890625 \r\nQ 32.328125 33.6875 34.8125 36.53125 \r\nQ 39.546875 41.84375 41.421875 45.53125 \r\nQ 43.3125 49.21875 43.3125 52.78125 \r\nQ 43.3125 58.59375 39.234375 62.25 \r\nQ 35.15625 65.921875 28.609375 65.921875 \r\nQ 23.96875 65.921875 18.8125 64.3125 \r\nQ 13.671875 62.703125 7.8125 59.421875 \r\nL 7.8125 69.390625 \r\nQ 13.765625 71.78125 18.9375 73 \r\nQ 24.125 74.21875 28.421875 74.21875 \r\nQ 39.75 74.21875 46.484375 68.546875 \r\nQ 53.21875 62.890625 53.21875 53.421875 \r\nQ 53.21875 48.921875 51.53125 44.890625 \r\nQ 49.859375 40.875 45.40625 35.40625 \r\nQ 44.1875 33.984375 37.640625 27.21875 \r\nQ 31.109375 20.453125 19.1875 8.296875 \r\nz\r\n\" id=\"DejaVuSans-50\"/>\r\n       </defs>\r\n       <use xlink:href=\"#DejaVuSans-48\"/>\r\n       <use x=\"63.623047\" xlink:href=\"#DejaVuSans-46\"/>\r\n       <use x=\"95.410156\" xlink:href=\"#DejaVuSans-50\"/>\r\n      </g>\r\n     </g>\r\n    </g>\r\n    <g id=\"xtick_4\">\r\n     <g id=\"line2d_4\">\r\n      <g>\r\n       <use style=\"stroke:#000000;stroke-width:0.8;\" x=\"456.577416\" xlink:href=\"#mac6a94b014\" y=\"457.198125\"/>\r\n      </g>\r\n     </g>\r\n     <g id=\"text_4\">\r\n      <!-- 0.3 -->\r\n      <g transform=\"translate(448.625854 471.796562)scale(0.1 -0.1)\">\r\n       <defs>\r\n        <path d=\"M 40.578125 39.3125 \r\nQ 47.65625 37.796875 51.625 33 \r\nQ 55.609375 28.21875 55.609375 21.1875 \r\nQ 55.609375 10.40625 48.1875 4.484375 \r\nQ 40.765625 -1.421875 27.09375 -1.421875 \r\nQ 22.515625 -1.421875 17.65625 -0.515625 \r\nQ 12.796875 0.390625 7.625 2.203125 \r\nL 7.625 11.71875 \r\nQ 11.71875 9.328125 16.59375 8.109375 \r\nQ 21.484375 6.890625 26.8125 6.890625 \r\nQ 36.078125 6.890625 40.9375 10.546875 \r\nQ 45.796875 14.203125 45.796875 21.1875 \r\nQ 45.796875 27.640625 41.28125 31.265625 \r\nQ 36.765625 34.90625 28.71875 34.90625 \r\nL 20.21875 34.90625 \r\nL 20.21875 43.015625 \r\nL 29.109375 43.015625 \r\nQ 36.375 43.015625 40.234375 45.921875 \r\nQ 44.09375 48.828125 44.09375 54.296875 \r\nQ 44.09375 59.90625 40.109375 62.90625 \r\nQ 36.140625 65.921875 28.71875 65.921875 \r\nQ 24.65625 65.921875 20.015625 65.03125 \r\nQ 15.375 64.15625 9.8125 62.3125 \r\nL 9.8125 71.09375 \r\nQ 15.4375 72.65625 20.34375 73.4375 \r\nQ 25.25 74.21875 29.59375 74.21875 \r\nQ 40.828125 74.21875 47.359375 69.109375 \r\nQ 53.90625 64.015625 53.90625 55.328125 \r\nQ 53.90625 49.265625 50.4375 45.09375 \r\nQ 46.96875 40.921875 40.578125 39.3125 \r\nz\r\n\" id=\"DejaVuSans-51\"/>\r\n       </defs>\r\n       <use xlink:href=\"#DejaVuSans-48\"/>\r\n       <use x=\"63.623047\" xlink:href=\"#DejaVuSans-46\"/>\r\n       <use x=\"95.410156\" xlink:href=\"#DejaVuSans-51\"/>\r\n      </g>\r\n     </g>\r\n    </g>\r\n    <g id=\"xtick_5\">\r\n     <g id=\"line2d_5\">\r\n      <g>\r\n       <use style=\"stroke:#000000;stroke-width:0.8;\" x=\"569.369889\" xlink:href=\"#mac6a94b014\" y=\"457.198125\"/>\r\n      </g>\r\n     </g>\r\n     <g id=\"text_5\">\r\n      <!-- 0.4 -->\r\n      <g transform=\"translate(561.418326 471.796562)scale(0.1 -0.1)\">\r\n       <defs>\r\n        <path d=\"M 37.796875 64.3125 \r\nL 12.890625 25.390625 \r\nL 37.796875 25.390625 \r\nz\r\nM 35.203125 72.90625 \r\nL 47.609375 72.90625 \r\nL 47.609375 25.390625 \r\nL 58.015625 25.390625 \r\nL 58.015625 17.1875 \r\nL 47.609375 17.1875 \r\nL 47.609375 0 \r\nL 37.796875 0 \r\nL 37.796875 17.1875 \r\nL 4.890625 17.1875 \r\nL 4.890625 26.703125 \r\nz\r\n\" id=\"DejaVuSans-52\"/>\r\n       </defs>\r\n       <use xlink:href=\"#DejaVuSans-48\"/>\r\n       <use x=\"63.623047\" xlink:href=\"#DejaVuSans-46\"/>\r\n       <use x=\"95.410156\" xlink:href=\"#DejaVuSans-52\"/>\r\n      </g>\r\n     </g>\r\n    </g>\r\n    <g id=\"text_6\">\r\n     <!-- FEATURE IMPORTANCE -->\r\n     <g transform=\"translate(340.866406 485.474687)scale(0.1 -0.1)\">\r\n      <defs>\r\n       <path d=\"M 9.8125 72.90625 \r\nL 51.703125 72.90625 \r\nL 51.703125 64.59375 \r\nL 19.671875 64.59375 \r\nL 19.671875 43.109375 \r\nL 48.578125 43.109375 \r\nL 48.578125 34.8125 \r\nL 19.671875 34.8125 \r\nL 19.671875 0 \r\nL 9.8125 0 \r\nz\r\n\" id=\"DejaVuSans-70\"/>\r\n       <path d=\"M 9.8125 72.90625 \r\nL 55.90625 72.90625 \r\nL 55.90625 64.59375 \r\nL 19.671875 64.59375 \r\nL 19.671875 43.015625 \r\nL 54.390625 43.015625 \r\nL 54.390625 34.71875 \r\nL 19.671875 34.71875 \r\nL 19.671875 8.296875 \r\nL 56.78125 8.296875 \r\nL 56.78125 0 \r\nL 9.8125 0 \r\nz\r\n\" id=\"DejaVuSans-69\"/>\r\n       <path d=\"M 34.1875 63.1875 \r\nL 20.796875 26.90625 \r\nL 47.609375 26.90625 \r\nz\r\nM 28.609375 72.90625 \r\nL 39.796875 72.90625 \r\nL 67.578125 0 \r\nL 57.328125 0 \r\nL 50.6875 18.703125 \r\nL 17.828125 18.703125 \r\nL 11.1875 0 \r\nL 0.78125 0 \r\nz\r\n\" id=\"DejaVuSans-65\"/>\r\n       <path d=\"M -0.296875 72.90625 \r\nL 61.375 72.90625 \r\nL 61.375 64.59375 \r\nL 35.5 64.59375 \r\nL 35.5 0 \r\nL 25.59375 0 \r\nL 25.59375 64.59375 \r\nL -0.296875 64.59375 \r\nz\r\n\" id=\"DejaVuSans-84\"/>\r\n       <path d=\"M 8.6875 72.90625 \r\nL 18.609375 72.90625 \r\nL 18.609375 28.609375 \r\nQ 18.609375 16.890625 22.84375 11.734375 \r\nQ 27.09375 6.59375 36.625 6.59375 \r\nQ 46.09375 6.59375 50.34375 11.734375 \r\nQ 54.59375 16.890625 54.59375 28.609375 \r\nL 54.59375 72.90625 \r\nL 64.5 72.90625 \r\nL 64.5 27.390625 \r\nQ 64.5 13.140625 57.4375 5.859375 \r\nQ 50.390625 -1.421875 36.625 -1.421875 \r\nQ 22.796875 -1.421875 15.734375 5.859375 \r\nQ 8.6875 13.140625 8.6875 27.390625 \r\nz\r\n\" id=\"DejaVuSans-85\"/>\r\n       <path d=\"M 44.390625 34.1875 \r\nQ 47.5625 33.109375 50.5625 29.59375 \r\nQ 53.5625 26.078125 56.59375 19.921875 \r\nL 66.609375 0 \r\nL 56 0 \r\nL 46.6875 18.703125 \r\nQ 43.0625 26.03125 39.671875 28.421875 \r\nQ 36.28125 30.8125 30.421875 30.8125 \r\nL 19.671875 30.8125 \r\nL 19.671875 0 \r\nL 9.8125 0 \r\nL 9.8125 72.90625 \r\nL 32.078125 72.90625 \r\nQ 44.578125 72.90625 50.734375 67.671875 \r\nQ 56.890625 62.453125 56.890625 51.90625 \r\nQ 56.890625 45.015625 53.6875 40.46875 \r\nQ 50.484375 35.9375 44.390625 34.1875 \r\nz\r\nM 19.671875 64.796875 \r\nL 19.671875 38.921875 \r\nL 32.078125 38.921875 \r\nQ 39.203125 38.921875 42.84375 42.21875 \r\nQ 46.484375 45.515625 46.484375 51.90625 \r\nQ 46.484375 58.296875 42.84375 61.546875 \r\nQ 39.203125 64.796875 32.078125 64.796875 \r\nz\r\n\" id=\"DejaVuSans-82\"/>\r\n       <path id=\"DejaVuSans-32\"/>\r\n       <path d=\"M 9.8125 72.90625 \r\nL 19.671875 72.90625 \r\nL 19.671875 0 \r\nL 9.8125 0 \r\nz\r\n\" id=\"DejaVuSans-73\"/>\r\n       <path d=\"M 9.8125 72.90625 \r\nL 24.515625 72.90625 \r\nL 43.109375 23.296875 \r\nL 61.8125 72.90625 \r\nL 76.515625 72.90625 \r\nL 76.515625 0 \r\nL 66.890625 0 \r\nL 66.890625 64.015625 \r\nL 48.09375 14.015625 \r\nL 38.1875 14.015625 \r\nL 19.390625 64.015625 \r\nL 19.390625 0 \r\nL 9.8125 0 \r\nz\r\n\" id=\"DejaVuSans-77\"/>\r\n       <path d=\"M 19.671875 64.796875 \r\nL 19.671875 37.40625 \r\nL 32.078125 37.40625 \r\nQ 38.96875 37.40625 42.71875 40.96875 \r\nQ 46.484375 44.53125 46.484375 51.125 \r\nQ 46.484375 57.671875 42.71875 61.234375 \r\nQ 38.96875 64.796875 32.078125 64.796875 \r\nz\r\nM 9.8125 72.90625 \r\nL 32.078125 72.90625 \r\nQ 44.34375 72.90625 50.609375 67.359375 \r\nQ 56.890625 61.8125 56.890625 51.125 \r\nQ 56.890625 40.328125 50.609375 34.8125 \r\nQ 44.34375 29.296875 32.078125 29.296875 \r\nL 19.671875 29.296875 \r\nL 19.671875 0 \r\nL 9.8125 0 \r\nz\r\n\" id=\"DejaVuSans-80\"/>\r\n       <path d=\"M 39.40625 66.21875 \r\nQ 28.65625 66.21875 22.328125 58.203125 \r\nQ 16.015625 50.203125 16.015625 36.375 \r\nQ 16.015625 22.609375 22.328125 14.59375 \r\nQ 28.65625 6.59375 39.40625 6.59375 \r\nQ 50.140625 6.59375 56.421875 14.59375 \r\nQ 62.703125 22.609375 62.703125 36.375 \r\nQ 62.703125 50.203125 56.421875 58.203125 \r\nQ 50.140625 66.21875 39.40625 66.21875 \r\nz\r\nM 39.40625 74.21875 \r\nQ 54.734375 74.21875 63.90625 63.9375 \r\nQ 73.09375 53.65625 73.09375 36.375 \r\nQ 73.09375 19.140625 63.90625 8.859375 \r\nQ 54.734375 -1.421875 39.40625 -1.421875 \r\nQ 24.03125 -1.421875 14.8125 8.828125 \r\nQ 5.609375 19.09375 5.609375 36.375 \r\nQ 5.609375 53.65625 14.8125 63.9375 \r\nQ 24.03125 74.21875 39.40625 74.21875 \r\nz\r\n\" id=\"DejaVuSans-79\"/>\r\n       <path d=\"M 9.8125 72.90625 \r\nL 23.09375 72.90625 \r\nL 55.421875 11.921875 \r\nL 55.421875 72.90625 \r\nL 64.984375 72.90625 \r\nL 64.984375 0 \r\nL 51.703125 0 \r\nL 19.390625 60.984375 \r\nL 19.390625 0 \r\nL 9.8125 0 \r\nz\r\n\" id=\"DejaVuSans-78\"/>\r\n       <path d=\"M 64.40625 67.28125 \r\nL 64.40625 56.890625 \r\nQ 59.421875 61.53125 53.78125 63.8125 \r\nQ 48.140625 66.109375 41.796875 66.109375 \r\nQ 29.296875 66.109375 22.65625 58.46875 \r\nQ 16.015625 50.828125 16.015625 36.375 \r\nQ 16.015625 21.96875 22.65625 14.328125 \r\nQ 29.296875 6.6875 41.796875 6.6875 \r\nQ 48.140625 6.6875 53.78125 8.984375 \r\nQ 59.421875 11.28125 64.40625 15.921875 \r\nL 64.40625 5.609375 \r\nQ 59.234375 2.09375 53.4375 0.328125 \r\nQ 47.65625 -1.421875 41.21875 -1.421875 \r\nQ 24.65625 -1.421875 15.125 8.703125 \r\nQ 5.609375 18.84375 5.609375 36.375 \r\nQ 5.609375 53.953125 15.125 64.078125 \r\nQ 24.65625 74.21875 41.21875 74.21875 \r\nQ 47.75 74.21875 53.53125 72.484375 \r\nQ 59.328125 70.75 64.40625 67.28125 \r\nz\r\n\" id=\"DejaVuSans-67\"/>\r\n      </defs>\r\n      <use xlink:href=\"#DejaVuSans-70\"/>\r\n      <use x=\"57.519531\" xlink:href=\"#DejaVuSans-69\"/>\r\n      <use x=\"120.703125\" xlink:href=\"#DejaVuSans-65\"/>\r\n      <use x=\"181.361328\" xlink:href=\"#DejaVuSans-84\"/>\r\n      <use x=\"242.445312\" xlink:href=\"#DejaVuSans-85\"/>\r\n      <use x=\"315.638672\" xlink:href=\"#DejaVuSans-82\"/>\r\n      <use x=\"385.121094\" xlink:href=\"#DejaVuSans-69\"/>\r\n      <use x=\"448.304688\" xlink:href=\"#DejaVuSans-32\"/>\r\n      <use x=\"480.091797\" xlink:href=\"#DejaVuSans-73\"/>\r\n      <use x=\"509.583984\" xlink:href=\"#DejaVuSans-77\"/>\r\n      <use x=\"595.863281\" xlink:href=\"#DejaVuSans-80\"/>\r\n      <use x=\"656.166016\" xlink:href=\"#DejaVuSans-79\"/>\r\n      <use x=\"734.876953\" xlink:href=\"#DejaVuSans-82\"/>\r\n      <use x=\"797.109375\" xlink:href=\"#DejaVuSans-84\"/>\r\n      <use x=\"850.443359\" xlink:href=\"#DejaVuSans-65\"/>\r\n      <use x=\"918.851562\" xlink:href=\"#DejaVuSans-78\"/>\r\n      <use x=\"993.65625\" xlink:href=\"#DejaVuSans-67\"/>\r\n      <use x=\"1063.480469\" xlink:href=\"#DejaVuSans-69\"/>\r\n     </g>\r\n    </g>\r\n   </g>\r\n   <g id=\"matplotlib.axis_2\">\r\n    <g id=\"ytick_1\">\r\n     <g id=\"line2d_6\">\r\n      <defs>\r\n       <path d=\"M 0 0 \r\nL -3.5 0 \r\n\" id=\"mf0d4008ea9\" style=\"stroke:#000000;stroke-width:0.8;\"/>\r\n      </defs>\r\n      <g>\r\n       <use style=\"stroke:#000000;stroke-width:0.8;\" x=\"118.2\" xlink:href=\"#mf0d4008ea9\" y=\"49.498125\"/>\r\n      </g>\r\n     </g>\r\n     <g id=\"text_7\">\r\n      <!-- times_last_5 -->\r\n      <g transform=\"translate(49 53.297344)scale(0.1 -0.1)\">\r\n       <defs>\r\n        <path d=\"M 18.3125 70.21875 \r\nL 18.3125 54.6875 \r\nL 36.8125 54.6875 \r\nL 36.8125 47.703125 \r\nL 18.3125 47.703125 \r\nL 18.3125 18.015625 \r\nQ 18.3125 11.328125 20.140625 9.421875 \r\nQ 21.96875 7.515625 27.59375 7.515625 \r\nL 36.8125 7.515625 \r\nL 36.8125 0 \r\nL 27.59375 0 \r\nQ 17.1875 0 13.234375 3.875 \r\nQ 9.28125 7.765625 9.28125 18.015625 \r\nL 9.28125 47.703125 \r\nL 2.6875 47.703125 \r\nL 2.6875 54.6875 \r\nL 9.28125 54.6875 \r\nL 9.28125 70.21875 \r\nz\r\n\" id=\"DejaVuSans-116\"/>\r\n        <path d=\"M 9.421875 54.6875 \r\nL 18.40625 54.6875 \r\nL 18.40625 0 \r\nL 9.421875 0 \r\nz\r\nM 9.421875 75.984375 \r\nL 18.40625 75.984375 \r\nL 18.40625 64.59375 \r\nL 9.421875 64.59375 \r\nz\r\n\" id=\"DejaVuSans-105\"/>\r\n        <path d=\"M 52 44.1875 \r\nQ 55.375 50.25 60.0625 53.125 \r\nQ 64.75 56 71.09375 56 \r\nQ 79.640625 56 84.28125 50.015625 \r\nQ 88.921875 44.046875 88.921875 33.015625 \r\nL 88.921875 0 \r\nL 79.890625 0 \r\nL 79.890625 32.71875 \r\nQ 79.890625 40.578125 77.09375 44.375 \r\nQ 74.3125 48.1875 68.609375 48.1875 \r\nQ 61.625 48.1875 57.5625 43.546875 \r\nQ 53.515625 38.921875 53.515625 30.90625 \r\nL 53.515625 0 \r\nL 44.484375 0 \r\nL 44.484375 32.71875 \r\nQ 44.484375 40.625 41.703125 44.40625 \r\nQ 38.921875 48.1875 33.109375 48.1875 \r\nQ 26.21875 48.1875 22.15625 43.53125 \r\nQ 18.109375 38.875 18.109375 30.90625 \r\nL 18.109375 0 \r\nL 9.078125 0 \r\nL 9.078125 54.6875 \r\nL 18.109375 54.6875 \r\nL 18.109375 46.1875 \r\nQ 21.1875 51.21875 25.484375 53.609375 \r\nQ 29.78125 56 35.6875 56 \r\nQ 41.65625 56 45.828125 52.96875 \r\nQ 50 49.953125 52 44.1875 \r\nz\r\n\" id=\"DejaVuSans-109\"/>\r\n        <path d=\"M 56.203125 29.59375 \r\nL 56.203125 25.203125 \r\nL 14.890625 25.203125 \r\nQ 15.484375 15.921875 20.484375 11.0625 \r\nQ 25.484375 6.203125 34.421875 6.203125 \r\nQ 39.59375 6.203125 44.453125 7.46875 \r\nQ 49.3125 8.734375 54.109375 11.28125 \r\nL 54.109375 2.78125 \r\nQ 49.265625 0.734375 44.1875 -0.34375 \r\nQ 39.109375 -1.421875 33.890625 -1.421875 \r\nQ 20.796875 -1.421875 13.15625 6.1875 \r\nQ 5.515625 13.8125 5.515625 26.8125 \r\nQ 5.515625 40.234375 12.765625 48.109375 \r\nQ 20.015625 56 32.328125 56 \r\nQ 43.359375 56 49.78125 48.890625 \r\nQ 56.203125 41.796875 56.203125 29.59375 \r\nz\r\nM 47.21875 32.234375 \r\nQ 47.125 39.59375 43.09375 43.984375 \r\nQ 39.0625 48.390625 32.421875 48.390625 \r\nQ 24.90625 48.390625 20.390625 44.140625 \r\nQ 15.875 39.890625 15.1875 32.171875 \r\nz\r\n\" id=\"DejaVuSans-101\"/>\r\n        <path d=\"M 44.28125 53.078125 \r\nL 44.28125 44.578125 \r\nQ 40.484375 46.53125 36.375 47.5 \r\nQ 32.28125 48.484375 27.875 48.484375 \r\nQ 21.1875 48.484375 17.84375 46.4375 \r\nQ 14.5 44.390625 14.5 40.28125 \r\nQ 14.5 37.15625 16.890625 35.375 \r\nQ 19.28125 33.59375 26.515625 31.984375 \r\nL 29.59375 31.296875 \r\nQ 39.15625 29.25 43.1875 25.515625 \r\nQ 47.21875 21.78125 47.21875 15.09375 \r\nQ 47.21875 7.46875 41.1875 3.015625 \r\nQ 35.15625 -1.421875 24.609375 -1.421875 \r\nQ 20.21875 -1.421875 15.453125 -0.5625 \r\nQ 10.6875 0.296875 5.421875 2 \r\nL 5.421875 11.28125 \r\nQ 10.40625 8.6875 15.234375 7.390625 \r\nQ 20.0625 6.109375 24.8125 6.109375 \r\nQ 31.15625 6.109375 34.5625 8.28125 \r\nQ 37.984375 10.453125 37.984375 14.40625 \r\nQ 37.984375 18.0625 35.515625 20.015625 \r\nQ 33.0625 21.96875 24.703125 23.78125 \r\nL 21.578125 24.515625 \r\nQ 13.234375 26.265625 9.515625 29.90625 \r\nQ 5.8125 33.546875 5.8125 39.890625 \r\nQ 5.8125 47.609375 11.28125 51.796875 \r\nQ 16.75 56 26.8125 56 \r\nQ 31.78125 56 36.171875 55.265625 \r\nQ 40.578125 54.546875 44.28125 53.078125 \r\nz\r\n\" id=\"DejaVuSans-115\"/>\r\n        <path d=\"M 50.984375 -16.609375 \r\nL 50.984375 -23.578125 \r\nL -0.984375 -23.578125 \r\nL -0.984375 -16.609375 \r\nz\r\n\" id=\"DejaVuSans-95\"/>\r\n        <path d=\"M 9.421875 75.984375 \r\nL 18.40625 75.984375 \r\nL 18.40625 0 \r\nL 9.421875 0 \r\nz\r\n\" id=\"DejaVuSans-108\"/>\r\n        <path d=\"M 34.28125 27.484375 \r\nQ 23.390625 27.484375 19.1875 25 \r\nQ 14.984375 22.515625 14.984375 16.5 \r\nQ 14.984375 11.71875 18.140625 8.90625 \r\nQ 21.296875 6.109375 26.703125 6.109375 \r\nQ 34.1875 6.109375 38.703125 11.40625 \r\nQ 43.21875 16.703125 43.21875 25.484375 \r\nL 43.21875 27.484375 \r\nz\r\nM 52.203125 31.203125 \r\nL 52.203125 0 \r\nL 43.21875 0 \r\nL 43.21875 8.296875 \r\nQ 40.140625 3.328125 35.546875 0.953125 \r\nQ 30.953125 -1.421875 24.3125 -1.421875 \r\nQ 15.921875 -1.421875 10.953125 3.296875 \r\nQ 6 8.015625 6 15.921875 \r\nQ 6 25.140625 12.171875 29.828125 \r\nQ 18.359375 34.515625 30.609375 34.515625 \r\nL 43.21875 34.515625 \r\nL 43.21875 35.40625 \r\nQ 43.21875 41.609375 39.140625 45 \r\nQ 35.0625 48.390625 27.6875 48.390625 \r\nQ 23 48.390625 18.546875 47.265625 \r\nQ 14.109375 46.140625 10.015625 43.890625 \r\nL 10.015625 52.203125 \r\nQ 14.9375 54.109375 19.578125 55.046875 \r\nQ 24.21875 56 28.609375 56 \r\nQ 40.484375 56 46.34375 49.84375 \r\nQ 52.203125 43.703125 52.203125 31.203125 \r\nz\r\n\" id=\"DejaVuSans-97\"/>\r\n        <path d=\"M 10.796875 72.90625 \r\nL 49.515625 72.90625 \r\nL 49.515625 64.59375 \r\nL 19.828125 64.59375 \r\nL 19.828125 46.734375 \r\nQ 21.96875 47.46875 24.109375 47.828125 \r\nQ 26.265625 48.1875 28.421875 48.1875 \r\nQ 40.625 48.1875 47.75 41.5 \r\nQ 54.890625 34.8125 54.890625 23.390625 \r\nQ 54.890625 11.625 47.5625 5.09375 \r\nQ 40.234375 -1.421875 26.90625 -1.421875 \r\nQ 22.3125 -1.421875 17.546875 -0.640625 \r\nQ 12.796875 0.140625 7.71875 1.703125 \r\nL 7.71875 11.625 \r\nQ 12.109375 9.234375 16.796875 8.0625 \r\nQ 21.484375 6.890625 26.703125 6.890625 \r\nQ 35.15625 6.890625 40.078125 11.328125 \r\nQ 45.015625 15.765625 45.015625 23.390625 \r\nQ 45.015625 31 40.078125 35.4375 \r\nQ 35.15625 39.890625 26.703125 39.890625 \r\nQ 22.75 39.890625 18.8125 39.015625 \r\nQ 14.890625 38.140625 10.796875 36.28125 \r\nz\r\n\" id=\"DejaVuSans-53\"/>\r\n       </defs>\r\n       <use xlink:href=\"#DejaVuSans-116\"/>\r\n       <use x=\"39.208984\" xlink:href=\"#DejaVuSans-105\"/>\r\n       <use x=\"66.992188\" xlink:href=\"#DejaVuSans-109\"/>\r\n       <use x=\"164.404297\" xlink:href=\"#DejaVuSans-101\"/>\r\n       <use x=\"225.927734\" xlink:href=\"#DejaVuSans-115\"/>\r\n       <use x=\"278.027344\" xlink:href=\"#DejaVuSans-95\"/>\r\n       <use x=\"328.027344\" xlink:href=\"#DejaVuSans-108\"/>\r\n       <use x=\"355.810547\" xlink:href=\"#DejaVuSans-97\"/>\r\n       <use x=\"417.089844\" xlink:href=\"#DejaVuSans-115\"/>\r\n       <use x=\"469.189453\" xlink:href=\"#DejaVuSans-116\"/>\r\n       <use x=\"508.398438\" xlink:href=\"#DejaVuSans-95\"/>\r\n       <use x=\"558.398438\" xlink:href=\"#DejaVuSans-53\"/>\r\n      </g>\r\n     </g>\r\n    </g>\r\n    <g id=\"ytick_2\">\r\n     <g id=\"line2d_7\">\r\n      <g>\r\n       <use style=\"stroke:#000000;stroke-width:0.8;\" x=\"118.2\" xlink:href=\"#mf0d4008ea9\" y=\"103.858125\"/>\r\n      </g>\r\n     </g>\r\n     <g id=\"text_8\">\r\n      <!-- up_reorder_ratio -->\r\n      <g transform=\"translate(28.751562 107.657344)scale(0.1 -0.1)\">\r\n       <defs>\r\n        <path d=\"M 8.5 21.578125 \r\nL 8.5 54.6875 \r\nL 17.484375 54.6875 \r\nL 17.484375 21.921875 \r\nQ 17.484375 14.15625 20.5 10.265625 \r\nQ 23.53125 6.390625 29.59375 6.390625 \r\nQ 36.859375 6.390625 41.078125 11.03125 \r\nQ 45.3125 15.671875 45.3125 23.6875 \r\nL 45.3125 54.6875 \r\nL 54.296875 54.6875 \r\nL 54.296875 0 \r\nL 45.3125 0 \r\nL 45.3125 8.40625 \r\nQ 42.046875 3.421875 37.71875 1 \r\nQ 33.40625 -1.421875 27.6875 -1.421875 \r\nQ 18.265625 -1.421875 13.375 4.4375 \r\nQ 8.5 10.296875 8.5 21.578125 \r\nz\r\nM 31.109375 56 \r\nz\r\n\" id=\"DejaVuSans-117\"/>\r\n        <path d=\"M 18.109375 8.203125 \r\nL 18.109375 -20.796875 \r\nL 9.078125 -20.796875 \r\nL 9.078125 54.6875 \r\nL 18.109375 54.6875 \r\nL 18.109375 46.390625 \r\nQ 20.953125 51.265625 25.265625 53.625 \r\nQ 29.59375 56 35.59375 56 \r\nQ 45.5625 56 51.78125 48.09375 \r\nQ 58.015625 40.1875 58.015625 27.296875 \r\nQ 58.015625 14.40625 51.78125 6.484375 \r\nQ 45.5625 -1.421875 35.59375 -1.421875 \r\nQ 29.59375 -1.421875 25.265625 0.953125 \r\nQ 20.953125 3.328125 18.109375 8.203125 \r\nz\r\nM 48.6875 27.296875 \r\nQ 48.6875 37.203125 44.609375 42.84375 \r\nQ 40.53125 48.484375 33.40625 48.484375 \r\nQ 26.265625 48.484375 22.1875 42.84375 \r\nQ 18.109375 37.203125 18.109375 27.296875 \r\nQ 18.109375 17.390625 22.1875 11.75 \r\nQ 26.265625 6.109375 33.40625 6.109375 \r\nQ 40.53125 6.109375 44.609375 11.75 \r\nQ 48.6875 17.390625 48.6875 27.296875 \r\nz\r\n\" id=\"DejaVuSans-112\"/>\r\n        <path d=\"M 41.109375 46.296875 \r\nQ 39.59375 47.171875 37.8125 47.578125 \r\nQ 36.03125 48 33.890625 48 \r\nQ 26.265625 48 22.1875 43.046875 \r\nQ 18.109375 38.09375 18.109375 28.8125 \r\nL 18.109375 0 \r\nL 9.078125 0 \r\nL 9.078125 54.6875 \r\nL 18.109375 54.6875 \r\nL 18.109375 46.1875 \r\nQ 20.953125 51.171875 25.484375 53.578125 \r\nQ 30.03125 56 36.53125 56 \r\nQ 37.453125 56 38.578125 55.875 \r\nQ 39.703125 55.765625 41.0625 55.515625 \r\nz\r\n\" id=\"DejaVuSans-114\"/>\r\n        <path d=\"M 30.609375 48.390625 \r\nQ 23.390625 48.390625 19.1875 42.75 \r\nQ 14.984375 37.109375 14.984375 27.296875 \r\nQ 14.984375 17.484375 19.15625 11.84375 \r\nQ 23.34375 6.203125 30.609375 6.203125 \r\nQ 37.796875 6.203125 41.984375 11.859375 \r\nQ 46.1875 17.53125 46.1875 27.296875 \r\nQ 46.1875 37.015625 41.984375 42.703125 \r\nQ 37.796875 48.390625 30.609375 48.390625 \r\nz\r\nM 30.609375 56 \r\nQ 42.328125 56 49.015625 48.375 \r\nQ 55.71875 40.765625 55.71875 27.296875 \r\nQ 55.71875 13.875 49.015625 6.21875 \r\nQ 42.328125 -1.421875 30.609375 -1.421875 \r\nQ 18.84375 -1.421875 12.171875 6.21875 \r\nQ 5.515625 13.875 5.515625 27.296875 \r\nQ 5.515625 40.765625 12.171875 48.375 \r\nQ 18.84375 56 30.609375 56 \r\nz\r\n\" id=\"DejaVuSans-111\"/>\r\n        <path d=\"M 45.40625 46.390625 \r\nL 45.40625 75.984375 \r\nL 54.390625 75.984375 \r\nL 54.390625 0 \r\nL 45.40625 0 \r\nL 45.40625 8.203125 \r\nQ 42.578125 3.328125 38.25 0.953125 \r\nQ 33.9375 -1.421875 27.875 -1.421875 \r\nQ 17.96875 -1.421875 11.734375 6.484375 \r\nQ 5.515625 14.40625 5.515625 27.296875 \r\nQ 5.515625 40.1875 11.734375 48.09375 \r\nQ 17.96875 56 27.875 56 \r\nQ 33.9375 56 38.25 53.625 \r\nQ 42.578125 51.265625 45.40625 46.390625 \r\nz\r\nM 14.796875 27.296875 \r\nQ 14.796875 17.390625 18.875 11.75 \r\nQ 22.953125 6.109375 30.078125 6.109375 \r\nQ 37.203125 6.109375 41.296875 11.75 \r\nQ 45.40625 17.390625 45.40625 27.296875 \r\nQ 45.40625 37.203125 41.296875 42.84375 \r\nQ 37.203125 48.484375 30.078125 48.484375 \r\nQ 22.953125 48.484375 18.875 42.84375 \r\nQ 14.796875 37.203125 14.796875 27.296875 \r\nz\r\n\" id=\"DejaVuSans-100\"/>\r\n       </defs>\r\n       <use xlink:href=\"#DejaVuSans-117\"/>\r\n       <use x=\"63.378906\" xlink:href=\"#DejaVuSans-112\"/>\r\n       <use x=\"126.855469\" xlink:href=\"#DejaVuSans-95\"/>\r\n       <use x=\"176.855469\" xlink:href=\"#DejaVuSans-114\"/>\r\n       <use x=\"215.71875\" xlink:href=\"#DejaVuSans-101\"/>\r\n       <use x=\"277.242188\" xlink:href=\"#DejaVuSans-111\"/>\r\n       <use x=\"338.423828\" xlink:href=\"#DejaVuSans-114\"/>\r\n       <use x=\"377.787109\" xlink:href=\"#DejaVuSans-100\"/>\r\n       <use x=\"441.263672\" xlink:href=\"#DejaVuSans-101\"/>\r\n       <use x=\"502.787109\" xlink:href=\"#DejaVuSans-114\"/>\r\n       <use x=\"543.900391\" xlink:href=\"#DejaVuSans-95\"/>\r\n       <use x=\"593.900391\" xlink:href=\"#DejaVuSans-114\"/>\r\n       <use x=\"635.013672\" xlink:href=\"#DejaVuSans-97\"/>\r\n       <use x=\"696.292969\" xlink:href=\"#DejaVuSans-116\"/>\r\n       <use x=\"735.501953\" xlink:href=\"#DejaVuSans-105\"/>\r\n       <use x=\"763.285156\" xlink:href=\"#DejaVuSans-111\"/>\r\n      </g>\r\n     </g>\r\n    </g>\r\n    <g id=\"ytick_3\">\r\n     <g id=\"line2d_8\">\r\n      <g>\r\n       <use style=\"stroke:#000000;stroke-width:0.8;\" x=\"118.2\" xlink:href=\"#mf0d4008ea9\" y=\"158.218125\"/>\r\n      </g>\r\n     </g>\r\n     <g id=\"text_9\">\r\n      <!-- up_total_bought -->\r\n      <g transform=\"translate(30.2375 162.017344)scale(0.1 -0.1)\">\r\n       <defs>\r\n        <path d=\"M 48.6875 27.296875 \r\nQ 48.6875 37.203125 44.609375 42.84375 \r\nQ 40.53125 48.484375 33.40625 48.484375 \r\nQ 26.265625 48.484375 22.1875 42.84375 \r\nQ 18.109375 37.203125 18.109375 27.296875 \r\nQ 18.109375 17.390625 22.1875 11.75 \r\nQ 26.265625 6.109375 33.40625 6.109375 \r\nQ 40.53125 6.109375 44.609375 11.75 \r\nQ 48.6875 17.390625 48.6875 27.296875 \r\nz\r\nM 18.109375 46.390625 \r\nQ 20.953125 51.265625 25.265625 53.625 \r\nQ 29.59375 56 35.59375 56 \r\nQ 45.5625 56 51.78125 48.09375 \r\nQ 58.015625 40.1875 58.015625 27.296875 \r\nQ 58.015625 14.40625 51.78125 6.484375 \r\nQ 45.5625 -1.421875 35.59375 -1.421875 \r\nQ 29.59375 -1.421875 25.265625 0.953125 \r\nQ 20.953125 3.328125 18.109375 8.203125 \r\nL 18.109375 0 \r\nL 9.078125 0 \r\nL 9.078125 75.984375 \r\nL 18.109375 75.984375 \r\nz\r\n\" id=\"DejaVuSans-98\"/>\r\n        <path d=\"M 45.40625 27.984375 \r\nQ 45.40625 37.75 41.375 43.109375 \r\nQ 37.359375 48.484375 30.078125 48.484375 \r\nQ 22.859375 48.484375 18.828125 43.109375 \r\nQ 14.796875 37.75 14.796875 27.984375 \r\nQ 14.796875 18.265625 18.828125 12.890625 \r\nQ 22.859375 7.515625 30.078125 7.515625 \r\nQ 37.359375 7.515625 41.375 12.890625 \r\nQ 45.40625 18.265625 45.40625 27.984375 \r\nz\r\nM 54.390625 6.78125 \r\nQ 54.390625 -7.171875 48.1875 -13.984375 \r\nQ 42 -20.796875 29.203125 -20.796875 \r\nQ 24.46875 -20.796875 20.265625 -20.09375 \r\nQ 16.0625 -19.390625 12.109375 -17.921875 \r\nL 12.109375 -9.1875 \r\nQ 16.0625 -11.328125 19.921875 -12.34375 \r\nQ 23.78125 -13.375 27.78125 -13.375 \r\nQ 36.625 -13.375 41.015625 -8.765625 \r\nQ 45.40625 -4.15625 45.40625 5.171875 \r\nL 45.40625 9.625 \r\nQ 42.625 4.78125 38.28125 2.390625 \r\nQ 33.9375 0 27.875 0 \r\nQ 17.828125 0 11.671875 7.65625 \r\nQ 5.515625 15.328125 5.515625 27.984375 \r\nQ 5.515625 40.671875 11.671875 48.328125 \r\nQ 17.828125 56 27.875 56 \r\nQ 33.9375 56 38.28125 53.609375 \r\nQ 42.625 51.21875 45.40625 46.390625 \r\nL 45.40625 54.6875 \r\nL 54.390625 54.6875 \r\nz\r\n\" id=\"DejaVuSans-103\"/>\r\n        <path d=\"M 54.890625 33.015625 \r\nL 54.890625 0 \r\nL 45.90625 0 \r\nL 45.90625 32.71875 \r\nQ 45.90625 40.484375 42.875 44.328125 \r\nQ 39.84375 48.1875 33.796875 48.1875 \r\nQ 26.515625 48.1875 22.3125 43.546875 \r\nQ 18.109375 38.921875 18.109375 30.90625 \r\nL 18.109375 0 \r\nL 9.078125 0 \r\nL 9.078125 75.984375 \r\nL 18.109375 75.984375 \r\nL 18.109375 46.1875 \r\nQ 21.34375 51.125 25.703125 53.5625 \r\nQ 30.078125 56 35.796875 56 \r\nQ 45.21875 56 50.046875 50.171875 \r\nQ 54.890625 44.34375 54.890625 33.015625 \r\nz\r\n\" id=\"DejaVuSans-104\"/>\r\n       </defs>\r\n       <use xlink:href=\"#DejaVuSans-117\"/>\r\n       <use x=\"63.378906\" xlink:href=\"#DejaVuSans-112\"/>\r\n       <use x=\"126.855469\" xlink:href=\"#DejaVuSans-95\"/>\r\n       <use x=\"176.855469\" xlink:href=\"#DejaVuSans-116\"/>\r\n       <use x=\"216.064453\" xlink:href=\"#DejaVuSans-111\"/>\r\n       <use x=\"277.246094\" xlink:href=\"#DejaVuSans-116\"/>\r\n       <use x=\"316.455078\" xlink:href=\"#DejaVuSans-97\"/>\r\n       <use x=\"377.734375\" xlink:href=\"#DejaVuSans-108\"/>\r\n       <use x=\"405.517578\" xlink:href=\"#DejaVuSans-95\"/>\r\n       <use x=\"455.517578\" xlink:href=\"#DejaVuSans-98\"/>\r\n       <use x=\"518.994141\" xlink:href=\"#DejaVuSans-111\"/>\r\n       <use x=\"580.175781\" xlink:href=\"#DejaVuSans-117\"/>\r\n       <use x=\"643.554688\" xlink:href=\"#DejaVuSans-103\"/>\r\n       <use x=\"707.03125\" xlink:href=\"#DejaVuSans-104\"/>\r\n       <use x=\"770.410156\" xlink:href=\"#DejaVuSans-116\"/>\r\n      </g>\r\n     </g>\r\n    </g>\r\n    <g id=\"ytick_4\">\r\n     <g id=\"line2d_9\">\r\n      <g>\r\n       <use style=\"stroke:#000000;stroke-width:0.8;\" x=\"118.2\" xlink:href=\"#mf0d4008ea9\" y=\"212.578125\"/>\r\n      </g>\r\n     </g>\r\n     <g id=\"text_10\">\r\n      <!-- p_reorder_ratio -->\r\n      <g transform=\"translate(35.089062 216.377344)scale(0.1 -0.1)\">\r\n       <use xlink:href=\"#DejaVuSans-112\"/>\r\n       <use x=\"63.476562\" xlink:href=\"#DejaVuSans-95\"/>\r\n       <use x=\"113.476562\" xlink:href=\"#DejaVuSans-114\"/>\r\n       <use x=\"152.339844\" xlink:href=\"#DejaVuSans-101\"/>\r\n       <use x=\"213.863281\" xlink:href=\"#DejaVuSans-111\"/>\r\n       <use x=\"275.044922\" xlink:href=\"#DejaVuSans-114\"/>\r\n       <use x=\"314.408203\" xlink:href=\"#DejaVuSans-100\"/>\r\n       <use x=\"377.884766\" xlink:href=\"#DejaVuSans-101\"/>\r\n       <use x=\"439.408203\" xlink:href=\"#DejaVuSans-114\"/>\r\n       <use x=\"480.521484\" xlink:href=\"#DejaVuSans-95\"/>\r\n       <use x=\"530.521484\" xlink:href=\"#DejaVuSans-114\"/>\r\n       <use x=\"571.634766\" xlink:href=\"#DejaVuSans-97\"/>\r\n       <use x=\"632.914062\" xlink:href=\"#DejaVuSans-116\"/>\r\n       <use x=\"672.123047\" xlink:href=\"#DejaVuSans-105\"/>\r\n       <use x=\"699.90625\" xlink:href=\"#DejaVuSans-111\"/>\r\n      </g>\r\n     </g>\r\n    </g>\r\n    <g id=\"ytick_5\">\r\n     <g id=\"line2d_10\">\r\n      <g>\r\n       <use style=\"stroke:#000000;stroke-width:0.8;\" x=\"118.2\" xlink:href=\"#mf0d4008ea9\" y=\"266.938125\"/>\r\n      </g>\r\n     </g>\r\n     <g id=\"text_11\">\r\n      <!-- position_to_cart -->\r\n      <g transform=\"translate(31.89375 270.737344)scale(0.1 -0.1)\">\r\n       <defs>\r\n        <path d=\"M 54.890625 33.015625 \r\nL 54.890625 0 \r\nL 45.90625 0 \r\nL 45.90625 32.71875 \r\nQ 45.90625 40.484375 42.875 44.328125 \r\nQ 39.84375 48.1875 33.796875 48.1875 \r\nQ 26.515625 48.1875 22.3125 43.546875 \r\nQ 18.109375 38.921875 18.109375 30.90625 \r\nL 18.109375 0 \r\nL 9.078125 0 \r\nL 9.078125 54.6875 \r\nL 18.109375 54.6875 \r\nL 18.109375 46.1875 \r\nQ 21.34375 51.125 25.703125 53.5625 \r\nQ 30.078125 56 35.796875 56 \r\nQ 45.21875 56 50.046875 50.171875 \r\nQ 54.890625 44.34375 54.890625 33.015625 \r\nz\r\n\" id=\"DejaVuSans-110\"/>\r\n        <path d=\"M 48.78125 52.59375 \r\nL 48.78125 44.1875 \r\nQ 44.96875 46.296875 41.140625 47.34375 \r\nQ 37.3125 48.390625 33.40625 48.390625 \r\nQ 24.65625 48.390625 19.8125 42.84375 \r\nQ 14.984375 37.3125 14.984375 27.296875 \r\nQ 14.984375 17.28125 19.8125 11.734375 \r\nQ 24.65625 6.203125 33.40625 6.203125 \r\nQ 37.3125 6.203125 41.140625 7.25 \r\nQ 44.96875 8.296875 48.78125 10.40625 \r\nL 48.78125 2.09375 \r\nQ 45.015625 0.34375 40.984375 -0.53125 \r\nQ 36.96875 -1.421875 32.421875 -1.421875 \r\nQ 20.0625 -1.421875 12.78125 6.34375 \r\nQ 5.515625 14.109375 5.515625 27.296875 \r\nQ 5.515625 40.671875 12.859375 48.328125 \r\nQ 20.21875 56 33.015625 56 \r\nQ 37.15625 56 41.109375 55.140625 \r\nQ 45.0625 54.296875 48.78125 52.59375 \r\nz\r\n\" id=\"DejaVuSans-99\"/>\r\n       </defs>\r\n       <use xlink:href=\"#DejaVuSans-112\"/>\r\n       <use x=\"63.476562\" xlink:href=\"#DejaVuSans-111\"/>\r\n       <use x=\"124.658203\" xlink:href=\"#DejaVuSans-115\"/>\r\n       <use x=\"176.757812\" xlink:href=\"#DejaVuSans-105\"/>\r\n       <use x=\"204.541016\" xlink:href=\"#DejaVuSans-116\"/>\r\n       <use x=\"243.75\" xlink:href=\"#DejaVuSans-105\"/>\r\n       <use x=\"271.533203\" xlink:href=\"#DejaVuSans-111\"/>\r\n       <use x=\"332.714844\" xlink:href=\"#DejaVuSans-110\"/>\r\n       <use x=\"396.09375\" xlink:href=\"#DejaVuSans-95\"/>\r\n       <use x=\"446.09375\" xlink:href=\"#DejaVuSans-116\"/>\r\n       <use x=\"485.302734\" xlink:href=\"#DejaVuSans-111\"/>\r\n       <use x=\"546.484375\" xlink:href=\"#DejaVuSans-95\"/>\r\n       <use x=\"596.484375\" xlink:href=\"#DejaVuSans-99\"/>\r\n       <use x=\"651.464844\" xlink:href=\"#DejaVuSans-97\"/>\r\n       <use x=\"712.744141\" xlink:href=\"#DejaVuSans-114\"/>\r\n       <use x=\"753.857422\" xlink:href=\"#DejaVuSans-116\"/>\r\n      </g>\r\n     </g>\r\n    </g>\r\n    <g id=\"ytick_6\">\r\n     <g id=\"line2d_11\">\r\n      <g>\r\n       <use style=\"stroke:#000000;stroke-width:0.8;\" x=\"118.2\" xlink:href=\"#mf0d4008ea9\" y=\"321.298125\"/>\r\n      </g>\r\n     </g>\r\n     <g id=\"text_12\">\r\n      <!-- u_total_orders -->\r\n      <g transform=\"translate(40.120312 325.097344)scale(0.1 -0.1)\">\r\n       <use xlink:href=\"#DejaVuSans-117\"/>\r\n       <use x=\"63.378906\" xlink:href=\"#DejaVuSans-95\"/>\r\n       <use x=\"113.378906\" xlink:href=\"#DejaVuSans-116\"/>\r\n       <use x=\"152.587891\" xlink:href=\"#DejaVuSans-111\"/>\r\n       <use x=\"213.769531\" xlink:href=\"#DejaVuSans-116\"/>\r\n       <use x=\"252.978516\" xlink:href=\"#DejaVuSans-97\"/>\r\n       <use x=\"314.257812\" xlink:href=\"#DejaVuSans-108\"/>\r\n       <use x=\"342.041016\" xlink:href=\"#DejaVuSans-95\"/>\r\n       <use x=\"392.041016\" xlink:href=\"#DejaVuSans-111\"/>\r\n       <use x=\"453.222656\" xlink:href=\"#DejaVuSans-114\"/>\r\n       <use x=\"492.585938\" xlink:href=\"#DejaVuSans-100\"/>\r\n       <use x=\"556.0625\" xlink:href=\"#DejaVuSans-101\"/>\r\n       <use x=\"617.585938\" xlink:href=\"#DejaVuSans-114\"/>\r\n       <use x=\"658.699219\" xlink:href=\"#DejaVuSans-115\"/>\r\n      </g>\r\n     </g>\r\n    </g>\r\n    <g id=\"ytick_7\">\r\n     <g id=\"line2d_12\">\r\n      <g>\r\n       <use style=\"stroke:#000000;stroke-width:0.8;\" x=\"118.2\" xlink:href=\"#mf0d4008ea9\" y=\"375.658125\"/>\r\n      </g>\r\n     </g>\r\n     <g id=\"text_13\">\r\n      <!-- u_reordered_ratio -->\r\n      <g transform=\"translate(22.823437 379.457344)scale(0.1 -0.1)\">\r\n       <use xlink:href=\"#DejaVuSans-117\"/>\r\n       <use x=\"63.378906\" xlink:href=\"#DejaVuSans-95\"/>\r\n       <use x=\"113.378906\" xlink:href=\"#DejaVuSans-114\"/>\r\n       <use x=\"152.242188\" xlink:href=\"#DejaVuSans-101\"/>\r\n       <use x=\"213.765625\" xlink:href=\"#DejaVuSans-111\"/>\r\n       <use x=\"274.947266\" xlink:href=\"#DejaVuSans-114\"/>\r\n       <use x=\"314.310547\" xlink:href=\"#DejaVuSans-100\"/>\r\n       <use x=\"377.787109\" xlink:href=\"#DejaVuSans-101\"/>\r\n       <use x=\"439.310547\" xlink:href=\"#DejaVuSans-114\"/>\r\n       <use x=\"478.173828\" xlink:href=\"#DejaVuSans-101\"/>\r\n       <use x=\"539.697266\" xlink:href=\"#DejaVuSans-100\"/>\r\n       <use x=\"603.173828\" xlink:href=\"#DejaVuSans-95\"/>\r\n       <use x=\"653.173828\" xlink:href=\"#DejaVuSans-114\"/>\r\n       <use x=\"694.287109\" xlink:href=\"#DejaVuSans-97\"/>\r\n       <use x=\"755.566406\" xlink:href=\"#DejaVuSans-116\"/>\r\n       <use x=\"794.775391\" xlink:href=\"#DejaVuSans-105\"/>\r\n       <use x=\"822.558594\" xlink:href=\"#DejaVuSans-111\"/>\r\n      </g>\r\n     </g>\r\n    </g>\r\n    <g id=\"ytick_8\">\r\n     <g id=\"line2d_13\">\r\n      <g>\r\n       <use style=\"stroke:#000000;stroke-width:0.8;\" x=\"118.2\" xlink:href=\"#mf0d4008ea9\" y=\"430.018125\"/>\r\n      </g>\r\n     </g>\r\n     <g id=\"text_14\">\r\n      <!-- p_total_purchases -->\r\n      <g transform=\"translate(20.878125 433.817344)scale(0.1 -0.1)\">\r\n       <use xlink:href=\"#DejaVuSans-112\"/>\r\n       <use x=\"63.476562\" xlink:href=\"#DejaVuSans-95\"/>\r\n       <use x=\"113.476562\" xlink:href=\"#DejaVuSans-116\"/>\r\n       <use x=\"152.685547\" xlink:href=\"#DejaVuSans-111\"/>\r\n       <use x=\"213.867188\" xlink:href=\"#DejaVuSans-116\"/>\r\n       <use x=\"253.076172\" xlink:href=\"#DejaVuSans-97\"/>\r\n       <use x=\"314.355469\" xlink:href=\"#DejaVuSans-108\"/>\r\n       <use x=\"342.138672\" xlink:href=\"#DejaVuSans-95\"/>\r\n       <use x=\"392.138672\" xlink:href=\"#DejaVuSans-112\"/>\r\n       <use x=\"455.615234\" xlink:href=\"#DejaVuSans-117\"/>\r\n       <use x=\"518.994141\" xlink:href=\"#DejaVuSans-114\"/>\r\n       <use x=\"557.857422\" xlink:href=\"#DejaVuSans-99\"/>\r\n       <use x=\"612.837891\" xlink:href=\"#DejaVuSans-104\"/>\r\n       <use x=\"676.216797\" xlink:href=\"#DejaVuSans-97\"/>\r\n       <use x=\"737.496094\" xlink:href=\"#DejaVuSans-115\"/>\r\n       <use x=\"789.595703\" xlink:href=\"#DejaVuSans-101\"/>\r\n       <use x=\"851.119141\" xlink:href=\"#DejaVuSans-115\"/>\r\n      </g>\r\n     </g>\r\n    </g>\r\n    <g id=\"text_15\">\r\n     <!-- FEATURE NAMES -->\r\n     <g transform=\"translate(14.798437 281.570625)rotate(-90)scale(0.1 -0.1)\">\r\n      <defs>\r\n       <path d=\"M 53.515625 70.515625 \r\nL 53.515625 60.890625 \r\nQ 47.90625 63.578125 42.921875 64.890625 \r\nQ 37.9375 66.21875 33.296875 66.21875 \r\nQ 25.25 66.21875 20.875 63.09375 \r\nQ 16.5 59.96875 16.5 54.203125 \r\nQ 16.5 49.359375 19.40625 46.890625 \r\nQ 22.3125 44.4375 30.421875 42.921875 \r\nL 36.375 41.703125 \r\nQ 47.40625 39.59375 52.65625 34.296875 \r\nQ 57.90625 29 57.90625 20.125 \r\nQ 57.90625 9.515625 50.796875 4.046875 \r\nQ 43.703125 -1.421875 29.984375 -1.421875 \r\nQ 24.8125 -1.421875 18.96875 -0.25 \r\nQ 13.140625 0.921875 6.890625 3.21875 \r\nL 6.890625 13.375 \r\nQ 12.890625 10.015625 18.65625 8.296875 \r\nQ 24.421875 6.59375 29.984375 6.59375 \r\nQ 38.421875 6.59375 43.015625 9.90625 \r\nQ 47.609375 13.234375 47.609375 19.390625 \r\nQ 47.609375 24.75 44.3125 27.78125 \r\nQ 41.015625 30.8125 33.5 32.328125 \r\nL 27.484375 33.5 \r\nQ 16.453125 35.6875 11.515625 40.375 \r\nQ 6.59375 45.0625 6.59375 53.421875 \r\nQ 6.59375 63.09375 13.40625 68.65625 \r\nQ 20.21875 74.21875 32.171875 74.21875 \r\nQ 37.3125 74.21875 42.625 73.28125 \r\nQ 47.953125 72.359375 53.515625 70.515625 \r\nz\r\n\" id=\"DejaVuSans-83\"/>\r\n      </defs>\r\n      <use xlink:href=\"#DejaVuSans-70\"/>\r\n      <use x=\"57.519531\" xlink:href=\"#DejaVuSans-69\"/>\r\n      <use x=\"120.703125\" xlink:href=\"#DejaVuSans-65\"/>\r\n      <use x=\"181.361328\" xlink:href=\"#DejaVuSans-84\"/>\r\n      <use x=\"242.445312\" xlink:href=\"#DejaVuSans-85\"/>\r\n      <use x=\"315.638672\" xlink:href=\"#DejaVuSans-82\"/>\r\n      <use x=\"385.121094\" xlink:href=\"#DejaVuSans-69\"/>\r\n      <use x=\"448.304688\" xlink:href=\"#DejaVuSans-32\"/>\r\n      <use x=\"480.091797\" xlink:href=\"#DejaVuSans-78\"/>\r\n      <use x=\"554.896484\" xlink:href=\"#DejaVuSans-65\"/>\r\n      <use x=\"623.304688\" xlink:href=\"#DejaVuSans-77\"/>\r\n      <use x=\"709.583984\" xlink:href=\"#DejaVuSans-69\"/>\r\n      <use x=\"772.767578\" xlink:href=\"#DejaVuSans-83\"/>\r\n     </g>\r\n    </g>\r\n   </g>\r\n   <g id=\"line2d_14\">\r\n    <path clip-path=\"url(#p949769c5bd)\" d=\"M 0 0 \r\n\" style=\"fill:none;stroke:#424242;stroke-linecap:square;stroke-width:2.7;\"/>\r\n   </g>\r\n   <g id=\"line2d_15\">\r\n    <path clip-path=\"url(#p949769c5bd)\" d=\"M 0 0 \r\n\" style=\"fill:none;stroke:#424242;stroke-linecap:square;stroke-width:2.7;\"/>\r\n   </g>\r\n   <g id=\"line2d_16\">\r\n    <path clip-path=\"url(#p949769c5bd)\" d=\"M 0 0 \r\n\" style=\"fill:none;stroke:#424242;stroke-linecap:square;stroke-width:2.7;\"/>\r\n   </g>\r\n   <g id=\"line2d_17\">\r\n    <path clip-path=\"url(#p949769c5bd)\" d=\"M 0 0 \r\n\" style=\"fill:none;stroke:#424242;stroke-linecap:square;stroke-width:2.7;\"/>\r\n   </g>\r\n   <g id=\"line2d_18\">\r\n    <path clip-path=\"url(#p949769c5bd)\" d=\"M 0 0 \r\n\" style=\"fill:none;stroke:#424242;stroke-linecap:square;stroke-width:2.7;\"/>\r\n   </g>\r\n   <g id=\"line2d_19\">\r\n    <path clip-path=\"url(#p949769c5bd)\" d=\"M 0 0 \r\n\" style=\"fill:none;stroke:#424242;stroke-linecap:square;stroke-width:2.7;\"/>\r\n   </g>\r\n   <g id=\"line2d_20\">\r\n    <path clip-path=\"url(#p949769c5bd)\" d=\"M 0 0 \r\n\" style=\"fill:none;stroke:#424242;stroke-linecap:square;stroke-width:2.7;\"/>\r\n   </g>\r\n   <g id=\"line2d_21\">\r\n    <path clip-path=\"url(#p949769c5bd)\" d=\"M 0 0 \r\n\" style=\"fill:none;stroke:#424242;stroke-linecap:square;stroke-width:2.7;\"/>\r\n   </g>\r\n   <g id=\"patch_11\">\r\n    <path d=\"M 118.2 457.198125 \r\nL 118.2 22.318125 \r\n\" style=\"fill:none;stroke:#000000;stroke-linecap:square;stroke-linejoin:miter;stroke-width:0.8;\"/>\r\n   </g>\r\n   <g id=\"patch_12\">\r\n    <path d=\"M 676.2 457.198125 \r\nL 676.2 22.318125 \r\n\" style=\"fill:none;stroke:#000000;stroke-linecap:square;stroke-linejoin:miter;stroke-width:0.8;\"/>\r\n   </g>\r\n   <g id=\"patch_13\">\r\n    <path d=\"M 118.2 457.198125 \r\nL 676.2 457.198125 \r\n\" style=\"fill:none;stroke:#000000;stroke-linecap:square;stroke-linejoin:miter;stroke-width:0.8;\"/>\r\n   </g>\r\n   <g id=\"patch_14\">\r\n    <path d=\"M 118.2 22.318125 \r\nL 676.2 22.318125 \r\n\" style=\"fill:none;stroke:#000000;stroke-linecap:square;stroke-linejoin:miter;stroke-width:0.8;\"/>\r\n   </g>\r\n   <g id=\"text_16\">\r\n    <!-- Random Forest Classifier FEATURE IMPORTANCE -->\r\n    <g transform=\"translate(253.245937 16.318125)scale(0.12 -0.12)\">\r\n     <defs>\r\n      <path d=\"M 37.109375 75.984375 \r\nL 37.109375 68.5 \r\nL 28.515625 68.5 \r\nQ 23.6875 68.5 21.796875 66.546875 \r\nQ 19.921875 64.59375 19.921875 59.515625 \r\nL 19.921875 54.6875 \r\nL 34.71875 54.6875 \r\nL 34.71875 47.703125 \r\nL 19.921875 47.703125 \r\nL 19.921875 0 \r\nL 10.890625 0 \r\nL 10.890625 47.703125 \r\nL 2.296875 47.703125 \r\nL 2.296875 54.6875 \r\nL 10.890625 54.6875 \r\nL 10.890625 58.5 \r\nQ 10.890625 67.625 15.140625 71.796875 \r\nQ 19.390625 75.984375 28.609375 75.984375 \r\nz\r\n\" id=\"DejaVuSans-102\"/>\r\n     </defs>\r\n     <use xlink:href=\"#DejaVuSans-82\"/>\r\n     <use x=\"67.232422\" xlink:href=\"#DejaVuSans-97\"/>\r\n     <use x=\"128.511719\" xlink:href=\"#DejaVuSans-110\"/>\r\n     <use x=\"191.890625\" xlink:href=\"#DejaVuSans-100\"/>\r\n     <use x=\"255.367188\" xlink:href=\"#DejaVuSans-111\"/>\r\n     <use x=\"316.548828\" xlink:href=\"#DejaVuSans-109\"/>\r\n     <use x=\"413.960938\" xlink:href=\"#DejaVuSans-32\"/>\r\n     <use x=\"445.748047\" xlink:href=\"#DejaVuSans-70\"/>\r\n     <use x=\"499.642578\" xlink:href=\"#DejaVuSans-111\"/>\r\n     <use x=\"560.824219\" xlink:href=\"#DejaVuSans-114\"/>\r\n     <use x=\"599.6875\" xlink:href=\"#DejaVuSans-101\"/>\r\n     <use x=\"661.210938\" xlink:href=\"#DejaVuSans-115\"/>\r\n     <use x=\"713.310547\" xlink:href=\"#DejaVuSans-116\"/>\r\n     <use x=\"752.519531\" xlink:href=\"#DejaVuSans-32\"/>\r\n     <use x=\"784.306641\" xlink:href=\"#DejaVuSans-67\"/>\r\n     <use x=\"854.130859\" xlink:href=\"#DejaVuSans-108\"/>\r\n     <use x=\"881.914062\" xlink:href=\"#DejaVuSans-97\"/>\r\n     <use x=\"943.193359\" xlink:href=\"#DejaVuSans-115\"/>\r\n     <use x=\"995.292969\" xlink:href=\"#DejaVuSans-115\"/>\r\n     <use x=\"1047.392578\" xlink:href=\"#DejaVuSans-105\"/>\r\n     <use x=\"1075.175781\" xlink:href=\"#DejaVuSans-102\"/>\r\n     <use x=\"1110.380859\" xlink:href=\"#DejaVuSans-105\"/>\r\n     <use x=\"1138.164062\" xlink:href=\"#DejaVuSans-101\"/>\r\n     <use x=\"1199.6875\" xlink:href=\"#DejaVuSans-114\"/>\r\n     <use x=\"1240.800781\" xlink:href=\"#DejaVuSans-32\"/>\r\n     <use x=\"1272.587891\" xlink:href=\"#DejaVuSans-70\"/>\r\n     <use x=\"1330.107422\" xlink:href=\"#DejaVuSans-69\"/>\r\n     <use x=\"1393.291016\" xlink:href=\"#DejaVuSans-65\"/>\r\n     <use x=\"1453.949219\" xlink:href=\"#DejaVuSans-84\"/>\r\n     <use x=\"1515.033203\" xlink:href=\"#DejaVuSans-85\"/>\r\n     <use x=\"1588.226562\" xlink:href=\"#DejaVuSans-82\"/>\r\n     <use x=\"1657.708984\" xlink:href=\"#DejaVuSans-69\"/>\r\n     <use x=\"1720.892578\" xlink:href=\"#DejaVuSans-32\"/>\r\n     <use x=\"1752.679688\" xlink:href=\"#DejaVuSans-73\"/>\r\n     <use x=\"1782.171875\" xlink:href=\"#DejaVuSans-77\"/>\r\n     <use x=\"1868.451172\" xlink:href=\"#DejaVuSans-80\"/>\r\n     <use x=\"1928.753906\" xlink:href=\"#DejaVuSans-79\"/>\r\n     <use x=\"2007.464844\" xlink:href=\"#DejaVuSans-82\"/>\r\n     <use x=\"2069.697266\" xlink:href=\"#DejaVuSans-84\"/>\r\n     <use x=\"2123.03125\" xlink:href=\"#DejaVuSans-65\"/>\r\n     <use x=\"2191.439453\" xlink:href=\"#DejaVuSans-78\"/>\r\n     <use x=\"2266.244141\" xlink:href=\"#DejaVuSans-67\"/>\r\n     <use x=\"2336.068359\" xlink:href=\"#DejaVuSans-69\"/>\r\n    </g>\r\n   </g>\r\n  </g>\r\n </g>\r\n <defs>\r\n  <clipPath id=\"p949769c5bd\">\r\n   <rect height=\"434.88\" width=\"558\" x=\"118.2\" y=\"22.318125\"/>\r\n  </clipPath>\r\n </defs>\r\n</svg>\r\n",
      "image/png": "[encoded data removed]"
     },
     "metadata": {
      "needs_background": "light"
     }
    }
   ],
   "source": [
    "plot_feature_importance(rf_cmodel.feature_importances_,cols,'Random Forest Classifier')"
   ]
  },
  {
   "cell_type": "code",
   "execution_count": 63,
   "metadata": {},
   "outputs": [],
   "source": [
    "import pickle\n",
    "\n",
    "# save model to pickle file\n",
    "pickle.dump(xgb_cmodel, open(\"xgb_cmodel.pkl\", \"wb\"))"
   ]
  },
  {
   "cell_type": "code",
   "execution_count": 64,
   "metadata": {},
   "outputs": [],
   "source": [
    "pickle.dump(rf_cmodel, open(\"rf_cmodel.pkl\", \"wb\"))"
   ]
  }
 ],
 "metadata": {
  "interpreter": {
   "hash": "d3a9169e6a0826ab97b7fa6776a61c6dd096cb31175edea00c3476617da888fe"
  },
  "kernelspec": {
   "name": "python3",
   "display_name": "Python 3.8.5 64-bit ('base': conda)"
  },
  "language_info": {
   "codemirror_mode": {
    "name": "ipython",
    "version": 3
   },
   "file_extension": ".py",
   "mimetype": "text/x-python",
   "name": "python",
   "nbconvert_exporter": "python",
   "pygments_lexer": "ipython3",
   "version": "3.8.5"
  }
 },
 "nbformat": 4,
 "nbformat_minor": 2
}