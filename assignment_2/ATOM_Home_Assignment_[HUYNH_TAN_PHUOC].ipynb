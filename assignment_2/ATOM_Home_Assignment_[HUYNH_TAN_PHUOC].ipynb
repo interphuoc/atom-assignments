{
 "metadata": {
  "language_info": {
   "codemirror_mode": {
    "name": "ipython",
    "version": 3
   },
   "file_extension": ".py",
   "mimetype": "text/x-python",
   "name": "python",
   "nbconvert_exporter": "python",
   "pygments_lexer": "ipython3",
   "version": "3.8.5"
  },
  "orig_nbformat": 2,
  "kernelspec": {
   "name": "python385jvsc74a57bd0d3a9169e6a0826ab97b7fa6776a61c6dd096cb31175edea00c3476617da888fe",
   "display_name": "Python 3.8.5 64-bit (conda)"
  }
 },
 "nbformat": 4,
 "nbformat_minor": 2,
 "cells": [
  {
   "source": [
    "## TODO #1"
   ],
   "cell_type": "markdown",
   "metadata": {}
  },
  {
   "source": [
    "### 1. Thử un-comment bằng cách để dấu nháy chuột ở dòng print(json_data) và nhấn `Ctrl+/`. Sau đó, chạy lại."
   ],
   "cell_type": "markdown",
   "metadata": {}
  },
  {
   "cell_type": "code",
   "execution_count": 169,
   "metadata": {},
   "outputs": [],
   "source": [
    "import json\n",
    "with open('env_variable.json', 'r') as j:\n",
    "    json_data = json.load(j)\n",
    "    # print(json_data)"
   ]
  },
  {
   "source": [
    "### 2. Cấu trúc của `json_data` tương tự `dictionary`: thử gọi biến `SENDER_EMAIL` trong file json và `print`."
   ],
   "cell_type": "markdown",
   "metadata": {}
  },
  {
   "cell_type": "code",
   "execution_count": 5,
   "metadata": {},
   "outputs": [
    {
     "output_type": "stream",
     "name": "stdout",
     "text": [
      "huynhphuoc14111998@gmail.com\n"
     ]
    }
   ],
   "source": [
    "print(json_data['SENDER_EMAIL'])"
   ]
  },
  {
   "source": [
    "## TODO #2"
   ],
   "cell_type": "markdown",
   "metadata": {}
  },
  {
   "cell_type": "code",
   "execution_count": 28,
   "metadata": {},
   "outputs": [
    {
     "output_type": "stream",
     "name": "stdout",
     "text": [
      "DONE! Get Env. Variable\n"
     ]
    }
   ],
   "source": [
    "import os\n",
    "os.environ['SENDER_EMAIL'] = json_data['SENDER_EMAIL'] ## INPUT: Your Email\n",
    "os.environ['PWD_EMAIL'] = json_data['PWD_EMAIL'] ## INPUT: Your App Password\n",
    "os.environ['WEATHER_API_KEY'] = json_data['WEATHER_API_KEY'] ## INPUT: OpenWeather API Key\n",
    "print('DONE! Get Env. Variable')"
   ]
  },
  {
   "cell_type": "code",
   "execution_count": 13,
   "metadata": {},
   "outputs": [],
   "source": [
    "import email, smtplib, ssl # to automate email\n",
    "import email as mail\n",
    "from email import encoders\n",
    "from email.mime.base import MIMEBase\n",
    "from email.mime.multipart import MIMEMultipart\n",
    "from email.mime.text import MIMEText\n",
    "\n",
    "import requests, json # to pull API, and work with json\n",
    "import datetime as dt # to work with date, time\n",
    "from bs4 import BeautifulSoup # to work with web scrapping (HTML)\n",
    "import pandas as pd # to work with tables (DataFrames) data\n",
    "from IPython.core.display import HTML # to display HTML in the notebook"
   ]
  },
  {
   "source": [
    "### 1.   Từ Email Bot Code viết function `send_email`:\n",
    "  - **inputs**: subject, receiver_email, part1, part2, part3\n",
    "  - **output**: thực hiện việc gửi email và in ra kết quả"
   ],
   "cell_type": "markdown",
   "metadata": {}
  },
  {
   "cell_type": "code",
   "execution_count": 127,
   "metadata": {},
   "outputs": [
    {
     "output_type": "stream",
     "name": "stdout",
     "text": [
      "DONE! Mail Sent\n"
     ]
    }
   ],
   "source": [
    "# (1) def function send_email\n",
    "def send_email(receiver_email, subject, part1, part2, part3):\n",
    "    email.attach(part1)\n",
    "    email.attach(part2)\n",
    "    email.attach(part3)\n",
    "    session = smtplib.SMTP('smtp.gmail.com', 587) #use gmail with port\n",
    "    session.starttls() #enable security\n",
    "    session.login(sender_email, password) #login with mail_id and password\n",
    "    text = email.as_string()\n",
    "    (session.sendmail(sender_email, receiver_email, text))\n",
    "    session.quit()\n",
    "    print('DONE! Mail Sent'.format(sender_email,receiver_email))\n",
    "\n",
    "subject = \"Test Email\"\n",
    "receiver_email = input(\"Your email: \") #INPUT: email address to receive the email\n",
    "sender_email = os.environ['SENDER_EMAIL']\n",
    "password = os.environ['PWD_EMAIL'] \n",
    "\n",
    "# (2) Create the email head (sender, receiver, and subject)\n",
    "email = MIMEMultipart()\n",
    "email[\"From\"] = sender_email\n",
    "email[\"To\"] = receiver_email \n",
    "email[\"Subject\"] = subject\n",
    "\n",
    "# (3) Create Body part\n",
    "html1 = \"\"\"\n",
    "    <html>\n",
    "    <h1><strong>Hello World</strong></h1>\n",
    "    <body>\n",
    "    <p>Hi!<br>\n",
    "       How are you?<br>\n",
    "       Here is the <a href=\"https://docs.python.org/3.4/library/email-examples.html\">link</a> you wanted.\n",
    "    </p>\n",
    "    </body>\n",
    "    </html>\n",
    "    \"\"\"\n",
    "html2 = \"\"\"\n",
    "<html>\n",
    "Email sent at <b>{}</b><br>\n",
    "</html>\n",
    "\"\"\".format(dt.datetime.now().isoformat())\n",
    "\n",
    "text3 = '--- End ----'\n",
    "\n",
    "# Combine parts\n",
    "part1 = MIMEText(html1, 'html')\n",
    "part2 = MIMEText(html2, 'html')\n",
    "part3 = MIMEText(text3, 'plain')\n",
    "\n",
    "\n",
    "send_email(receiver_email, subject, part1, part2, part3)"
   ]
  },
  {
   "source": [
    "### 2. Kết hợp Loops (For ... in) với function để gửi cùng nội dung email đến 1 list user: `email_list = ['abc@gmail.com', 'xyz@gmail.com']` (thay đổi email bằng các email thật của bạn để test)"
   ],
   "cell_type": "markdown",
   "metadata": {}
  },
  {
   "cell_type": "code",
   "execution_count": 170,
   "metadata": {},
   "outputs": [
    {
     "output_type": "stream",
     "name": "stdout",
     "text": [
      "DONE! Mail Sent\n"
     ]
    }
   ],
   "source": [
    "subject = \"Test Email\"\n",
    "email_list = ['tanphuoc.huynh.lsc@gmail.com','phuoc14111998@gmail.com'] # Change receiver_email to list_user\n",
    "receiver_email = [i for i in email_list] # Recipients need to be a list\n",
    "sender_email = os.environ['SENDER_EMAIL']\n",
    "password = os.environ['PWD_EMAIL'] \n",
    "\n",
    "# (2) Create the email head (sender, receiver, and subject)\n",
    "email = MIMEMultipart()\n",
    "email[\"From\"] = sender_email\n",
    "email[\"Subject\"] = subject\n",
    "email[\"To\"] = ', '.join(receiver_email) # email[\"To\"] need to be a string\n",
    "\n",
    "# (3) Create Body part\n",
    "html1 = \"\"\"\n",
    "    <html>\n",
    "    <h1><strong>Hello World</strong></h1>\n",
    "    <body>\n",
    "    <p>Hi!<br>\n",
    "       How are you?<br>\n",
    "       Here is the <a href=\"https://docs.python.org/3.4/library/email-examples.html\">link</a> you wanted.\n",
    "    </p>\n",
    "    </body>\n",
    "    </html>\n",
    "    \"\"\"\n",
    "html2 = \"\"\"\n",
    "<html>\n",
    "Email sent at <b>{}</b><br>\n",
    "</html>\n",
    "\"\"\".format(dt.datetime.now().isoformat())\n",
    "\n",
    "text3 = '--- End ----'\n",
    "\n",
    "# Combine parts\n",
    "part1 = MIMEText(html1, 'html')\n",
    "part2 = MIMEText(html2, 'html')\n",
    "part3 = MIMEText(text3, 'plain')\n",
    "\n",
    "send_email(receiver_email, subject, part1, part2, part3)"
   ]
  },
  {
   "source": [
    "## TODO #3"
   ],
   "cell_type": "markdown",
   "metadata": {}
  },
  {
   "cell_type": "code",
   "execution_count": 60,
   "metadata": {},
   "outputs": [
    {
     "output_type": "stream",
     "name": "stdout",
     "text": [
      "DONE! Output in weather.txt file\n"
     ]
    }
   ],
   "source": [
    "# base URL\n",
    "BASE_URL = \"https://api.openweathermap.org/data/2.5/weather?\"\n",
    "# City Name \n",
    "CITY = \"London\"\n",
    "# API key \n",
    "API_KEY = os.environ['WEATHER_API_KEY']\n",
    "# upadting the URL\n",
    "URL = BASE_URL + \"q=\" + CITY + \"&appid=\" + API_KEY\n",
    "# HTTP request\n",
    "response = requests.get(URL)\n",
    "# checking the status code of the request\n",
    "if response.status_code == 200:\n",
    "   # getting data in the json format\n",
    "   data = response.json()\n",
    "   # getting the main dict block\n",
    "   main = data['main']\n",
    "   # getting temperature\n",
    "   temperature = main['temp']\n",
    "   # getting the humidity\n",
    "   humidity = main['humidity']\n",
    "   # getting the pressure\n",
    "   pressure = main['pressure']\n",
    "   # weather report\n",
    "   report = data['weather']\n",
    "   f = open('weather.txt','w') ## write to text file\n",
    "   print(f\"{CITY:-^30}\", file=f)\n",
    "   print(f\"Temperature: {temperature}\", file=f)\n",
    "   print(f\"Humidity: {humidity}\", file=f)\n",
    "   print(f\"Pressure: {pressure}\", file=f)\n",
    "   print(f\"Weather Report: {report[0]['description']}\", file=f)\n",
    "   f.close()\n",
    "   print(\"DONE! Output in weather.txt file\")\n",
    "else:\n",
    "   # showing the error message\n",
    "   print(\"Error in the HTTP request\")\n",
    "   print(response)"
   ]
  },
  {
   "cell_type": "code",
   "execution_count": 66,
   "metadata": {},
   "outputs": [
    {
     "output_type": "execute_result",
     "data": {
      "text/plain": [
       "{'coord': {'lon': -0.1257, 'lat': 51.5085},\n",
       " 'weather': [{'id': 804,\n",
       "   'main': 'Clouds',\n",
       "   'description': 'overcast clouds',\n",
       "   'icon': '04d'}],\n",
       " 'base': 'stations',\n",
       " 'main': {'temp': 288.88,\n",
       "  'feels_like': 287.76,\n",
       "  'temp_min': 286.87,\n",
       "  'temp_max': 289.98,\n",
       "  'pressure': 1008,\n",
       "  'humidity': 48},\n",
       " 'visibility': 10000,\n",
       " 'wind': {'speed': 0.89, 'deg': 222, 'gust': 5.36},\n",
       " 'clouds': {'all': 100},\n",
       " 'dt': 1620748024,\n",
       " 'sys': {'type': 2,\n",
       "  'id': 2019646,\n",
       "  'country': 'GB',\n",
       "  'sunrise': 1620706480,\n",
       "  'sunset': 1620761950},\n",
       " 'timezone': 3600,\n",
       " 'id': 2643743,\n",
       " 'name': 'London',\n",
       " 'cod': 200}"
      ]
     },
     "metadata": {},
     "execution_count": 66
    }
   ],
   "source": [
    "data"
   ]
  },
  {
   "source": [
    "### 1. Trên file json kết quả:\n",
    "  - Lấy thông tin trạng thái thời tiết (weather) chính (main) ở London\n",
    "  - Lấy lat & lon (kinh độ và vĩ độ của London)"
   ],
   "cell_type": "markdown",
   "metadata": {}
  },
  {
   "cell_type": "code",
   "execution_count": 70,
   "metadata": {},
   "outputs": [
    {
     "output_type": "execute_result",
     "data": {
      "text/plain": [
       "'Clouds'"
      ]
     },
     "metadata": {},
     "execution_count": 70
    }
   ],
   "source": [
    "data['weather'][0]['main']"
   ]
  },
  {
   "cell_type": "code",
   "execution_count": 77,
   "metadata": {},
   "outputs": [
    {
     "output_type": "execute_result",
     "data": {
      "text/plain": [
       "[-0.1257, 51.5085]"
      ]
     },
     "metadata": {},
     "execution_count": 77
    }
   ],
   "source": [
    "list(data['coord'].values())"
   ]
  },
  {
   "source": [
    "### 2. Viết function `get_weather_data` \n",
    "  - inputs: city\n",
    "  - outputs: đoạn text thông tin thời tiết"
   ],
   "cell_type": "markdown",
   "metadata": {}
  },
  {
   "cell_type": "code",
   "execution_count": 167,
   "metadata": {},
   "outputs": [
    {
     "output_type": "stream",
     "name": "stdout",
     "text": [
      "------------LONDON------------\n",
      "Temperature: 284.36\n",
      "Humidity: 79\n",
      "Pressure: 1010\n",
      "Weather Report: broken clouds\n",
      "\n",
      "------------Dalat-------------\n",
      "Temperature: 295.25\n",
      "Humidity: 70\n",
      "Pressure: 1009\n",
      "Weather Report: overcast clouds\n",
      "\n"
     ]
    }
   ],
   "source": [
    "def get_weather_data(city):\n",
    "    BASE_URL = \"https://api.openweathermap.org/data/2.5/weather?\"\n",
    "    API_KEY = os.environ['WEATHER_API_KEY']\n",
    "    URL = BASE_URL + \"q=\" + city + \"&appid=\" + API_KEY\n",
    "    response = requests.get(URL)\n",
    "    if response.status_code == 200:\n",
    "        data = response.json()\n",
    "        main = data['main']\n",
    "        temperature = main['temp']\n",
    "        humidity = main['humidity']\n",
    "        pressure = main['pressure']\n",
    "        report = data['weather']\n",
    "        f = open('weather.txt','w') ## write to text file\n",
    "        print(f\"{city:-^30}\", file=f)\n",
    "        print(f\"Temperature: {temperature}\", file=f)\n",
    "        print(f\"Humidity: {humidity}\", file=f)\n",
    "        print(f\"Pressure: {pressure}\", file=f)\n",
    "        print(f\"Weather Report: {report[0]['description']}\", file=f)\n",
    "        f.close()\n",
    "        # print(\"DONE! Output in weather.txt file\")\n",
    "    else:\n",
    "        # showing the error message\n",
    "        print(\"Error in the HTTP request\")\n",
    "        print(response)\n",
    "    return open(\"weather.txt\", \"r\").read()\n",
    "\n",
    "print(get_weather_data('LONDON'))\n",
    "print(get_weather_data('Dalat'))"
   ]
  },
  {
   "source": [
    "### 3. Dùng function `send_email` in **TODO #1**, thay phần 3 trong nội dung email bằng thông tin thời tiết của London gửi cho 1 địa chỉ email của bạn"
   ],
   "cell_type": "markdown",
   "metadata": {}
  },
  {
   "cell_type": "code",
   "execution_count": 138,
   "metadata": {},
   "outputs": [
    {
     "output_type": "stream",
     "name": "stdout",
     "text": [
      "DONE! Mail Sent\n"
     ]
    }
   ],
   "source": [
    "subject = \"Weather Email\"\n",
    "receiver_email = input(\"Your email: \") #INPUT: email address to receive the email\n",
    "sender_email = os.environ['SENDER_EMAIL']\n",
    "password = os.environ['PWD_EMAIL'] \n",
    "\n",
    "# (1) Create the email head (sender, receiver, and subject)\n",
    "email = MIMEMultipart()\n",
    "email[\"From\"] = sender_email\n",
    "email[\"To\"] = receiver_email \n",
    "email[\"Subject\"] = subject\n",
    "\n",
    "# (2) Create Body part\n",
    "html1 = \"\"\"\n",
    "    <html>\n",
    "    <h1><strong>Hello World</strong></h1>\n",
    "    <body>\n",
    "    <p>Hi!<br>\n",
    "       How are you?<br>\n",
    "       Here is the <a href=\"https://docs.python.org/3.4/library/email-examples.html\">link</a> you wanted.\n",
    "    </p>\n",
    "    </body>\n",
    "    </html>\n",
    "    \"\"\"\n",
    "html2 = \"\"\"\n",
    "<html>\n",
    "Email sent at <b>{}</b><br>\n",
    "</html>\n",
    "\"\"\".format(dt.datetime.now().isoformat())\n",
    "\n",
    "text3 = open(\"weather.txt\", \"r\").read()\n",
    "\n",
    "# Combine parts\n",
    "part1 = MIMEText(html1, 'html')\n",
    "part2 = MIMEText(html2, 'html')\n",
    "part3 = MIMEText(text3, 'plain')\n",
    "\n",
    "\n",
    "send_email(receiver_email, subject, part1, part2, part3)"
   ]
  },
  {
   "source": [
    "## TODO #4"
   ],
   "cell_type": "markdown",
   "metadata": {}
  },
  {
   "cell_type": "code",
   "execution_count": 139,
   "metadata": {},
   "outputs": [
    {
     "output_type": "stream",
     "name": "stdout",
     "text": [
      "API Status Code: 200\n",
      "COVID-19\n"
     ]
    }
   ],
   "source": [
    "response = requests.get(\n",
    "\turl=\"https://en.wikipedia.org/wiki/COVID-19\",\n",
    "  )\n",
    "print(\"API Status Code: \"+ str(response.status_code))\n",
    "soup = BeautifulSoup(response.content, 'html.parser')\n",
    "\n",
    "title = soup.find(id=\"firstHeading\")\n",
    "print(title.string)"
   ]
  },
  {
   "cell_type": "code",
   "execution_count": 140,
   "metadata": {},
   "outputs": [],
   "source": [
    "# Get all the links\n",
    "p = soup.find(id=\"bodyContent\").find_all(\"p\") # \"a\""
   ]
  },
  {
   "cell_type": "code",
   "execution_count": 146,
   "metadata": {},
   "outputs": [
    {
     "output_type": "execute_result",
     "data": {
      "text/plain": [
       "<IPython.core.display.HTML object>"
      ],
      "text/html": "<p><b>Coronavirus disease 2019</b> (<b>COVID-19</b>), also known as <b>the coronavirus</b>, or <b>COVID</b>, is a <a href=\"/wiki/Contagious_disease\" title=\"Contagious disease\">contagious disease</a> caused by <a href=\"/wiki/Severe_acute_respiratory_syndrome_coronavirus_2\" title=\"Severe acute respiratory syndrome coronavirus 2\">severe acute respiratory syndrome coronavirus 2</a> (SARS-CoV-2). The first known case was identified in <a href=\"/wiki/Wuhan\" title=\"Wuhan\">Wuhan</a>, China, in December <a href=\"/wiki/2019\" title=\"2019\">2019</a>.<sup class=\"reference\" id=\"cite_ref-WSJ-20210226_7-0\"><a href=\"#cite_note-WSJ-20210226-7\">[7]</a></sup> The disease has since spread worldwide, leading to an <a href=\"/wiki/COVID-19_pandemic\" title=\"COVID-19 pandemic\">ongoing pandemic</a>.<sup class=\"reference\" id=\"cite_ref-NYT-20210226_8-0\"><a href=\"#cite_note-NYT-20210226-8\">[8]</a></sup>\n</p>"
     },
     "metadata": {},
     "execution_count": 146
    }
   ],
   "source": [
    "from IPython.core.display import HTML\n",
    "HTML(str(p[3]))"
   ]
  },
  {
   "source": [
    "### 1. Dùng function `send_email` in Excercise 1.1, thay phần 3 trong nội dùng email bằng thông tin COVID-19 từ Wikipedia gửi cho 1 địa chỉ email của bạn"
   ],
   "cell_type": "markdown",
   "metadata": {}
  },
  {
   "cell_type": "code",
   "execution_count": 147,
   "metadata": {},
   "outputs": [
    {
     "output_type": "stream",
     "name": "stdout",
     "text": [
      "DONE! Mail Sent\n"
     ]
    }
   ],
   "source": [
    "subject = \"Covid Email\"\n",
    "receiver_email = input(\"Your email: \") #INPUT: email address to receive the email\n",
    "sender_email = os.environ['SENDER_EMAIL']\n",
    "password = os.environ['PWD_EMAIL'] \n",
    "\n",
    "# (1) Create the email head (sender, receiver, and subject)\n",
    "email = MIMEMultipart()\n",
    "email[\"From\"] = sender_email\n",
    "email[\"To\"] = receiver_email \n",
    "email[\"Subject\"] = subject\n",
    "\n",
    "# (2) Create Body part\n",
    "html1 = \"\"\"\n",
    "    <html>\n",
    "    <h1><strong>Hello World</strong></h1>\n",
    "    <body>\n",
    "    <p>Hi!<br>\n",
    "       How are you?<br>\n",
    "       Here is the <a href=\"https://docs.python.org/3.4/library/email-examples.html\">link</a> you wanted.\n",
    "    </p>\n",
    "    </body>\n",
    "    </html>\n",
    "    \"\"\"\n",
    "html2 = \"\"\"\n",
    "<html>\n",
    "Email sent at <b>{}</b><br>\n",
    "</html>\n",
    "\"\"\".format(dt.datetime.now().isoformat())\n",
    "\n",
    "html3 = str(p[3])\n",
    "\n",
    "# Combine parts\n",
    "part1 = MIMEText(html1, 'html')\n",
    "part2 = MIMEText(html2, 'html')\n",
    "part3 = MIMEText(html3, 'html')\n",
    "\n",
    "send_email(receiver_email, subject, part1, part2, part3)"
   ]
  },
  {
   "source": [
    "## TODO #5"
   ],
   "cell_type": "markdown",
   "metadata": {}
  },
  {
   "source": [
    "* Add các địa chỉ email có ý nghĩa, và thêm dòng vào file csv (lưu ý không có dấu cách)"
   ],
   "cell_type": "markdown",
   "metadata": {}
  },
  {
   "cell_type": "code",
   "execution_count": 150,
   "metadata": {},
   "outputs": [],
   "source": [
    "csv = \"\"\"email,contents,city\n",
    "abc@gmail.com,News,Hanoi\n",
    "xyz@gmail.com,Weather,London\n",
    "phuoc14111998@gmail.com,News,Hochiminh\n",
    "tanphuoc.huynh.lsc@gmail.com,Weather,Dalat\n",
    "\"\"\"\n",
    "f = open('email_list.csv','w') ## write to text file\n",
    "f.write(csv)\n",
    "f.close()"
   ]
  },
  {
   "cell_type": "code",
   "execution_count": 151,
   "metadata": {},
   "outputs": [
    {
     "output_type": "execute_result",
     "data": {
      "text/plain": [
       "                          email contents       city\n",
       "0                 abc@gmail.com     News      Hanoi\n",
       "1                 xyz@gmail.com  Weather     London\n",
       "2       phuoc14111998@gmail.com     News  Hochiminh\n",
       "3  tanphuoc.huynh.lsc@gmail.com  Weather      Dalat"
      ],
      "text/html": "<div>\n<style scoped>\n    .dataframe tbody tr th:only-of-type {\n        vertical-align: middle;\n    }\n\n    .dataframe tbody tr th {\n        vertical-align: top;\n    }\n\n    .dataframe thead th {\n        text-align: right;\n    }\n</style>\n<table border=\"1\" class=\"dataframe\">\n  <thead>\n    <tr style=\"text-align: right;\">\n      <th></th>\n      <th>email</th>\n      <th>contents</th>\n      <th>city</th>\n    </tr>\n  </thead>\n  <tbody>\n    <tr>\n      <th>0</th>\n      <td>abc@gmail.com</td>\n      <td>News</td>\n      <td>Hanoi</td>\n    </tr>\n    <tr>\n      <th>1</th>\n      <td>xyz@gmail.com</td>\n      <td>Weather</td>\n      <td>London</td>\n    </tr>\n    <tr>\n      <th>2</th>\n      <td>phuoc14111998@gmail.com</td>\n      <td>News</td>\n      <td>Hochiminh</td>\n    </tr>\n    <tr>\n      <th>3</th>\n      <td>tanphuoc.huynh.lsc@gmail.com</td>\n      <td>Weather</td>\n      <td>Dalat</td>\n    </tr>\n  </tbody>\n</table>\n</div>"
     },
     "metadata": {},
     "execution_count": 151
    }
   ],
   "source": [
    "import pandas as pd\n",
    "email_list = pd.read_csv('email_list.csv')\n",
    "email_list"
   ]
  },
  {
   "source": [
    "* Dùng code để gửi email cho một list từ csv:\n",
    "  - Nếu email có contents = 'News' => Gửi thông tin COVID19\n",
    "  - Nếu email có contents = 'Weather' => Gửi thông tin thời tiết theo thành phố trong cột city (lưu ý check các city được hỗ trợ trong API)"
   ],
   "cell_type": "markdown",
   "metadata": {}
  },
  {
   "cell_type": "code",
   "execution_count": 168,
   "metadata": {},
   "outputs": [
    {
     "output_type": "stream",
     "name": "stdout",
     "text": [
      "Email #0\n",
      "COVID To: abc@gmail.com\n",
      "DONE! Mail Sent\n",
      "Email #1\n",
      "Weather To: xyz@gmail.com\n",
      "DONE! Mail Sent\n",
      "Email #2\n",
      "COVID To: phuoc14111998@gmail.com\n",
      "DONE! Mail Sent\n",
      "Email #3\n",
      "Weather To: tanphuoc.huynh.lsc@gmail.com\n",
      "DONE! Mail Sent\n",
      "DONE!\n"
     ]
    }
   ],
   "source": [
    "for i in list(range(4)):\n",
    "  print('Email #{}'.format(i))\n",
    "  if email_list['contents'][i] == 'News':\n",
    "    print('COVID To: {}'.format(email_list['email'][i]))\n",
    "    subject = \"Covid Email\"\n",
    "    receiver_email = email_list['email'][i]\n",
    "    sender_email = os.environ['SENDER_EMAIL']\n",
    "    password = os.environ['PWD_EMAIL'] \n",
    "    # (1) Create the email head (sender, receiver, and subject)\n",
    "    email = MIMEMultipart()\n",
    "    email[\"From\"] = sender_email\n",
    "    email[\"To\"] = receiver_email\n",
    "    email[\"Subject\"] = subject\n",
    "    # (2) Create Body part\n",
    "    html1 = \"\"\"\n",
    "        <html>\n",
    "        <h1><strong>Hello World</strong></h1>\n",
    "        <body>\n",
    "        <p>Hi!<br>\n",
    "            How are you?<br>\n",
    "            Here is the <a href=\"https://docs.python.org/3.4/library/email-examples.html\">link</a> you wanted.\n",
    "        </p>\n",
    "        </body>\n",
    "        </html>\n",
    "        \"\"\"\n",
    "    html2 = \"\"\"\n",
    "    <html>\n",
    "    Email sent at <b>{}</b><br>\n",
    "    </html>\n",
    "    \"\"\".format(dt.datetime.now().isoformat())\n",
    "\n",
    "    html3 = str(p[3])\n",
    "    # Combine parts\n",
    "    part1 = MIMEText(html1, 'html')\n",
    "    part2 = MIMEText(html2, 'html')\n",
    "    part3 = MIMEText(html3, 'html')\n",
    "\n",
    "    send_email(receiver_email, subject, part1, part2, part3)\n",
    "  elif email_list['contents'][i] == 'Weather':\n",
    "    print('Weather To: {}'.format(email_list['email'][i]))\n",
    "    subject = \"Weather Email\"\n",
    "    receiver_email = email_list['email'][i]\n",
    "    sender_email = os.environ['SENDER_EMAIL']\n",
    "    password = os.environ['PWD_EMAIL'] \n",
    "\n",
    "    # (1) Create the email head (sender, receiver, and subject)\n",
    "    email = MIMEMultipart()\n",
    "    email[\"From\"] = sender_email\n",
    "    email[\"To\"] = receiver_email\n",
    "    email[\"Subject\"] = subject\n",
    "\n",
    "    # (2) Create Body part\n",
    "    html1 = \"\"\"\n",
    "        <html>\n",
    "        <h1><strong>Hello World</strong></h1>\n",
    "        <body>\n",
    "        <p>Hi!<br>\n",
    "            How are you?<br>\n",
    "            Here is the <a href=\"https://docs.python.org/3.4/library/email-examples.html\">link</a> you wanted.\n",
    "        </p>\n",
    "        </body>\n",
    "        </html>\n",
    "        \"\"\"\n",
    "    html2 = \"\"\"\n",
    "    <html>\n",
    "    Email sent at <b>{}</b><br>\n",
    "    </html>\n",
    "    \"\"\".format(dt.datetime.now().isoformat())\n",
    "\n",
    "    text3 = get_weather_data(email_list['city'][i])\n",
    "\n",
    "    # Combine parts\n",
    "    part1 = MIMEText(html1, 'html')\n",
    "    part2 = MIMEText(html2, 'html')\n",
    "    part3 = MIMEText(text3, 'plain')\n",
    "\n",
    "\n",
    "    send_email(receiver_email, subject, part1, part2, part3)\n",
    "  else:\n",
    "    print('Invalid Contents')\n",
    "print('DONE!')"
   ]
  }
 ]
}