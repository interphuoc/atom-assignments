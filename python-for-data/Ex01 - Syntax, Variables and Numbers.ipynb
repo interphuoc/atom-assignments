{
 "cells": [
  {
   "cell_type": "markdown",
   "metadata": {
    "_uuid": "6f776c0a7a1b5f5dff182fe32e0da17a2936220c"
   },
   "source": [
    "# Exercise 01 - Syntax, Variables and Numbers"
   ]
  },
  {
   "cell_type": "code",
   "execution_count": null,
   "metadata": {
    "_uuid": "1aca02cda819d5263cd81f4bbcfa2aaf8dc138d2"
   },
   "outputs": [],
   "source": [
    "print(\"You've successfully run some Python code\")\n",
    "print(\"Congratulations!\")"
   ]
  },
  {
   "cell_type": "markdown",
   "metadata": {
    "_uuid": "4cea9061fa5c20161f2c8c46dbd1a184512317e8"
   },
   "source": [
    "## 0. Creating a Variable\n",
    "\n",
    "**What is your favorite color? **\n",
    "\n",
    "To complete this question, create a variable called `color` in the cell below with an appropriate `string` value."
   ]
  },
  {
   "cell_type": "code",
   "execution_count": null,
   "metadata": {
    "_uuid": "ecfae4ce4c4494d4e1073da6f536f9295775ae77"
   },
   "outputs": [],
   "source": [
    "# Create a variable called color with an appropriate value on the line below\n",
    "color = \"blue\""
   ]
  },
  {
   "cell_type": "markdown",
   "metadata": {
    "_uuid": "ebf3dd970265223ba1c5ae0c09f57a57451c8635"
   },
   "source": [
    "<hr/>\n",
    "\n",
    "## 1. Simple Arithmetic Operation\n"
   ]
  },
  {
   "cell_type": "code",
   "execution_count": 5,
   "metadata": {
    "_uuid": "1aeec7bf0a7813aa00f8bc5587a3205dcc631f04"
   },
   "outputs": [
    {
     "output_type": "stream",
     "name": "stdout",
     "text": [
      "7.0685775\n"
     ]
    }
   ],
   "source": [
    "pi = 3.14159 # approximate\n",
    "diameter = 3\n",
    "\n",
    "# Create a variable called 'radius' equal to half the diameter\n",
    "radius = diameter / 2\n",
    "# Create a variable called 'area', using the formula for the area of a circle: pi times the radius squared\n",
    "area = pi * radius**2\n",
    "print(area)"
   ]
  },
  {
   "cell_type": "markdown",
   "metadata": {
    "_uuid": "cbeff112768642501fb0c3620228fefd18fd2757"
   },
   "source": [
    "## 2. Variable Reassignment\n",
    "\n",
    "Add code to the following cell to swap variables `a` and `b` (so that `a` refers to the object previously referred to by `b` and vice versa)."
   ]
  },
  {
   "cell_type": "code",
   "execution_count": 6,
   "metadata": {
    "_uuid": "8aba488a5eff621ab69d89eab68d89aeecccd9e5"
   },
   "outputs": [
    {
     "output_type": "stream",
     "name": "stdout",
     "text": [
      "[3, 2, 1]\n[1, 2, 3]\n"
     ]
    }
   ],
   "source": [
    "# If you're curious, these are examples of lists. We'll talk about \n",
    "# them in depth a few lessons from now. For now, just know that they're\n",
    "# yet another type of Python object, like int or float.\n",
    "a = [1, 2, 3]\n",
    "b = [3, 2, 1]\n",
    "# Your code goes here. Swap the values to which a and b refer.\n",
    "# Hint: Try using a third variable\n",
    "c = a\n",
    "a = b\n",
    "b = c\n",
    "print(a)\n",
    "print(b)"
   ]
  },
  {
   "cell_type": "markdown",
   "metadata": {
    "_uuid": "afe12df4d86734e4ed08d112a18a0b71fd323d30"
   },
   "source": [
    "## 3. Order of Operations\n",
    "\n",
    "\n",
    "a) Add parentheses to the following expression so that it evaluates to 1."
   ]
  },
  {
   "cell_type": "code",
   "execution_count": 7,
   "metadata": {
    "_uuid": "1e3cb6016456b82066cd39b0fd71257c4d127d07"
   },
   "outputs": [
    {
     "output_type": "execute_result",
     "data": {
      "text/plain": [
       "1"
      ]
     },
     "metadata": {},
     "execution_count": 7
    }
   ],
   "source": [
    "(5 - 3) // 2"
   ]
  },
  {
   "cell_type": "markdown",
   "metadata": {
    "_uuid": "ab6535061e07d0b8bfcdbb9f7883a691078bab22"
   },
   "source": [
    "<small>Questions, like this one, marked a spicy pepper are a bit harder. Don't feel bad if you can't get these.</small>\n",
    "\n",
    "b) <span title=\"A bit spicy\" style=\"color: darkgreen \">🌶️</span> Add parentheses to the following expression so that it evaluates to **0**."
   ]
  },
  {
   "cell_type": "code",
   "execution_count": 8,
   "metadata": {
    "_uuid": "e1dd7d9dd544f6e29f27379f8077170f0aa31a7c"
   },
   "outputs": [
    {
     "output_type": "execute_result",
     "data": {
      "text/plain": [
       "0"
      ]
     },
     "metadata": {},
     "execution_count": 8
    }
   ],
   "source": [
    "(8 - 3) * (2 - (1 + 1))"
   ]
  },
  {
   "cell_type": "markdown",
   "metadata": {
    "_uuid": "5ad71f1a4cdcaa3d18f5401503010076088ed1aa"
   },
   "source": [
    "## 4. Your Turn\n",
    "Alice, Bob and Carol have agreed to pool their Halloween candies and split it evenly among themselves.\n",
    "For the sake of their friendship, any candies left over will be smashed. For example, if they collectively\n",
    "bring home 91 candies, they'll take 30 each and smash 1.\n",
    "\n",
    "Write an arithmetic expression below to calculate how many candies they must smash for a given haul.\n",
    "\n",
    "> *Hint*: You'll probably want to use the modulo operator, `%`, to obtain the remainder of division."
   ]
  },
  {
   "cell_type": "code",
   "execution_count": 9,
   "metadata": {
    "_uuid": "01ed33d051d37c136ca53d7203fc350c4c1229db"
   },
   "outputs": [
    {
     "output_type": "stream",
     "name": "stdout",
     "text": [
      "1\n"
     ]
    }
   ],
   "source": [
    "# Variables representing the number of candies collected by Alice, Bob, and Carol\n",
    "alice_candies = 121\n",
    "bob_candies = 77\n",
    "carol_candies = 109\n",
    "\n",
    "to_smash = (alice_candies + bob_candies + carol_candies) % 3\n",
    "print(to_smash)"
   ]
  }
 ],
 "metadata": {
  "kernelspec": {
   "name": "python385jvsc74a57bd0d3a9169e6a0826ab97b7fa6776a61c6dd096cb31175edea00c3476617da888fe",
   "display_name": "Python 3.8.5 64-bit ('base': conda)"
  },
  "language_info": {
   "codemirror_mode": {
    "name": "ipython",
    "version": 3
   },
   "file_extension": ".py",
   "mimetype": "text/x-python",
   "name": "python",
   "nbconvert_exporter": "python",
   "pygments_lexer": "ipython3",
   "version": "3.8.5"
  },
  "learntools_metadata": {
   "lesson_index": 0,
   "type": "exercise"
  }
 },
 "nbformat": 4,
 "nbformat_minor": 1
}