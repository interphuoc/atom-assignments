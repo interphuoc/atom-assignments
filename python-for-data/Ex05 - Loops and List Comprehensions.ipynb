{
 "cells": [
  {
   "cell_type": "markdown",
   "metadata": {
    "_uuid": "b2602a05cf2d20af168afaa982545b38dbf19e2b"
   },
   "source": [
    "# Exercises 05 - Loops and List Comprehensions"
   ]
  },
  {
   "cell_type": "markdown",
   "metadata": {
    "_uuid": "39cbbb078ea28f9ce28003e88abd1e33c0130a59"
   },
   "source": [
    "## 1. Taste the Bug\n",
    "\n",
    "Have you ever felt debugging involved a bit of luck? The following program has a bug. Try to identify the bug and fix it."
   ]
  },
  {
   "cell_type": "code",
   "execution_count": 9,
   "metadata": {
    "_uuid": "80dbc6c5838c3b6ec757982a9d9f10d2d4cbf091",
    "collapsed": true
   },
   "outputs": [
    {
     "output_type": "stream",
     "name": "stdout",
     "text": [
      "False\nFalse\n"
     ]
    }
   ],
   "source": [
    "def has_lucky_number(nums):\n",
    "    \"\"\"Return whether the given list of numbers is lucky. A lucky list contains\n",
    "    at least one number divisible by 7.\n",
    "    \"\"\"\n",
    "    for num in nums:\n",
    "        if num % 7 == 0:\n",
    "            return True\n",
    "        else:\n",
    "            return False\n",
    "print(has_lucky_number([1, 2, 7]))\n",
    "print(has_lucky_number([1, 2, 3]))"
   ]
  },
  {
   "source": [
    "Fix:"
   ],
   "cell_type": "markdown",
   "metadata": {}
  },
  {
   "cell_type": "code",
   "execution_count": 10,
   "metadata": {},
   "outputs": [
    {
     "output_type": "stream",
     "name": "stdout",
     "text": [
      "True\nFalse\n"
     ]
    }
   ],
   "source": [
    "def has_lucky_number(nums):\n",
    "    for num in nums:\n",
    "        if num % 7 == 0:\n",
    "            return True\n",
    "    return False\n",
    "print(has_lucky_number([1, 2, 7]))\n",
    "print(has_lucky_number([1, 2, 3]))"
   ]
  },
  {
   "cell_type": "markdown",
   "metadata": {
    "_uuid": "66500079b6794826dcdb900fafcb8eef2337e567"
   },
   "source": [
    "## 2. Upgrade the List\n",
    "\n",
    "### a. Guess the Error\n",
    "Look at the Python expression below. What do you think we'll get when we run it? When you've made your prediction, uncomment the code and run the cell to see if you were right."
   ]
  },
  {
   "cell_type": "code",
   "execution_count": 11,
   "metadata": {
    "_uuid": "fa0dc6517349473813e673fdc03ed8c4c055b840"
   },
   "outputs": [
    {
     "output_type": "error",
     "ename": "TypeError",
     "evalue": "'>' not supported between instances of 'list' and 'int'",
     "traceback": [
      "\u001b[1;31m---------------------------------------------------------------------------\u001b[0m",
      "\u001b[1;31mTypeError\u001b[0m                                 Traceback (most recent call last)",
      "\u001b[1;32m<ipython-input-11-6f064fcfe2b9>\u001b[0m in \u001b[0;36m<module>\u001b[1;34m\u001b[0m\n\u001b[1;32m----> 1\u001b[1;33m \u001b[1;33m[\u001b[0m\u001b[1;36m1\u001b[0m\u001b[1;33m,\u001b[0m \u001b[1;36m2\u001b[0m\u001b[1;33m,\u001b[0m \u001b[1;36m3\u001b[0m\u001b[1;33m,\u001b[0m \u001b[1;36m4\u001b[0m\u001b[1;33m]\u001b[0m \u001b[1;33m>\u001b[0m \u001b[1;36m2\u001b[0m\u001b[1;33m\u001b[0m\u001b[1;33m\u001b[0m\u001b[0m\n\u001b[0m",
      "\u001b[1;31mTypeError\u001b[0m: '>' not supported between instances of 'list' and 'int'"
     ]
    }
   ],
   "source": [
    "[1, 2, 3, 4] > 2"
   ]
  },
  {
   "cell_type": "markdown",
   "metadata": {
    "_uuid": "ba09a6cf59b560790ad1c47108fde12095ce94c8"
   },
   "source": [
    "### b. Upgrade the List\n",
    "R and Python have some libraries (like Numpy and Pandas) compare each element of the list to 2 (i.e. do an 'element-wise' comparison) and give us a list of booleans like `[False, False, True, True]`. \n",
    "\n",
    "Implement a function that reproduces this behaviour, returning a list of booleans corresponding to whether the corresponding element is greater than n.\n"
   ]
  },
  {
   "cell_type": "code",
   "execution_count": 13,
   "metadata": {
    "_uuid": "9c7f806cb1d832e7162975ab3fd892d90c9de62e",
    "collapsed": true
   },
   "outputs": [
    {
     "output_type": "stream",
     "name": "stdout",
     "text": [
      "[False, False, True, True]\n"
     ]
    }
   ],
   "source": [
    "def elementwise_greater_than(L, thresh):\n",
    "    \"\"\"Return a list with the same length as L, where the value at index i is \n",
    "    True if L[i] is greater than thresh, and False otherwise.\n",
    "    \n",
    "    >>> elementwise_greater_than([1, 2, 3, 4], 2)\n",
    "    [False, False, True, True]\n",
    "    \"\"\"\n",
    "    a = []\n",
    "    for i in L:\n",
    "        a.append(i > thresh)\n",
    "    return a\n",
    "print(elementwise_greater_than([1, 2, 3, 4], 2))"
   ]
  },
  {
   "cell_type": "markdown",
   "metadata": {
    "_uuid": "ec3742d0eae13ae6e656ef68f1d228d2098cad93"
   },
   "source": [
    "## 3. Boring Menu\n",
    "\n",
    "Complete the body of the function below according to its docstring.\n",
    "\n",
    "*Hint*: This is a case where it may be preferable to iterate over the indices of the list (using a call to `range()`) rather than iterating over the elements of the list itself. "
   ]
  },
  {
   "cell_type": "code",
   "execution_count": 18,
   "metadata": {
    "_uuid": "ae16b8cbde7f920ecd36a2c9d69965933b3fe1f7"
   },
   "outputs": [
    {
     "output_type": "stream",
     "name": "stdout",
     "text": [
      "True\nFalse\n"
     ]
    }
   ],
   "source": [
    "def menu_is_boring(meals):\n",
    "    \"\"\"Given a list of meals served over some period of time, return True if the\n",
    "    same meal has ever been served two days in a row, and False otherwise.\n",
    "    \"\"\"\n",
    "    for i in range(len(meals)-1):\n",
    "        if meals[i] == meals[i+1]:\n",
    "            return True\n",
    "    return False\n",
    "print(menu_is_boring([\"A\", \"B\", \"B\", \"C\"]))\n",
    "print(menu_is_boring([\"A\", \"B\", \"C\", \"D\"]))"
   ]
  },
  {
   "cell_type": "markdown",
   "metadata": {
    "_uuid": "12707cf184da3d75666bf4adfd4c54602fe5e11c"
   },
   "source": [
    "# Keep Going"
   ]
  }
 ],
 "metadata": {
  "kernelspec": {
   "name": "python385jvsc74a57bd0d3a9169e6a0826ab97b7fa6776a61c6dd096cb31175edea00c3476617da888fe",
   "display_name": "Python 3.8.5 64-bit ('base': conda)"
  },
  "language_info": {
   "codemirror_mode": {
    "name": "ipython",
    "version": 3
   },
   "file_extension": ".py",
   "mimetype": "text/x-python",
   "name": "python",
   "nbconvert_exporter": "python",
   "pygments_lexer": "ipython3",
   "version": "3.8.5"
  },
  "learntools_metadata": {
   "lesson_index": 4,
   "type": "exercise"
  }
 },
 "nbformat": 4,
 "nbformat_minor": 1
}