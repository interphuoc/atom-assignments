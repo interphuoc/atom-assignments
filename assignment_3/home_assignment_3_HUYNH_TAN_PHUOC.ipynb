{
  "nbformat": 4,
  "nbformat_minor": 0,
  "metadata": {
    "colab": {
      "name": "home_assignment_3.ipynb",
      "provenance": [],
      "collapsed_sections": [],
      "toc_visible": true
    },
    "kernelspec": {
      "name": "python385jvsc74a57bd0d3a9169e6a0826ab97b7fa6776a61c6dd096cb31175edea00c3476617da888fe",
      "display_name": "Python 3.8.5 64-bit ('base': conda)"
    },
    "language_info": {
      "name": "python",
      "version": "3.8.5"
    }
  },
  "cells": [
    {
      "cell_type": "markdown",
      "metadata": {
        "id": "4w2e0D-hni2p"
      },
      "source": [
        "# HOME ASSIGNMENT #3: SLACK API - TO GSHEET\n",
        "**Mục đích của bài Assignment**\n",
        "- Lấy thông tin các Users từ Slack của DataCracy (BTC, Mentors và Learners)\n",
        "- `**[Optional 1]**` Đưa danh sách Users lên Google Spreadsheet, để theo dõi \n",
        "- `**[Optional 2]**` Lấy thông tin Assignment Submission và số Reviews trên `#atom-assignmentnt2` và cập nhật lên Spreadsheet, để theo dõi các học viên đã nộp bài và được review\n",
        "\n",
        "**Các kiến thức sẽ áp dụng**\n",
        "- Ôn lại và luyện tập thêm về concept API (cụ thể sử dụng API Slack)\n",
        "- Trích xuất thông tin từ JSON\n",
        "- Dùng module gspread để đưa thông tin lên Google Spreadsheet"
      ]
    },
    {
      "cell_type": "markdown",
      "metadata": {
        "id": "yitICPVzpRI2"
      },
      "source": [
        "## 0. Load Modules"
      ]
    },
    {
      "cell_type": "code",
      "metadata": {
        "id": "G_HCucZ5rSHq"
      },
      "source": [
        "import requests #-> Để gọi API\n",
        "import re #-> Để xử lý data dạng string\n",
        "from datetime import datetime as dt #-> Để xử lý data dạng datetime\n",
        "import gspread #-> Để update data lên Google Spreadsheet\n",
        "from gspread_dataframe import set_with_dataframe #-> Để update data lên Google Spreadsheet\n",
        "import pandas as pd #-> Để update data dạng bản\n",
        "import json \n",
        "from oauth2client.service_account import ServiceAccountCredentials #-> Để nhập Google Spreadsheet Credentials\n",
        "import os"
      ],
      "execution_count": 3,
      "outputs": []
    },
    {
      "cell_type": "markdown",
      "metadata": {
        "id": "z7HOk6uMp2K2"
      },
      "source": [
        "## 1. Slack API: User List\n",
        "* Bạn có thể đọc lại về concept API [HERE](https://anhdang.gitbook.io/datacracy/atom/3-data-tools-2/3.2-spotify-api-and-postman)\n",
        "* Assignment này sẽ dùng Slack API để lấy thông tin về Learners và theo dõi các bài tập đã nộp và được review (sau đó cập nhật lên Google Spreadsheet)\n",
        "* ===> **NOTICE**: Slack API authorize bằng Bearer Token `xoxb-...-...-...` (Sẽ được cung cấp riêng)\n",
        "* Update file `env_variable.json` như trong [Assignment#2](../assignment_2/home_assignment_2.ipynb)\n",
        "* ==> Nếu bạn dùng Google Colab, upload file vào Colab ([Hướng dẫn](https://colab.research.google.com/notebooks/io.ipynb))"
      ]
    },
    {
      "cell_type": "code",
      "metadata": {
        "colab": {
          "base_uri": "https://localhost:8080/"
        },
        "id": "YoSEHfdTwYRj",
        "outputId": "2d55eeab-14a2-4b15-99eb-fef54a90c335"
      },
      "source": [
        "!ls"
      ],
      "execution_count": 4,
      "outputs": [
        {
          "output_type": "stream",
          "text": [
            "json  sample_data\n"
          ],
          "name": "stdout"
        }
      ]
    },
    {
      "cell_type": "code",
      "metadata": {
        "id": "tFPqT2pirhy4"
      },
      "source": [
        "with open('/content/json/env_variable.json', 'r') as j:\n",
        "    json_data = json.load(j)\n",
        "    # print(json_data)"
      ],
      "execution_count": 5,
      "outputs": []
    },
    {
      "cell_type": "code",
      "metadata": {
        "id": "wAzmaVTLrpvH"
      },
      "source": [
        "## Load SLACK_BEARER_TOKEN\n",
        "os.environ['SLACK_BEARER_TOKEN'] = json_data['SLACK_BEARER_TOKEN'] "
      ],
      "execution_count": 6,
      "outputs": []
    },
    {
      "cell_type": "code",
      "metadata": {
        "id": "K_TrDTx138jD"
      },
      "source": [
        "## Gọi API từ Endpoints (Input - Token được đưa vào Headers)\n",
        "## Challenge: Thử gọi API này bằng Postman\n",
        "endpoint = \"https://slack.com/api/users.list\"\n",
        "headers = {\"Authorization\": \"Bearer {}\".format(os.environ['SLACK_BEARER_TOKEN'])}\n",
        "response_json = requests.post(endpoint, headers=headers).json() \n",
        "user_dat = response_json['members']"
      ],
      "execution_count": 7,
      "outputs": []
    },
    {
      "cell_type": "markdown",
      "metadata": {
        "id": "rqEti4Y50tdB"
      },
      "source": [
        "### TODO #1\n",
        "Hoàn tất đoạn code sau"
      ]
    },
    {
      "cell_type": "code",
      "metadata": {
        "id": "P0qbkdhtD9ww"
      },
      "source": [
        "## Loop qua JSON file và extract các thông tin quan trọng (id, name, display_name, real_name_normalized, title, phone, is_bot)\n",
        "## Hint: Bạn có thể dùng Postman hoặc in user_dat JSON để xem cấu trúc (schema), dùng Ctrl+F để tìm các keys (id, name, display_name, real_name_normalized, title, phone, is_bot)\n",
        "user_dict = {'user_id':[], 'name':[], 'display_name':[],'real_name':[],'title':[],'phone':[],'is_bot':[]}\n",
        "for i in range(len(user_dat)):\n",
        "  user_dict['user_id'].append(user_dat[i]['id'])\n",
        "  user_dict['name'].append(user_dat[i]['name'])\n",
        "  user_dict['display_name'].append(user_dat[i]['profile']['display_name'])\n",
        "  user_dict['real_name'].append(user_dat[i]['profile']['real_name_normalized'])\n",
        "  user_dict['title'].append(user_dat[i]['profile']['title'])\n",
        "  user_dict['phone'].append(user_dat[i]['profile']['phone'])\n",
        "  user_dict['is_bot'].append(user_dat[i]['is_bot'])"
      ],
      "execution_count": 8,
      "outputs": []
    },
    {
      "cell_type": "code",
      "metadata": {
        "colab": {
          "base_uri": "https://localhost:8080/",
          "height": 195
        },
        "id": "yGNvsCauF8_w",
        "outputId": "48ee1287-206f-411b-836b-cd086790a7f6"
      },
      "source": [
        "user_df = pd.DataFrame(user_dict) ## Dùng pandas để convert dictionaries thành bảng\n",
        "user_df.head(5) ## Chỉ in 5 dòng đầu (chủ yếu để xem cấu trúc)"
      ],
      "execution_count": 9,
      "outputs": [
        {
          "output_type": "execute_result",
          "data": {
            "text/html": [
              "<div>\n",
              "<style scoped>\n",
              "    .dataframe tbody tr th:only-of-type {\n",
              "        vertical-align: middle;\n",
              "    }\n",
              "\n",
              "    .dataframe tbody tr th {\n",
              "        vertical-align: top;\n",
              "    }\n",
              "\n",
              "    .dataframe thead th {\n",
              "        text-align: right;\n",
              "    }\n",
              "</style>\n",
              "<table border=\"1\" class=\"dataframe\">\n",
              "  <thead>\n",
              "    <tr style=\"text-align: right;\">\n",
              "      <th></th>\n",
              "      <th>user_id</th>\n",
              "      <th>name</th>\n",
              "      <th>display_name</th>\n",
              "      <th>real_name</th>\n",
              "      <th>title</th>\n",
              "      <th>phone</th>\n",
              "      <th>is_bot</th>\n",
              "    </tr>\n",
              "  </thead>\n",
              "  <tbody>\n",
              "    <tr>\n",
              "      <th>0</th>\n",
              "      <td>USLACKBOT</td>\n",
              "      <td>slackbot</td>\n",
              "      <td>Slackbot</td>\n",
              "      <td>Slackbot</td>\n",
              "      <td></td>\n",
              "      <td></td>\n",
              "      <td>False</td>\n",
              "    </tr>\n",
              "    <tr>\n",
              "      <th>1</th>\n",
              "      <td>U01AT4T75JB</td>\n",
              "      <td>loclexuan26392</td>\n",
              "      <td>Loc Le Xuan</td>\n",
              "      <td>Loc Le Xuan</td>\n",
              "      <td></td>\n",
              "      <td></td>\n",
              "      <td>False</td>\n",
              "    </tr>\n",
              "    <tr>\n",
              "      <th>2</th>\n",
              "      <td>U01AVDY7JET</td>\n",
              "      <td>locle.ds</td>\n",
              "      <td>Loc Le Xuan</td>\n",
              "      <td>Loc Le Xuan</td>\n",
              "      <td></td>\n",
              "      <td></td>\n",
              "      <td>False</td>\n",
              "    </tr>\n",
              "    <tr>\n",
              "      <th>3</th>\n",
              "      <td>U01BE2PR6LU</td>\n",
              "      <td>maianhdang.ftu</td>\n",
              "      <td>MAD</td>\n",
              "      <td>Dặng Huỳnh Mai Anh</td>\n",
              "      <td>Technical Contents</td>\n",
              "      <td></td>\n",
              "      <td>False</td>\n",
              "    </tr>\n",
              "    <tr>\n",
              "      <th>4</th>\n",
              "      <td>U01C48T7S1J</td>\n",
              "      <td>huyenhoang.design</td>\n",
              "      <td>Thanh Huyen Hoang</td>\n",
              "      <td>Thanh Huyen Hoang</td>\n",
              "      <td></td>\n",
              "      <td></td>\n",
              "      <td>False</td>\n",
              "    </tr>\n",
              "  </tbody>\n",
              "</table>\n",
              "</div>"
            ],
            "text/plain": [
              "       user_id               name  ... phone is_bot\n",
              "0    USLACKBOT           slackbot  ...        False\n",
              "1  U01AT4T75JB     loclexuan26392  ...        False\n",
              "2  U01AVDY7JET           locle.ds  ...        False\n",
              "3  U01BE2PR6LU     maianhdang.ftu  ...        False\n",
              "4  U01C48T7S1J  huyenhoang.design  ...        False\n",
              "\n",
              "[5 rows x 7 columns]"
            ]
          },
          "metadata": {
            "tags": []
          },
          "execution_count": 9
        }
      ]
    },
    {
      "cell_type": "code",
      "metadata": {
        "colab": {
          "base_uri": "https://localhost:8080/",
          "height": 77
        },
        "id": "rjFcaWdt2ABM",
        "outputId": "b091a9b0-4cb6-438a-8d92-6dcbf72e0758"
      },
      "source": [
        "user_df[user_df.display_name == 'MAD'] ## Lọc thông tin của MAD, trên DataFrame (bạn có thể Google thêm)"
      ],
      "execution_count": 10,
      "outputs": [
        {
          "output_type": "execute_result",
          "data": {
            "text/html": [
              "<div>\n",
              "<style scoped>\n",
              "    .dataframe tbody tr th:only-of-type {\n",
              "        vertical-align: middle;\n",
              "    }\n",
              "\n",
              "    .dataframe tbody tr th {\n",
              "        vertical-align: top;\n",
              "    }\n",
              "\n",
              "    .dataframe thead th {\n",
              "        text-align: right;\n",
              "    }\n",
              "</style>\n",
              "<table border=\"1\" class=\"dataframe\">\n",
              "  <thead>\n",
              "    <tr style=\"text-align: right;\">\n",
              "      <th></th>\n",
              "      <th>user_id</th>\n",
              "      <th>name</th>\n",
              "      <th>display_name</th>\n",
              "      <th>real_name</th>\n",
              "      <th>title</th>\n",
              "      <th>phone</th>\n",
              "      <th>is_bot</th>\n",
              "    </tr>\n",
              "  </thead>\n",
              "  <tbody>\n",
              "    <tr>\n",
              "      <th>3</th>\n",
              "      <td>U01BE2PR6LU</td>\n",
              "      <td>maianhdang.ftu</td>\n",
              "      <td>MAD</td>\n",
              "      <td>Dặng Huỳnh Mai Anh</td>\n",
              "      <td>Technical Contents</td>\n",
              "      <td></td>\n",
              "      <td>False</td>\n",
              "    </tr>\n",
              "  </tbody>\n",
              "</table>\n",
              "</div>"
            ],
            "text/plain": [
              "       user_id            name display_name  ...               title phone is_bot\n",
              "3  U01BE2PR6LU  maianhdang.ftu          MAD  ...  Technical Contents        False\n",
              "\n",
              "[1 rows x 7 columns]"
            ]
          },
          "metadata": {
            "tags": []
          },
          "execution_count": 10
        }
      ]
    },
    {
      "cell_type": "markdown",
      "metadata": {
        "id": "1TZrcaWZyE07"
      },
      "source": [
        "-------------- HẾT PHẦN BẮT BUỘC ---------------------"
      ]
    },
    {
      "cell_type": "markdown",
      "metadata": {
        "id": "P3_b7zw-1A6s"
      },
      "source": [
        "## Option 1: Update data => Google SpreadSheet"
      ]
    },
    {
      "cell_type": "markdown",
      "metadata": {
        "id": "UPuXhw3WtmWw"
      },
      "source": [
        "### TODO#2\n",
        "Tạo service account (output là file json), file này để cho phép ta access vào Google Spreadsheet:\n",
        "\n",
        "1. Làm theo hướng dẫn: [Google Create a Service Account](https://support.google.com/a/answer/7378726?hl=en)\n",
        "![google_service_account](../img/google_service_account.png)\n",
        "2. Lưu file JSON (chứa credential về máy)\n",
        "![gservice_acc_json](../img/gservice_acc_json.png)\n",
        "3. Nhớ Enable [Google Drive API](https://console.cloud.google.com/marketplace/product/google/drive.googleapis.com?q=search&referrer=search&project=quickstart-313303) (Nếu bạn chạy code báo lỗi chưa enable API thì vào link trong phần lỗi để Enable, sau khi kích hoạt có thể cần vài phút để chạy được)\n",
        "![enable_api](../img/enable_api.png)\n",
        "* ==> Upload file Gsheet Credential JSON nếu bạn dùng Colab \n",
        "* ==> Nếu bạn để key trong repo git, **NHỚ** để file json vào `.gitignore` để không bị leaked key)"
      ]
    },
    {
      "cell_type": "code",
      "metadata": {
        "colab": {
          "base_uri": "https://localhost:8080/"
        },
        "id": "XhrcVjXWwldS",
        "outputId": "354518be-516f-4fc3-8707-403e4ba8be3e"
      },
      "source": [
        "!ls"
      ],
      "execution_count": null,
      "outputs": [
        {
          "output_type": "stream",
          "text": [
            "json  sample_data\n"
          ],
          "name": "stdout"
        }
      ]
    },
    {
      "cell_type": "code",
      "metadata": {
        "colab": {
          "base_uri": "https://localhost:8080/"
        },
        "id": "4NEQFu-DNvFC",
        "outputId": "d1c7648f-2c51-4562-f3e4-f481d8380e06"
      },
      "source": [
        "## Authorize bằng JSON\n",
        "scope = ['https://spreadsheets.google.com/feeds',\n",
        "         'https://www.googleapis.com/auth/drive']\n",
        "credentials = ServiceAccountCredentials.from_json_keyfile_name(\n",
        "    '/content/json/api-slack-huynh-tan-phuoc-73998bbc82a9.json', scope)\n",
        "gc = gspread.authorize(credentials)\n",
        "print(\"DONE!\")"
      ],
      "execution_count": null,
      "outputs": [
        {
          "output_type": "stream",
          "text": [
            "DONE!\n"
          ],
          "name": "stdout"
        }
      ]
    },
    {
      "cell_type": "markdown",
      "metadata": {
        "id": "HELBp0Sdxhzc"
      },
      "source": [
        "**Tạo Spreadsheet**\n",
        "\n",
        "1. Tạo Spreadsheet trên google\n",
        "2. Invite account trong `client_email` (file JSON Gsheet Credential bên trên) vào Spreadsheet (quyền Editor)\n",
        "![enable_api](../img/enable_api.png)\n",
        "3. Lấy `SPREADSHEET_KEY` (nằm trong chính URL của Spreadhstee): `https://docs.google.com/spreadsheets/d/<SPREADSHEET_KEY>/edit#gid=0`\n",
        "\n",
        "![add_gsheet](../img/add_gsheet.png)"
      ]
    },
    {
      "cell_type": "code",
      "metadata": {
        "id": "XlZ8JNB3bZbw"
      },
      "source": [
        "# ACCES GOOGLE SHEET\n",
        "sheet_index_no = 0\n",
        "spreadsheet_key = '1gS7e3EKn7NG-yhEKRbfwb-8gHqU3xPe5KL2L9XLgxiE' # input SPREADSHEET_KEY HERE\n",
        "sh = gc.open_by_key(spreadsheet_key)\n",
        "worksheet = sh.get_worksheet(sheet_index_no) #-> 0 - first sheet, 1 - second sheet etc. \n",
        "\n",
        "# APPEND DATA TO SHEET\n",
        "set_with_dataframe(worksheet, user_df) #-> Upload user_df vào Sheet đầu tiên trong Spreadsheet\n",
        "\n",
        "# DONE: Bây giờ bạn có thể mở spreadsheet và kiểm tra nội dung đã update chứ"
      ],
      "execution_count": null,
      "outputs": []
    },
    {
      "cell_type": "markdown",
      "metadata": {
        "id": "cVLbaF7flTMI"
      },
      "source": [
        "![slack_user_gsheet](../img/slack_user_gsheet.png)"
      ]
    },
    {
      "cell_type": "markdown",
      "metadata": {
        "id": "5I15m3ilyA3Y"
      },
      "source": [
        "-------------- HẾT PHẦN OPTION 1 ---------------------"
      ]
    },
    {
      "cell_type": "markdown",
      "metadata": {
        "id": "9aRN9KSczkmr"
      },
      "source": [
        "## Option 2: Ai đã nộp bài?\n"
      ]
    },
    {
      "cell_type": "markdown",
      "metadata": {
        "id": "Pw81ioUz2N0v"
      },
      "source": [
        "### Slack API: Channel List"
      ]
    },
    {
      "cell_type": "code",
      "metadata": {
        "id": "fcdaDaGdz60p"
      },
      "source": [
        "## Gọi SLACK API để list tất cả các channel\n",
        "endpoint = \"https://slack.com/api/conversations.list\"\n",
        "headers = {\"Authorization\": \"Bearer {}\".format(os.environ['SLACK_BEARER_TOKEN'])}\n",
        "response = requests.post(endpoint, headers=headers).json() \n",
        "channel_ls = response['channels']"
      ],
      "execution_count": 11,
      "outputs": []
    },
    {
      "cell_type": "code",
      "metadata": {
        "colab": {
          "base_uri": "https://localhost:8080/"
        },
        "id": "47dUJAPi0Jg5",
        "outputId": "0c535f54-c713-4635-ebbe-8012fe7f9dde"
      },
      "source": [
        "channel_ls[0] ## Thử extract record đầu tiên để xem schema  => name: general, id: C01B4PVGLVB"
      ],
      "execution_count": 12,
      "outputs": [
        {
          "output_type": "execute_result",
          "data": {
            "text/plain": [
              "{'created': 1600856703,\n",
              " 'creator': 'U01BE2PR6LU',\n",
              " 'id': 'C01B4PVGLVB',\n",
              " 'is_archived': False,\n",
              " 'is_channel': True,\n",
              " 'is_ext_shared': False,\n",
              " 'is_general': True,\n",
              " 'is_group': False,\n",
              " 'is_im': False,\n",
              " 'is_member': False,\n",
              " 'is_mpim': False,\n",
              " 'is_org_shared': False,\n",
              " 'is_pending_ext_shared': False,\n",
              " 'is_private': False,\n",
              " 'is_shared': False,\n",
              " 'name': 'general',\n",
              " 'name_normalized': 'general',\n",
              " 'num_members': 63,\n",
              " 'parent_conversation': None,\n",
              " 'pending_connected_team_ids': [],\n",
              " 'pending_shared': [],\n",
              " 'previous_names': [],\n",
              " 'purpose': {'creator': 'U01BE2PR6LU',\n",
              "  'last_set': 1600856703,\n",
              "  'value': 'This is the one channel that will always include everyone. It’s a great spot for announcements and team-wide conversations.'},\n",
              " 'shared_team_ids': ['T01B7SGGMLJ'],\n",
              " 'topic': {'creator': '', 'last_set': 0, 'value': ''},\n",
              " 'unlinked': 0}"
            ]
          },
          "metadata": {
            "tags": []
          },
          "execution_count": 12
        }
      ]
    },
    {
      "cell_type": "markdown",
      "metadata": {
        "id": "CNFTcFC00l8g"
      },
      "source": [
        "### TODO#3 \n",
        "* Tìm id của channel #atom-assignment2"
      ]
    },
    {
      "cell_type": "code",
      "metadata": {
        "colab": {
          "base_uri": "https://localhost:8080/"
        },
        "id": "R3PSoYNBtROa",
        "outputId": "00c64642-f674-4e6a-b58d-fd4d00e2f86d"
      },
      "source": [
        "for channel in channel_ls:\n",
        "  if channel['name'] == \"atom-assignment2\":\n",
        "    print(channel['id'])"
      ],
      "execution_count": 13,
      "outputs": [
        {
          "output_type": "stream",
          "text": [
            "C021FSDN7LJ\n"
          ],
          "name": "stdout"
        }
      ]
    },
    {
      "cell_type": "markdown",
      "metadata": {
        "id": "EnCvdYAn2R47"
      },
      "source": [
        "### Slack API: List messages trong 1 channel"
      ]
    },
    {
      "cell_type": "code",
      "metadata": {
        "id": "1UsSESN8rtnk"
      },
      "source": [
        "endpoint = \"https://slack.com/api/conversations.history\"\n",
        "data = {\"channel\": \"C01U6P7LZ8F\"} ## This is ID of assignment#1 channel\n",
        "headers = {\"Authorization\": \"Bearer {}\".format(os.environ['SLACK_BEARER_TOKEN'])}"
      ],
      "execution_count": 14,
      "outputs": []
    },
    {
      "cell_type": "code",
      "metadata": {
        "id": "i8eJw3LBr4lY"
      },
      "source": [
        "response_json = requests.post(endpoint, data=data, headers=headers).json()\n",
        "msg_ls = response_json['messages']"
      ],
      "execution_count": 15,
      "outputs": []
    },
    {
      "cell_type": "code",
      "metadata": {
        "colab": {
          "base_uri": "https://localhost:8080/"
        },
        "id": "KkYO1KcBtZa9",
        "outputId": "6d080c90-f4d8-4b01-973e-278952cc7c66"
      },
      "source": [
        "msg_ls[21]"
      ],
      "execution_count": null,
      "outputs": [
        {
          "output_type": "execute_result",
          "data": {
            "text/plain": [
              "{'attachments': [{'app_unfurl_url': 'https://github.com/vietqh/datacracy-atom-HoangQuocViet',\n",
              "   'bot_id': 'B01UQU8E2A3',\n",
              "   'color': '24292f',\n",
              "   'fallback': 'vietqh/datacracy-atom-HoangQuocViet',\n",
              "   'fields': [{'short': True,\n",
              "     'title': 'Language',\n",
              "     'value': 'Jupyter Notebook'},\n",
              "    {'short': True, 'title': 'Last updated', 'value': '28 minutes ago'}],\n",
              "   'id': 1,\n",
              "   'is_app_unfurl': True,\n",
              "   'title': 'vietqh/datacracy-atom-HoangQuocViet'}],\n",
              " 'blocks': [{'block_id': 'EHA',\n",
              "   'elements': [{'elements': [{'text': 'Chào mọi người, mình gửi assignment 1: Task 1:\\xa0',\n",
              "       'type': 'text'},\n",
              "      {'type': 'link',\n",
              "       'url': 'https://docs.google.com/spreadsheets/d/1O3sH0lT7hPcR2AWq9MYkGmbdnK1oNPgBgNdcHcaoQrU/edit#gid=1677392585'},\n",
              "      {'text': '\\xa0\\nTask 2:\\xa0', 'type': 'text'},\n",
              "      {'type': 'link',\n",
              "       'url': 'https://colab.research.google.com/drive/1wmEYMAaGCw0OzSzOVLD9rwxvkk8gr4z5#scrollTo=2BGRX19L6fgb'},\n",
              "      {'text': '\\xa0\\nTask 3:\\xa0', 'type': 'text'},\n",
              "      {'type': 'link',\n",
              "       'url': 'https://github.com/vietqh/datacracy-atom-HoangQuocViet'}],\n",
              "     'type': 'rich_text_section'}],\n",
              "   'type': 'rich_text'}],\n",
              " 'client_msg_id': '16a573fd-377c-4713-9045-818f1fe64ae4',\n",
              " 'is_locked': False,\n",
              " 'latest_reply': '1620991326.023600',\n",
              " 'reactions': [{'count': 2,\n",
              "   'name': 'construction',\n",
              "   'users': ['U01UTGS5ZNY', 'U01V00P4S2V']}],\n",
              " 'reply_count': 1,\n",
              " 'reply_users': ['U01V00P4S2V'],\n",
              " 'reply_users_count': 1,\n",
              " 'subscribed': False,\n",
              " 'team': 'T01B7SGGMLJ',\n",
              " 'text': 'Chào mọi người, mình gửi assignment 1: Task 1:\\xa0<https://docs.google.com/spreadsheets/d/1O3sH0lT7hPcR2AWq9MYkGmbdnK1oNPgBgNdcHcaoQrU/edit#gid=1677392585>\\xa0\\nTask 2:\\xa0<https://colab.research.google.com/drive/1wmEYMAaGCw0OzSzOVLD9rwxvkk8gr4z5#scrollTo=2BGRX19L6fgb>\\xa0\\nTask 3:\\xa0<https://github.com/vietqh/datacracy-atom-HoangQuocViet>',\n",
              " 'thread_ts': '1619226537.041400',\n",
              " 'ts': '1619226537.041400',\n",
              " 'type': 'message',\n",
              " 'user': 'U01U6JM6LEB'}"
            ]
          },
          "metadata": {
            "tags": []
          },
          "execution_count": 46
        }
      ]
    },
    {
      "cell_type": "code",
      "metadata": {
        "id": "BsW8CXAXv-tC"
      },
      "source": [
        "not_learners_id = ['U01BE2PR6LU']"
      ],
      "execution_count": null,
      "outputs": []
    },
    {
      "cell_type": "code",
      "metadata": {
        "colab": {
          "base_uri": "https://localhost:8080/",
          "height": 279
        },
        "id": "XOvJ5kGCsmAD",
        "outputId": "edc0eaa3-1371-409c-ec30-401e9cec0c27"
      },
      "source": [
        "## Summarize all submitted assignments + reviews cnt\n",
        "not_learners_id = ['U01BE2PR6LU'] # -> Remove MA from the user_id\n",
        "github, reply_count, reply_users_count, reply_users, latest_reply = '','','','',''\n",
        "msg_dict = {'ts': [], 'user': [], 'reply_count': [], 'reply_users_count': [], 'reply_users': [], 'latest_reply': [], 'github': []}\n",
        "for i in range(len(msg_ls)):\n",
        "  ts = dt.fromtimestamp(float(msg_ls[i]['ts'])) # -> Convert timestamp Epoch thành dạng dễ đọc\n",
        "  user = msg_ls[i]['user'] # -> Lấy thông tin người post messages\n",
        "  if msg_ls[i]['user'] not in not_learners_id:\n",
        "    if 'attachments' in msg_ls[i].keys():\n",
        "      # print(msg_ls[i].keys())\n",
        "      text = msg_ls[i]['text']\n",
        "      github_link = re.findall('(?:https?://)?(?:www[.])?github[.]com/[\\w-]+/?', text) #-> Submission là các message có link github\n",
        "      # print(msg_ls[i])\n",
        "      if len(github_link) > 0: github = github_link[0]\n",
        "      if 'reply_count' in msg_ls[i].keys(): reply_count = msg_ls[i]['reply_count'] #-> Extract số review\n",
        "      if 'reply_users_count' in msg_ls[i].keys(): reply_users_count = msg_ls[i]['reply_users_count']\n",
        "      if 'reply_users' in msg_ls[i].keys(): reply_users = msg_ls[i]['reply_users']\n",
        "      if 'latest_reply' in msg_ls[i].keys(): latest_reply = dt.fromtimestamp(float(msg_ls[i]['latest_reply']))\n",
        "      tuples = (ts, user, reply_count, reply_users_count, reply_users, latest_reply, github)\n",
        "      msg_dict['ts'].append(ts)\n",
        "      msg_dict['user'].append(user)\n",
        "      msg_dict['reply_count'].append(reply_count)\n",
        "      msg_dict['reply_users_count'].append(reply_users_count)\n",
        "      msg_dict['reply_users'].append(reply_users)\n",
        "      msg_dict['latest_reply'].append(latest_reply)\n",
        "      msg_dict['github'].append(github)\n",
        "\n",
        "msg_df = pd.DataFrame(msg_dict)\n",
        "msg_df.head(5)"
      ],
      "execution_count": 40,
      "outputs": [
        {
          "output_type": "execute_result",
          "data": {
            "text/html": [
              "<div>\n",
              "<style scoped>\n",
              "    .dataframe tbody tr th:only-of-type {\n",
              "        vertical-align: middle;\n",
              "    }\n",
              "\n",
              "    .dataframe tbody tr th {\n",
              "        vertical-align: top;\n",
              "    }\n",
              "\n",
              "    .dataframe thead th {\n",
              "        text-align: right;\n",
              "    }\n",
              "</style>\n",
              "<table border=\"1\" class=\"dataframe\">\n",
              "  <thead>\n",
              "    <tr style=\"text-align: right;\">\n",
              "      <th></th>\n",
              "      <th>ts</th>\n",
              "      <th>user</th>\n",
              "      <th>reply_count</th>\n",
              "      <th>reply_users_count</th>\n",
              "      <th>reply_users</th>\n",
              "      <th>latest_reply</th>\n",
              "      <th>github</th>\n",
              "    </tr>\n",
              "  </thead>\n",
              "  <tbody>\n",
              "    <tr>\n",
              "      <th>0</th>\n",
              "      <td>2021-05-10 04:51:46.004700</td>\n",
              "      <td>U01UJ9LG5U5</td>\n",
              "      <td>2</td>\n",
              "      <td>2</td>\n",
              "      <td>[U01USGKQ771, U01V00KHHHP]</td>\n",
              "      <td>2021-05-15 09:14:31.003600</td>\n",
              "      <td>https://github.com/danhpcv/</td>\n",
              "    </tr>\n",
              "    <tr>\n",
              "      <th>1</th>\n",
              "      <td>2021-05-10 04:35:39.003800</td>\n",
              "      <td>U01UMC08KL2</td>\n",
              "      <td>2</td>\n",
              "      <td>2</td>\n",
              "      <td>[U01UTGS5ZNY, U01UMC08KL2]</td>\n",
              "      <td>2021-05-18 08:09:59.000800</td>\n",
              "      <td>https://github.com/auslynnguyen/</td>\n",
              "    </tr>\n",
              "    <tr>\n",
              "      <th>2</th>\n",
              "      <td>2021-05-08 06:31:59.005200</td>\n",
              "      <td>U01UMJ36QD9</td>\n",
              "      <td>1</td>\n",
              "      <td>1</td>\n",
              "      <td>[U01UMBX2X18]</td>\n",
              "      <td>2021-05-08 06:36:43.006000</td>\n",
              "      <td>https://github.com/auslynnguyen/</td>\n",
              "    </tr>\n",
              "    <tr>\n",
              "      <th>3</th>\n",
              "      <td>2021-05-04 13:55:46.001800</td>\n",
              "      <td>U01UTGVPE7N</td>\n",
              "      <td>1</td>\n",
              "      <td>1</td>\n",
              "      <td>[U01UMBX2X18]</td>\n",
              "      <td>2021-05-08 06:36:43.006000</td>\n",
              "      <td>https://github.com/hoaintp/</td>\n",
              "    </tr>\n",
              "    <tr>\n",
              "      <th>4</th>\n",
              "      <td>2021-05-03 17:41:18.002400</td>\n",
              "      <td>U01U6JQB695</td>\n",
              "      <td>2</td>\n",
              "      <td>2</td>\n",
              "      <td>[U01UMC0N5U2, U01U6JQB695]</td>\n",
              "      <td>2021-05-11 03:10:06.001300</td>\n",
              "      <td>https://github.com/Tenderriver/</td>\n",
              "    </tr>\n",
              "  </tbody>\n",
              "</table>\n",
              "</div>"
            ],
            "text/plain": [
              "                          ts  ...                            github\n",
              "0 2021-05-10 04:51:46.004700  ...       https://github.com/danhpcv/\n",
              "1 2021-05-10 04:35:39.003800  ...  https://github.com/auslynnguyen/\n",
              "2 2021-05-08 06:31:59.005200  ...  https://github.com/auslynnguyen/\n",
              "3 2021-05-04 13:55:46.001800  ...       https://github.com/hoaintp/\n",
              "4 2021-05-03 17:41:18.002400  ...   https://github.com/Tenderriver/\n",
              "\n",
              "[5 rows x 7 columns]"
            ]
          },
          "metadata": {
            "tags": []
          },
          "execution_count": 40
        }
      ]
    },
    {
      "cell_type": "markdown",
      "metadata": {
        "id": "SgSC21qO3kKA"
      },
      "source": [
        "### TODO#4\n",
        "* Tạo thành 1 bảng chứa các thông tin trên và update lên Spreadsheet (Sheet: Assignment#2 Submission)"
      ]
    },
    {
      "cell_type": "code",
      "metadata": {
        "colab": {
          "base_uri": "https://localhost:8080/"
        },
        "id": "zamxU-xZQHH3",
        "outputId": "a99b1a6f-6da8-463d-84ef-a4f2d518c19d"
      },
      "source": [
        "## Authorize bằng JSON\n",
        "scope = ['https://spreadsheets.google.com/feeds',\n",
        "         'https://www.googleapis.com/auth/drive']\n",
        "credentials = ServiceAccountCredentials.from_json_keyfile_name(\n",
        "    '/content/json/api-slack-huynh-tan-phuoc-73998bbc82a9.json', scope)\n",
        "gc = gspread.authorize(credentials)\n",
        "print(\"DONE!\")"
      ],
      "execution_count": 41,
      "outputs": [
        {
          "output_type": "stream",
          "text": [
            "DONE!\n"
          ],
          "name": "stdout"
        }
      ]
    },
    {
      "cell_type": "code",
      "metadata": {
        "id": "TWznMK9eQVid"
      },
      "source": [
        "# ACCES GOOGLE SHEET\n",
        "sheet_index_no = 1\n",
        "spreadsheet_key = '1gS7e3EKn7NG-yhEKRbfwb-8gHqU3xPe5KL2L9XLgxiE' # input SPREADSHEET_KEY HERE\n",
        "sh = gc.open_by_key(spreadsheet_key)\n",
        "worksheet = sh.get_worksheet(sheet_index_no) #-> 0 - first sheet, 1 - second sheet etc. \n",
        "\n",
        "# APPEND DATA TO SHEET\n",
        "set_with_dataframe(worksheet, msg_df) #-> Upload user_df vào Sheet đầu tiên trong Spreadsheet\n",
        "\n",
        "# DONE: Bây giờ bạn có thể mở spreadsheet và kiểm tra nội dung đã update chứ"
      ],
      "execution_count": 42,
      "outputs": []
    },
    {
      "source": [
        "## Link Google spredsheet cho Optional 1 + 2: [https://docs.google.com/spreadsheets/d/1gS7e3EKn7NG-yhEKRbfwb-8gHqU3xPe5KL2L9XLgxiE/edit#gid=952416511]"
      ],
      "cell_type": "markdown",
      "metadata": {
        "id": "698exK3k35RM"
      }
    }
  ]
}