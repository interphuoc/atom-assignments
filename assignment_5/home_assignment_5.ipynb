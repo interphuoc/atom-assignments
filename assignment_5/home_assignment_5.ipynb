{
  "nbformat": 4,
  "nbformat_minor": 0,
  "metadata": {
    "colab": {
      "name": "home_assignment_5.ipynb",
      "provenance": [],
      "toc_visible": true
    },
    "kernelspec": {
      "name": "python385jvsc74a57bd0d3a9169e6a0826ab97b7fa6776a61c6dd096cb31175edea00c3476617da888fe",
      "display_name": "Python 3.8.5 64-bit ('base': conda)"
    },
    "language_info": {
      "name": "python",
      "version": "3.8.5"
    }
  },
  "cells": [
    {
      "cell_type": "markdown",
      "metadata": {
        "id": "sQ8jh5aiy8zo"
      },
      "source": [
        "# HOME ASSIGNMENT #5: BIGQUERY SQL & PYTHON PANDAS\n",
        "\n",
        "**Mục đích của bài Assignment**\n",
        "> *  Upload Data từ Google Spreadsheet lên BigQuery và thao tác data với SQL\n",
        "*  Thao tác với data bằng Pandas\n",
        "*   `[Optional]` Data Visualization on Python\n",
        "\n",
        "**Các kiến thức áp dụng**\n",
        "* Slack API, JSON to DataFrame\n",
        "* Google Spreadsheet to BigQuery\n",
        "* SQL\n",
        "* Python Pandas\n",
        "\n",
        "**Lời Khuyên**\n",
        "* Đây là bài tập nhẹ nhàng hơn các tuần trước\n",
        "* Các bạn dành thời gian ôn lại và xâu chuỗi kiến thức"
      ]
    },
    {
      "cell_type": "markdown",
      "metadata": {
        "id": "t28PUQoNzy1k"
      },
      "source": [
        "# TODO 1: BIGQUERY & SQL\n",
        "* Làm theo Lab của Week 5: [HERE](https://anhdang.gitbook.io/datacracy/atom/5-sql-and-database-design/5.2-lab-upload-data-tu-google-sheet-to-bigquery)"
      ]
    },
    {
      "cell_type": "code",
      "metadata": {
        "id": "2QUVZlLm00PG"
      },
      "source": [
        "# Import Library\n",
        "import requests #-> Để gọi API\n",
        "import re #-> Để xử lý data dạng string\n",
        "from datetime import datetime as dt #-> Để xử lý data dạng datetime\n",
        "import gspread #-> Để update data lên Google Spreadsheet\n",
        "from gspread_dataframe import set_with_dataframe #-> Để update data lên Google Spreadsheet\n",
        "import pandas as pd #-> Để update data dạng bản\n",
        "import json \n",
        "from oauth2client.service_account import ServiceAccountCredentials #-> Để nhập Google Spreadsheet Credentials\n",
        "import os\n",
        "import numpy as np"
      ],
      "execution_count": 1,
      "outputs": []
    },
    {
      "cell_type": "code",
      "metadata": {
        "id": "u5c_Lx9MyzSF"
      },
      "source": [
        "# (1) Code để pull Slack Data\n",
        "with open('env_variable.json', 'r') as j:\n",
        "    json_data = json.load(j)"
      ],
      "execution_count": 2,
      "outputs": []
    },
    {
      "cell_type": "code",
      "metadata": {
        "id": "Yezi9dZv0yjG"
      },
      "source": [
        "# Code để upload data lên Gsheet\n",
        "# 1. LIST OF SLACK MEMBERS \n",
        "\n",
        "## Pull list of member as JSON\n",
        "## Gọi API từ Endpoints (Input - Token được đưa vào Headers)\n",
        "endpoint = \"https://slack.com/api/users.list\"\n",
        "headers = {\"Authorization\": \"Bearer {}\".format(json_data['SLACK_BEARER_TOKEN'])}\n",
        "response_json = requests.post(endpoint, headers=headers).json() \n",
        "user_dat = response_json['members']\n",
        "\n",
        "## Convert to CSV\n",
        "user_dict = {'user_id':[],'name':[],'display_name':[],'real_name':[],'title':[],'is_bot':[]}\n",
        "for i in range(len(user_dat)):\n",
        "  user_dict['user_id'].append(user_dat[i]['id'])\n",
        "  user_dict['name'].append(user_dat[i]['name'])\n",
        "  user_dict['display_name'].append(user_dat[i]['profile']['display_name'])\n",
        "  user_dict['real_name'].append(user_dat[i]['profile']['real_name_normalized'])\n",
        "  user_dict['title'].append(user_dat[i]['profile']['title'])\n",
        "  user_dict['is_bot'].append(user_dat[i]['is_bot'])\n",
        "\n",
        "user_df = pd.DataFrame(user_dict) \n",
        "user_df = user_df.replace('', np.nan) # -> replace khoảng trắng bằng giá trị NULL (nan)"
      ],
      "execution_count": 3,
      "outputs": []
    },
    {
      "cell_type": "code",
      "execution_count": 4,
      "metadata": {},
      "outputs": [],
      "source": [
        "# 2. LIST OF SLACK CHANNELS\n",
        "endpoint2 = \"https://slack.com/api/conversations.list\"\n",
        "data = {'types': 'public_channel,private_channel'} # -> CHECK: API Docs https://api.slack.com/methods/conversations.list/test\n",
        "response_json = requests.post(endpoint2, headers=headers, data=data).json() \n",
        "channel_dat = response_json['channels']\n",
        "\n",
        "channel_dict = {'channel_id':[], 'channel_name':[], 'is_channel':[],'creator':[],'created_at':[],'topics':[],'purpose':[],'num_members':[]}\n",
        "for i in range(len(channel_dat)):\n",
        "  channel_dict['channel_id'].append(channel_dat[i]['id'])\n",
        "  channel_dict['channel_name'].append(channel_dat[i]['name'])\n",
        "  channel_dict['is_channel'].append(channel_dat[i]['is_channel'])\n",
        "  channel_dict['creator'].append(channel_dat[i]['creator'])\n",
        "  channel_dict['created_at'].append(dt.fromtimestamp(float(channel_dat[i]['created'])))\n",
        "  channel_dict['topics'].append(channel_dat[i]['topic']['value'])\n",
        "  channel_dict['purpose'].append(channel_dat[i]['purpose']['value'])\n",
        "  channel_dict['num_members'].append(channel_dat[i]['num_members'])\n",
        "\n",
        "channel_df = pd.DataFrame(channel_dict) \n",
        "channel_df = channel_df.replace('', np.nan) # -> replace khoảng trắng bằng giá trị NULL (nan)"
      ]
    },
    {
      "cell_type": "code",
      "execution_count": 5,
      "metadata": {},
      "outputs": [
        {
          "output_type": "stream",
          "name": "stdout",
          "text": [
            "Channel ID: C01B4PVGLVB - Channel Name: general\n",
            "====> {'ok': False, 'error': 'not_in_channel'}\n",
            "Channel ID: C01BYH7JHB5 - Channel Name: contents\n",
            "====> {'ok': False, 'error': 'not_in_channel'}\n",
            "Channel ID: C01CAMNCJJV - Channel Name: branding-design\n",
            "====> {'ok': False, 'error': 'not_in_channel'}\n",
            "Channel ID: C01U6P7LZ8F - Channel Name: atom-assignment1\n",
            "Channel ID: C01UL6K1C7L - Channel Name: atom-week1\n",
            "Channel ID: C01ULCHGN75 - Channel Name: atom-general\n",
            "====> {'ok': False, 'error': 'not_in_channel'}\n",
            "Channel ID: C020VMT58JK - Channel Name: topics-data-analytics\n",
            "====> {'ok': False, 'error': 'not_in_channel'}\n",
            "Channel ID: C0213MNH9L6 - Channel Name: topics-python\n",
            "====> {'ok': False, 'error': 'not_in_channel'}\n",
            "Channel ID: C0213N56M2A - Channel Name: topics-materials\n",
            "====> {'ok': False, 'error': 'not_in_channel'}\n",
            "Channel ID: C021FSDN7LJ - Channel Name: atom-assignment2\n",
            "Channel ID: C021KLB0DSB - Channel Name: discuss-group3\n",
            "Channel ID: C021KLB90GP - Channel Name: discuss-group4\n",
            "Channel ID: C02204B2CD6 - Channel Name: atom-week2\n",
            "Channel ID: C0220KU9399 - Channel Name: discuss-group1\n",
            "Channel ID: C0226D3LEQ4 - Channel Name: atom-week3\n",
            "Channel ID: C0227A51SAY - Channel Name: atom-assignment3\n",
            "Channel ID: C022Q7TGRLG - Channel Name: discuss-group2\n",
            "Channel ID: C022RRWQ6US - Channel Name: atom-assignment4\n",
            "Channel ID: C022Y1FUETE - Channel Name: atom-week4\n",
            "Channel ID: C023UJGMDND - Channel Name: atom-assignment5\n",
            "Channel ID: C0245PZUFSL - Channel Name: atom-week5\n"
          ]
        }
      ],
      "source": [
        "# 3. Message Data\n",
        "endpoint3 = \"https://slack.com/api/conversations.history\"\n",
        "msg_dict = {'channel_id':[],'msg_id':[], 'msg_ts':[], 'user_id':[], 'latest_reply':[],'reply_user_count':[],'reply_users':[],'github_link':[]}\n",
        "for channel_id, channel_name in zip(channel_df['channel_id'], channel_df['channel_name']):\n",
        "  print('Channel ID: {} - Channel Name: {}'.format(channel_id, channel_name))\n",
        "  try:\n",
        "    data = {\"channel\": channel_id} \n",
        "    response_json = requests.post(endpoint3, data=data, headers=headers).json()\n",
        "    msg_ls = response_json['messages']\n",
        "    for i in range(len(msg_ls)):\n",
        "      if 'client_msg_id' in msg_ls[i].keys():\n",
        "        msg_dict['channel_id'].append(channel_id)\n",
        "        msg_dict['msg_id'].append(msg_ls[i]['client_msg_id'])\n",
        "        msg_dict['msg_ts'].append(dt.fromtimestamp(float(msg_ls[i]['ts'])))\n",
        "        msg_dict['latest_reply'].append(dt.fromtimestamp(float(msg_ls[i]['latest_reply'] if 'latest_reply' in msg_ls[i].keys() else 0))) ## -> No reply: 1970-01-01\n",
        "        msg_dict['user_id'].append(msg_ls[i]['user'])\n",
        "        msg_dict['reply_user_count'].append(msg_ls[i]['reply_users_count'] if 'reply_users_count' in msg_ls[i].keys() else 0)\n",
        "        msg_dict['reply_users'].append(msg_ls[i]['reply_users'] if 'reply_users' in msg_ls[i].keys() else 0) \n",
        "        ## -> Censor message contains tokens\n",
        "        text = msg_ls[i]['text']\n",
        "        github_link = re.findall('(?:https?://)?(?:www[.])?github[.]com/[\\w-]+/?', text)\n",
        "        msg_dict['github_link'].append(github_link[0] if len(github_link) > 0 else np.nan)\n",
        "  except:\n",
        "    print('====> '+ str(response_json))\n",
        "  \n",
        "msg_df = pd.DataFrame(msg_dict)\n",
        "msg_df = msg_df.replace('', np.nan) # -> replace khoảng trắng bằng giá trị NULL (nan)"
      ]
    },
    {
      "cell_type": "code",
      "execution_count": 6,
      "metadata": {},
      "outputs": [],
      "source": [
        "# 4. DTC_groups data\n",
        "dtc_groups = pd.read_csv('datacracy_groups.csv')"
      ]
    },
    {
      "cell_type": "code",
      "execution_count": 7,
      "metadata": {},
      "outputs": [
        {
          "output_type": "stream",
          "name": "stdout",
          "text": [
            "DONE!\n"
          ]
        }
      ],
      "source": [
        "## Authorize bằng JSON\n",
        "scope = ['https://spreadsheets.google.com/feeds',\n",
        "         'https://www.googleapis.com/auth/drive']\n",
        "credentials = ServiceAccountCredentials.from_json_keyfile_name(\n",
        "    'api-slack-huynh-tan-phuoc-73998bbc82a9.json', scope)\n",
        "gc = gspread.authorize(credentials)\n",
        "print(\"DONE!\")"
      ]
    },
    {
      "cell_type": "code",
      "execution_count": 9,
      "metadata": {},
      "outputs": [],
      "source": [
        "# ACCES GOOGLE SHEET\n",
        "spreadsheet_key = '1sX-0rAKZYM1cQyH7HWzTPxoPD0qo-zJd_PrgCPoRRBs' # input SPREADSHEET_KEY HERE\n",
        "sh = gc.open_by_key(spreadsheet_key)\n",
        "df = [user_df, channel_df, msg_df, dtc_groups]\n",
        "for sheet_index_no in range(len(df)):\n",
        "    worksheet = sh.get_worksheet(sheet etc. x_no]) #-> Upload user_df vào Sheet 0, 1 - etc"
      ]
    },
    {
      "source": [
        "### Link tới Gsheet: https://docs.google.com/spreadsheets/d/1sX-0rAKZYM1cQyH7HWzTPxoPD0qo-zJd_PrgCPoRRBs/edit#gid=0"
      ],
      "cell_type": "markdown",
      "metadata": {}
    },
    {
      "source": [
        "![query](../img/query.PNG)"
      ],
      "cell_type": "markdown",
      "metadata": {}
    },
    {
      "cell_type": "code",
      "metadata": {
        "id": "AT8nyCvJ1S0f"
      },
      "source": [
        "# Copy các link Kaggle sau:\n",
        "## 1. Link tới Kaggle Account của bạn -----> https://www.kaggle.com/interphuoc0101\n",
        "## 2. Link tới các bài tập\n",
        "## Pandas 1: ---> https://www.kaggle.com/interphuoc0101/exercise-creating-reading-and-writing\n",
        "## Pandas 2: ---> https://www.kaggle.com/interphuoc0101/exercise-indexing-selecting-assigning\n",
        "## Pandas 3: ---> https://www.kaggle.com/interphuoc0101/exercise-summary-functions-and-maps\n",
        "## Pandas 4: ---> https://www.kaggle.com/interphuoc0101/exercise-grouping-and-sorting\n",
        "## Pandas 5: ---> https://www.kaggle.com/interphuoc0101/exercise-data-types-and-missing-values\n",
        "## Pandas 6: ---> https://www.kaggle.com/interphuoc0101/exercise-renaming-and-combining"
      ],
      "execution_count": 3,
      "outputs": []
    },
    {
      "cell_type": "markdown",
      "metadata": {
        "id": "6UnUqfZO5Hbf"
      },
      "source": [
        "# TODO 3: Python Pandas \n",
        "Trở lại TODO7 [Assignment#4](https://github.com/anhdanggit/atom-assignments/blob/main/assignment_4/home_assignment_4.ipynb) (nếu bạn chưa hoàn thành)"
      ]
    },
    {
      "cell_type": "code",
      "metadata": {
        "id": "UccXW_FH4Glg"
      },
      "source": [
        "# 2. Learner nào nộp bài trễ nhất trong Assignment 1, 2, 3?\n",
        "# Dùng Python pandas\n",
        "step_1 = pd.merge(msg_df, channel_df, how='left', on='channel_id')\n",
        "step_2 = pd.merge(step_1, user_df, how='left', on='user_id')\n",
        "step_3 = pd.merge(step_2, dtc_groups, how='left', on='name')\n",
        "step_4 = step_3[step_3['github_link'].notnull()]\n",
        "step_5 = step_4.loc[step_4['channel_name'].str.startswith('atom-assignment')]\n",
        "step_6 = step_5.loc[~step_5['channel_name'].str.startswith('atom-assignment4')]\n",
        "step_7 = step_6.loc[step_6['DataCracy_role'].str.startswith('Learner')]\n",
        "step_8 = step_7.groupby(['channel_id', 'channel_name'])['msg_ts'].max().reset_index()\n",
        "step_9 = pd.merge(step_8, msg_df, how='left', on='msg_ts')\n",
        "step_10 = pd.merge(step_9, user_df, how='left', on='user_id')\n",
        "step_11 = pd.merge(step_10, dtc_groups, how='left', on='name')\n",
        "final = step_11.drop(columns=['msg_id', 'latest_reply', 'channel_id_y', 'reply_user_count', 'reply_users', 'display_name', 'real_name', 'title', 'is_bot'])\n",
        "final"
      ],
      "execution_count": 19,
      "outputs": [
        {
          "output_type": "execute_result",
          "data": {
            "text/plain": [
              "  channel_id_x      channel_name                     msg_ts      user_id  \\\n",
              "0  C01U6P7LZ8F  atom-assignment1 2021-05-10 11:51:46.004700  U01UJ9LG5U5   \n",
              "1  C021FSDN7LJ  atom-assignment2 2021-05-22 12:39:34.015500  U01UTGRMGEQ   \n",
              "2  C0227A51SAY  atom-assignment3 2021-05-27 22:30:16.003200  U01USGKQ771   \n",
              "\n",
              "                              github_link                 name DataCracy_role  \n",
              "0             https://github.com/danhpcv/              danhpcv    Learner_Gr3  \n",
              "1  https://github.com/nguyenhonghanh2511/  hanh.nguyenhong2511    Learner_Gr4  \n",
              "2        https://github.com/TrangNgo1709/        trang.ngo1709    Learner_Gr1  "
            ],
            "text/html": "<div>\n<style scoped>\n    .dataframe tbody tr th:only-of-type {\n        vertical-align: middle;\n    }\n\n    .dataframe tbody tr th {\n        vertical-align: top;\n    }\n\n    .dataframe thead th {\n        text-align: right;\n    }\n</style>\n<table border=\"1\" class=\"dataframe\">\n  <thead>\n    <tr style=\"text-align: right;\">\n      <th></th>\n      <th>channel_id_x</th>\n      <th>channel_name</th>\n      <th>msg_ts</th>\n      <th>user_id</th>\n      <th>github_link</th>\n      <th>name</th>\n      <th>DataCracy_role</th>\n    </tr>\n  </thead>\n  <tbody>\n    <tr>\n      <th>0</th>\n      <td>C01U6P7LZ8F</td>\n      <td>atom-assignment1</td>\n      <td>2021-05-10 11:51:46.004700</td>\n      <td>U01UJ9LG5U5</td>\n      <td>https://github.com/danhpcv/</td>\n      <td>danhpcv</td>\n      <td>Learner_Gr3</td>\n    </tr>\n    <tr>\n      <th>1</th>\n      <td>C021FSDN7LJ</td>\n      <td>atom-assignment2</td>\n      <td>2021-05-22 12:39:34.015500</td>\n      <td>U01UTGRMGEQ</td>\n      <td>https://github.com/nguyenhonghanh2511/</td>\n      <td>hanh.nguyenhong2511</td>\n      <td>Learner_Gr4</td>\n    </tr>\n    <tr>\n      <th>2</th>\n      <td>C0227A51SAY</td>\n      <td>atom-assignment3</td>\n      <td>2021-05-27 22:30:16.003200</td>\n      <td>U01USGKQ771</td>\n      <td>https://github.com/TrangNgo1709/</td>\n      <td>trang.ngo1709</td>\n      <td>Learner_Gr1</td>\n    </tr>\n  </tbody>\n</table>\n</div>"
          },
          "metadata": {},
          "execution_count": 19
        }
      ]
    },
    {
      "cell_type": "markdown",
      "metadata": {
        "id": "QeIP-hoC6Sw5"
      },
      "source": [
        "# TODO 4 (OPTIONAL): Python Data Viz\n",
        "Coi tutorial và làm nhiều nhất có thể các sets bài tập trên [Kaggle Data Visualization](https://www.kaggle.com/learn/data-visualization)"
      ]
    },
    {
      "cell_type": "code",
      "metadata": {
        "id": "Y5EvynsA6RrX"
      },
      "source": [
        "# Copy Link tới các bài tập\n",
        "## DataViz 1: ---> https://www.kaggle.com/interphuoc0101/exercise-hello-seaborn\n",
        "## DataViz 2: ---> https://www.kaggle.com/interphuoc0101/exercise-line-charts\n",
        "## DataViz 3: ---> https://www.kaggle.com/interphuoc0101/exercise-bar-charts-and-heatmaps\n",
        "## DataViz 4: ---> https://www.kaggle.com/interphuoc0101/exercise-scatter-plots\n",
        "## DataViz 5: ---> https://www.kaggle.com/interphuoc0101/exercise-distributions\n",
        "## DataViz 6: ---> https://www.kaggle.com/interphuoc0101/exercise-choosing-plot-types-and-custom-styles\n",
        "## DataViz 7: ---> https://www.kaggle.com/interphuoc0101/exercise-final-project"
      ],
      "execution_count": null,
      "outputs": []
    }
  ]
}